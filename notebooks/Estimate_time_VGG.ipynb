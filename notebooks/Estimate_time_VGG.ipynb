{
 "cells": [
  {
   "cell_type": "code",
   "execution_count": 1,
   "id": "5242a8e4",
   "metadata": {},
   "outputs": [
    {
     "name": "stderr",
     "output_type": "stream",
     "text": [
      "2025-04-28 11:17:04.423175: E external/local_xla/xla/stream_executor/cuda/cuda_fft.cc:477] Unable to register cuFFT factory: Attempting to register factory for plugin cuFFT when one has already been registered\n",
      "WARNING: All log messages before absl::InitializeLog() is called are written to STDERR\n",
      "E0000 00:00:1745839026.569013   41241 cuda_dnn.cc:8310] Unable to register cuDNN factory: Attempting to register factory for plugin cuDNN when one has already been registered\n",
      "E0000 00:00:1745839027.151794   41241 cuda_blas.cc:1418] Unable to register cuBLAS factory: Attempting to register factory for plugin cuBLAS when one has already been registered\n",
      "2025-04-28 11:17:12.522681: I tensorflow/core/platform/cpu_feature_guard.cc:210] This TensorFlow binary is optimized to use available CPU instructions in performance-critical operations.\n",
      "To enable the following instructions: AVX2 FMA, in other operations, rebuild TensorFlow with the appropriate compiler flags.\n"
     ]
    }
   ],
   "source": [
    "import tensorflow as tf\n",
    "import librosa\n",
    "import numpy as np\n",
    "import time"
   ]
  },
  {
   "cell_type": "code",
   "execution_count": 2,
   "id": "38fcaeed",
   "metadata": {},
   "outputs": [],
   "source": [
    "# ==== Cấu Hình ====\n",
    "SAMPLE_RATE  = 16000\n",
    "MAX_DURATION = 3.0\n",
    "MAX_SAMPLES  = int(SAMPLE_RATE * MAX_DURATION)\n",
    "\n",
    "XDIM, YDIM = 180, 128   # Chiều ngang và dọc của spectrogram\n",
    "\n",
    "# ==== Hàm Chuyển WAV -> Spectrogram ====\n",
    "def wav_to_spectrogram(wav_file, xdim=XDIM, ydim=YDIM):\n",
    "    if not wav_file.lower().endswith('.wav'):\n",
    "        raise ValueError(f\"Expected .wav, got: {wav_file}\")\n",
    "    audio, sr = librosa.load(wav_file, sr=None)\n",
    "    spec = librosa.feature.melspectrogram(y=audio, sr=sr, n_mels=ydim, fmax=8000)\n",
    "    spec = librosa.power_to_db(spec, ref=np.max)\n",
    "    # Fix time axis\n",
    "    spec = librosa.util.fix_length(spec, size=xdim, axis=1)\n",
    "    # Fix freq axis\n",
    "    if spec.shape[0] < ydim:\n",
    "        spec = np.pad(spec, ((0, ydim - spec.shape[0]), (0, 0)), 'constant')\n",
    "    else:\n",
    "        spec = spec[:ydim, :]\n",
    "    # Normalize [0,1]\n",
    "    spec = (spec - spec.min()) / (spec.max() - spec.min() + 1e-6)\n",
    "    # Convert to 3 channels (RGB giả lập)\n",
    "    return np.repeat(spec[..., np.newaxis], 3, axis=-1)"
   ]
  },
  {
   "cell_type": "code",
   "execution_count": 3,
   "id": "7b72e32c",
   "metadata": {},
   "outputs": [
    {
     "name": "stderr",
     "output_type": "stream",
     "text": [
      "I0000 00:00:1745839099.119373   41241 gpu_device.cc:2022] Created device /job:localhost/replica:0/task:0/device:GPU:0 with 5563 MB memory:  -> device: 0, name: NVIDIA GeForce RTX 4060 Laptop GPU, pci bus id: 0000:01:00.0, compute capability: 8.9\n",
      "WARNING: All log messages before absl::InitializeLog() is called are written to STDERR\n",
      "I0000 00:00:1745839152.442287   42505 service.cc:148] XLA service 0x7f046400ae10 initialized for platform CUDA (this does not guarantee that XLA will be used). Devices:\n",
      "I0000 00:00:1745839152.442926   42505 service.cc:156]   StreamExecutor device (0): NVIDIA GeForce RTX 4060 Laptop GPU, Compute Capability 8.9\n",
      "2025-04-28 11:19:12.767040: I tensorflow/compiler/mlir/tensorflow/utils/dump_mlir_util.cc:268] disabling MLIR crash reproducer, set env var `MLIR_CRASH_REPRODUCER_DIRECTORY` to enable.\n",
      "I0000 00:00:1745839153.168638   42505 cuda_dnn.cc:529] Loaded cuDNN version 90300\n"
     ]
    },
    {
     "name": "stdout",
     "output_type": "stream",
     "text": [
      "🎨 Thời gian chuyển WAV -> Spectrogram  : 39.8901 giây\n",
      "🤖 Thời gian thực hiện Predict         : 5.8621 giây\n",
      "⏱️  Tổng thời gian toàn bộ quá trình   : 45.7522 giây\n",
      "🎯 Kết quả dự đoán: Lớp 2\n"
     ]
    },
    {
     "name": "stderr",
     "output_type": "stream",
     "text": [
      "I0000 00:00:1745839157.627500   42505 device_compiler.h:188] Compiled cluster using XLA!  This line is logged at most once for the lifetime of the process.\n"
     ]
    }
   ],
   "source": [
    "# ==== Load Model VGG16 ====\n",
    "model_vgg16 = tf.keras.models.load_model(\"vgg16_model.keras\", compile=False)\n",
    "\n",
    "# ==== Đường Dẫn File Audio ====\n",
    "AUDIO_PATH = \"../data/Crema_Data/1001_ITH_SAD_XX.wav\"\n",
    "\n",
    "# ==== Đo Thời Gian Chuyển Đổi WAV -> Spectrogram ====\n",
    "start_convert = time.time()\n",
    "\n",
    "spec = wav_to_spectrogram(AUDIO_PATH)\n",
    "input_tensor = np.expand_dims(spec, axis=0)   # (1, 128, 180, 3)\n",
    "\n",
    "end_convert = time.time()\n",
    "convert_time = end_convert - start_convert\n",
    "\n",
    "# ==== Đo Thời Gian Dự Đoán ====\n",
    "start_predict = time.time()\n",
    "\n",
    "pred = model_vgg16.predict(input_tensor, verbose=0)\n",
    "predicted_class = np.argmax(pred)\n",
    "\n",
    "end_predict = time.time()\n",
    "predict_time = end_predict - start_predict\n",
    "\n",
    "# ==== Tổng Thời Gian ====\n",
    "total_time = convert_time + predict_time\n",
    "\n",
    "# ==== In Kết Quả Chi Tiết ====\n",
    "print(f\"🎨 Thời gian chuyển WAV -> Spectrogram  : {convert_time:.4f} giây\")\n",
    "print(f\"🤖 Thời gian thực hiện Predict         : {predict_time:.4f} giây\")\n",
    "print(f\"⏱️  Tổng thời gian toàn bộ quá trình   : {total_time:.4f} giây\")\n",
    "print(f\"🎯 Kết quả dự đoán: Lớp {predicted_class}\")"
   ]
  }
 ],
 "metadata": {
  "kernelspec": {
   "display_name": "tf",
   "language": "python",
   "name": "python3"
  },
  "language_info": {
   "codemirror_mode": {
    "name": "ipython",
    "version": 3
   },
   "file_extension": ".py",
   "mimetype": "text/x-python",
   "name": "python",
   "nbconvert_exporter": "python",
   "pygments_lexer": "ipython3",
   "version": "3.12.3"
  }
 },
 "nbformat": 4,
 "nbformat_minor": 5
}
