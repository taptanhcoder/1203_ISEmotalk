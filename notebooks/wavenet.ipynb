{
 "cells": [
  {
   "cell_type": "code",
   "execution_count": 1,
   "id": "560c7575",
   "metadata": {},
   "outputs": [
    {
     "name": "stderr",
     "output_type": "stream",
     "text": [
      "2025-04-27 13:31:17.497883: E external/local_xla/xla/stream_executor/cuda/cuda_fft.cc:477] Unable to register cuFFT factory: Attempting to register factory for plugin cuFFT when one has already been registered\n",
      "WARNING: All log messages before absl::InitializeLog() is called are written to STDERR\n",
      "E0000 00:00:1745760679.897041     934 cuda_dnn.cc:8310] Unable to register cuDNN factory: Attempting to register factory for plugin cuDNN when one has already been registered\n",
      "E0000 00:00:1745760680.537385     934 cuda_blas.cc:1418] Unable to register cuBLAS factory: Attempting to register factory for plugin cuBLAS when one has already been registered\n",
      "2025-04-27 13:31:26.830165: I tensorflow/core/platform/cpu_feature_guard.cc:210] This TensorFlow binary is optimized to use available CPU instructions in performance-critical operations.\n",
      "To enable the following instructions: AVX2 FMA, in other operations, rebuild TensorFlow with the appropriate compiler flags.\n"
     ]
    }
   ],
   "source": [
    "import os\n",
    "import random\n",
    "import time\n",
    "import numpy as np\n",
    "import numpy as _np\n",
    "if not hasattr(_np, 'complex'):\n",
    "    _np.complex = complex\n",
    "\n",
    "import librosa\n",
    "from glob import glob\n",
    "from sklearn.model_selection import train_test_split\n",
    "from sklearn.preprocessing import LabelBinarizer\n",
    "from sklearn.utils import shuffle\n",
    "import tensorflow as tf\n",
    "from tensorflow.keras.layers import (\n",
    "    Input, Conv1D, ZeroPadding1D,\n",
    "    Activation, Multiply, Add,\n",
    "    Softmax, Layer\n",
    ")\n",
    "from tensorflow.keras.models import Model\n",
    "from tensorflow.keras.layers import Dropout"
   ]
  },
  {
   "cell_type": "code",
   "execution_count": 2,
   "id": "f260d970",
   "metadata": {},
   "outputs": [],
   "source": [
    "\n",
    "SAMPLE_RATE  = 16000 \n",
    "MAX_DURATION = 3.0                      \n",
    "MAX_SAMPLES  = int(SAMPLE_RATE * MAX_DURATION) \n",
    "BATCH_SIZE   = 8                     \n",
    "EPOCHS       = 50                      \n"
   ]
  },
  {
   "cell_type": "markdown",
   "id": "67acdaee",
   "metadata": {},
   "source": [
    "# load and assign labels"
   ]
  },
  {
   "cell_type": "code",
   "execution_count": 3,
   "id": "d7ed837d",
   "metadata": {},
   "outputs": [],
   "source": [
    "TARGET_EMOTIONS = ['neutral', 'sad', 'happy', 'angry']"
   ]
  },
  {
   "cell_type": "code",
   "execution_count": 4,
   "id": "e31555ce",
   "metadata": {},
   "outputs": [],
   "source": [
    "EMO_MAP = {\n",
    "    \"01\": \"neutral\",\n",
    "    \"02\": \"calm\",\n",
    "    \"03\": \"happy\",\n",
    "    \"04\": \"sad\",\n",
    "    \"05\": \"angry\",\n",
    "    \"06\": \"fearful\",\n",
    "    \"07\": \"disgust\",\n",
    "    \"08\": \"surprised\"\n",
    "}\n",
    "\n",
    "def load_ravdess(path):\n",
    "    X, y = [], []\n",
    "    for fp in glob(os.path.join(path, \"Actor_*\", \"*.wav\")):\n",
    "        code = os.path.basename(fp).split('-')[2]\n",
    "        label = EMO_MAP.get(code)\n",
    "        if label not in TARGET_EMOTIONS:\n",
    "            continue\n",
    "        sig, _ = librosa.load(fp, sr=SAMPLE_RATE)\n",
    "        sig, _ = librosa.effects.trim(sig, top_db=20)\n",
    "        if len(sig) < MAX_SAMPLES:\n",
    "            sig = np.pad(sig, (0, MAX_SAMPLES - len(sig)), 'constant')\n",
    "        else:\n",
    "            sig = sig[:MAX_SAMPLES]\n",
    "        X.append(sig)\n",
    "        y.append(label)\n",
    "    return np.array(X), np.array(y)\n"
   ]
  },
  {
   "cell_type": "code",
   "execution_count": 5,
   "id": "9ee20c11",
   "metadata": {},
   "outputs": [],
   "source": [
    "CREMA_EMO_MAP = {\n",
    "    \"ANG\": \"angry\",\n",
    "    \"DIS\": \"disgust\",\n",
    "    \"FEA\": \"fearful\",\n",
    "    \"HAP\": \"happy\",\n",
    "    \"NEU\": \"neutral\",\n",
    "    \"SAD\": \"sad\"\n",
    "}\n",
    "\n",
    "\n",
    "def load_crema(path, limit=3500):\n",
    "    X, y = [], []\n",
    "    files = glob(os.path.join(path, \"*.wav\"))\n",
    "    count = 0\n",
    "    for fp in files:\n",
    "        if count >= limit:\n",
    "            break\n",
    "        filename = os.path.basename(fp)\n",
    "        parts = filename.split('_')\n",
    "        emo_code = parts[2]\n",
    "        label = CREMA_EMO_MAP.get(emo_code)\n",
    "        if label not in TARGET_EMOTIONS:\n",
    "            continue\n",
    "        sig, _ = librosa.load(fp, sr=SAMPLE_RATE)\n",
    "        sig, _ = librosa.effects.trim(sig, top_db=20)\n",
    "        if len(sig) < MAX_SAMPLES:\n",
    "            sig = np.pad(sig, (0, MAX_SAMPLES - len(sig)), 'constant')\n",
    "        else:\n",
    "            sig = sig[:MAX_SAMPLES]\n",
    "        X.append(sig)\n",
    "        y.append(label)\n",
    "        count += 1\n",
    "    return np.array(X), np.array(y)\n"
   ]
  },
  {
   "cell_type": "code",
   "execution_count": 6,
   "id": "d1a95fc2",
   "metadata": {},
   "outputs": [
    {
     "name": "stdout",
     "output_type": "stream",
     "text": [
      "Loading & trimming RAVDESS...\n",
      "Loaded 672 samples from RAVDESS\n",
      "Loading & trimming CREMA-D...\n",
      "Loaded 3500 samples from CREMA-D\n"
     ]
    }
   ],
   "source": [
    "RAVDESS_PATH = '../data/RAVDESS_Data'\n",
    "CREMA_PATH   = '../data/CREMA_Data'\n",
    "\n",
    "print(\"Loading & trimming RAVDESS...\")\n",
    "X_ravdess, y_ravdess = load_ravdess(RAVDESS_PATH)\n",
    "print(f\"Loaded {X_ravdess.shape[0]} samples from RAVDESS\")\n",
    "\n",
    "print(\"Loading & trimming CREMA-D...\")\n",
    "X_crema, y_crema = load_crema(CREMA_PATH)\n",
    "print(f\"Loaded {X_crema.shape[0]} samples from CREMA-D\")"
   ]
  },
  {
   "cell_type": "code",
   "execution_count": 7,
   "id": "c97b912e",
   "metadata": {},
   "outputs": [
    {
     "name": "stdout",
     "output_type": "stream",
     "text": [
      "Tổng số samples sau khi gộp: 4172\n",
      "Train set: (3337, 48000, 1), Validation set: (835, 48000, 1)\n",
      "Số lượng class: 4 - ['angry' 'happy' 'neutral' 'sad']\n"
     ]
    }
   ],
   "source": [
    "\n",
    "X_total = np.concatenate([X_ravdess, X_crema])\n",
    "y_total = np.concatenate([y_ravdess, y_crema])\n",
    "\n",
    "print(f\"Tổng số samples sau khi gộp: {X_total.shape[0]}\")\n",
    "\n",
    "X_total, y_total = shuffle(X_total, y_total, random_state=42)\n",
    "\n",
    "lb = LabelBinarizer()\n",
    "y_onehot = lb.fit_transform(y_total)\n",
    "\n",
    "\n",
    "X_tr, X_va, y_tr, y_va = train_test_split(\n",
    "    X_total, y_onehot, test_size=0.2, stratify=y_total, random_state=42\n",
    ")\n",
    "\n",
    "X_tr = X_tr[..., np.newaxis]\n",
    "X_va = X_va[..., np.newaxis]\n",
    "\n",
    "print(f\"Train set: {X_tr.shape}, Validation set: {X_va.shape}\")\n",
    "print(f\"Số lượng class: {len(lb.classes_)} - {lb.classes_}\")"
   ]
  },
  {
   "cell_type": "markdown",
   "id": "905e8914",
   "metadata": {},
   "source": [
    "# Model architecture"
   ]
  },
  {
   "cell_type": "code",
   "execution_count": 8,
   "id": "672093e4",
   "metadata": {},
   "outputs": [
    {
     "name": "stderr",
     "output_type": "stream",
     "text": [
      "I0000 00:00:1745762272.553054     934 gpu_device.cc:2022] Created device /job:localhost/replica:0/task:0/device:GPU:0 with 5563 MB memory:  -> device: 0, name: NVIDIA GeForce RTX 4060 Laptop GPU, pci bus id: 0000:01:00.0, compute capability: 8.9\n"
     ]
    },
    {
     "data": {
      "text/html": [
       "<pre style=\"white-space:pre;overflow-x:auto;line-height:normal;font-family:Menlo,'DejaVu Sans Mono',consolas,'Courier New',monospace\"><span style=\"font-weight: bold\">Model: \"WaveNet_SER\"</span>\n",
       "</pre>\n"
      ],
      "text/plain": [
       "\u001b[1mModel: \"WaveNet_SER\"\u001b[0m\n"
      ]
     },
     "metadata": {},
     "output_type": "display_data"
    },
    {
     "data": {
      "text/html": [
       "<pre style=\"white-space:pre;overflow-x:auto;line-height:normal;font-family:Menlo,'DejaVu Sans Mono',consolas,'Courier New',monospace\">┏━━━━━━━━━━━━━━━━━━━━━┳━━━━━━━━━━━━━━━━━━━┳━━━━━━━━━━━━┳━━━━━━━━━━━━━━━━━━━┓\n",
       "┃<span style=\"font-weight: bold\"> Layer (type)        </span>┃<span style=\"font-weight: bold\"> Output Shape      </span>┃<span style=\"font-weight: bold\">    Param # </span>┃<span style=\"font-weight: bold\"> Connected to      </span>┃\n",
       "┡━━━━━━━━━━━━━━━━━━━━━╇━━━━━━━━━━━━━━━━━━━╇━━━━━━━━━━━━╇━━━━━━━━━━━━━━━━━━━┩\n",
       "│ input_wave          │ (<span style=\"color: #00d7ff; text-decoration-color: #00d7ff\">None</span>, <span style=\"color: #00af00; text-decoration-color: #00af00\">48000</span>, <span style=\"color: #00af00; text-decoration-color: #00af00\">1</span>)  │          <span style=\"color: #00af00; text-decoration-color: #00af00\">0</span> │ -                 │\n",
       "│ (<span style=\"color: #0087ff; text-decoration-color: #0087ff\">InputLayer</span>)        │                   │            │                   │\n",
       "├─────────────────────┼───────────────────┼────────────┼───────────────────┤\n",
       "│ pre_conv (<span style=\"color: #0087ff; text-decoration-color: #0087ff\">Conv1D</span>)   │ (<span style=\"color: #00d7ff; text-decoration-color: #00d7ff\">None</span>, <span style=\"color: #00af00; text-decoration-color: #00af00\">48000</span>, <span style=\"color: #00af00; text-decoration-color: #00af00\">32</span>) │         <span style=\"color: #00af00; text-decoration-color: #00af00\">64</span> │ input_wave[<span style=\"color: #00af00; text-decoration-color: #00af00\">0</span>][<span style=\"color: #00af00; text-decoration-color: #00af00\">0</span>]  │\n",
       "├─────────────────────┼───────────────────┼────────────┼───────────────────┤\n",
       "│ dil1_r1_f_pad       │ (<span style=\"color: #00d7ff; text-decoration-color: #00d7ff\">None</span>, <span style=\"color: #00af00; text-decoration-color: #00af00\">48001</span>, <span style=\"color: #00af00; text-decoration-color: #00af00\">32</span>) │          <span style=\"color: #00af00; text-decoration-color: #00af00\">0</span> │ pre_conv[<span style=\"color: #00af00; text-decoration-color: #00af00\">0</span>][<span style=\"color: #00af00; text-decoration-color: #00af00\">0</span>]    │\n",
       "│ (<span style=\"color: #0087ff; text-decoration-color: #0087ff\">ZeroPadding1D</span>)     │                   │            │                   │\n",
       "├─────────────────────┼───────────────────┼────────────┼───────────────────┤\n",
       "│ dil1_r1_g_pad       │ (<span style=\"color: #00d7ff; text-decoration-color: #00d7ff\">None</span>, <span style=\"color: #00af00; text-decoration-color: #00af00\">48001</span>, <span style=\"color: #00af00; text-decoration-color: #00af00\">32</span>) │          <span style=\"color: #00af00; text-decoration-color: #00af00\">0</span> │ pre_conv[<span style=\"color: #00af00; text-decoration-color: #00af00\">0</span>][<span style=\"color: #00af00; text-decoration-color: #00af00\">0</span>]    │\n",
       "│ (<span style=\"color: #0087ff; text-decoration-color: #0087ff\">ZeroPadding1D</span>)     │                   │            │                   │\n",
       "├─────────────────────┼───────────────────┼────────────┼───────────────────┤\n",
       "│ dil1_r1_f (<span style=\"color: #0087ff; text-decoration-color: #0087ff\">Conv1D</span>)  │ (<span style=\"color: #00d7ff; text-decoration-color: #00d7ff\">None</span>, <span style=\"color: #00af00; text-decoration-color: #00af00\">48000</span>, <span style=\"color: #00af00; text-decoration-color: #00af00\">32</span>) │      <span style=\"color: #00af00; text-decoration-color: #00af00\">2,080</span> │ dil1_r1_f_pad[<span style=\"color: #00af00; text-decoration-color: #00af00\">0</span>]… │\n",
       "├─────────────────────┼───────────────────┼────────────┼───────────────────┤\n",
       "│ dil1_r1_g (<span style=\"color: #0087ff; text-decoration-color: #0087ff\">Conv1D</span>)  │ (<span style=\"color: #00d7ff; text-decoration-color: #00d7ff\">None</span>, <span style=\"color: #00af00; text-decoration-color: #00af00\">48000</span>, <span style=\"color: #00af00; text-decoration-color: #00af00\">32</span>) │      <span style=\"color: #00af00; text-decoration-color: #00af00\">2,080</span> │ dil1_r1_g_pad[<span style=\"color: #00af00; text-decoration-color: #00af00\">0</span>]… │\n",
       "├─────────────────────┼───────────────────┼────────────┼───────────────────┤\n",
       "│ dil1_r1_tanh        │ (<span style=\"color: #00d7ff; text-decoration-color: #00d7ff\">None</span>, <span style=\"color: #00af00; text-decoration-color: #00af00\">48000</span>, <span style=\"color: #00af00; text-decoration-color: #00af00\">32</span>) │          <span style=\"color: #00af00; text-decoration-color: #00af00\">0</span> │ dil1_r1_f[<span style=\"color: #00af00; text-decoration-color: #00af00\">0</span>][<span style=\"color: #00af00; text-decoration-color: #00af00\">0</span>]   │\n",
       "│ (<span style=\"color: #0087ff; text-decoration-color: #0087ff\">Activation</span>)        │                   │            │                   │\n",
       "├─────────────────────┼───────────────────┼────────────┼───────────────────┤\n",
       "│ dil1_r1_sigmoid     │ (<span style=\"color: #00d7ff; text-decoration-color: #00d7ff\">None</span>, <span style=\"color: #00af00; text-decoration-color: #00af00\">48000</span>, <span style=\"color: #00af00; text-decoration-color: #00af00\">32</span>) │          <span style=\"color: #00af00; text-decoration-color: #00af00\">0</span> │ dil1_r1_g[<span style=\"color: #00af00; text-decoration-color: #00af00\">0</span>][<span style=\"color: #00af00; text-decoration-color: #00af00\">0</span>]   │\n",
       "│ (<span style=\"color: #0087ff; text-decoration-color: #0087ff\">Activation</span>)        │                   │            │                   │\n",
       "├─────────────────────┼───────────────────┼────────────┼───────────────────┤\n",
       "│ dil1_r1_gate        │ (<span style=\"color: #00d7ff; text-decoration-color: #00d7ff\">None</span>, <span style=\"color: #00af00; text-decoration-color: #00af00\">48000</span>, <span style=\"color: #00af00; text-decoration-color: #00af00\">32</span>) │          <span style=\"color: #00af00; text-decoration-color: #00af00\">0</span> │ dil1_r1_tanh[<span style=\"color: #00af00; text-decoration-color: #00af00\">0</span>][<span style=\"color: #00af00; text-decoration-color: #00af00\">…</span> │\n",
       "│ (<span style=\"color: #0087ff; text-decoration-color: #0087ff\">Multiply</span>)          │                   │            │ dil1_r1_sigmoid[<span style=\"color: #00af00; text-decoration-color: #00af00\">…</span> │\n",
       "├─────────────────────┼───────────────────┼────────────┼───────────────────┤\n",
       "│ dil1_r1_res         │ (<span style=\"color: #00d7ff; text-decoration-color: #00d7ff\">None</span>, <span style=\"color: #00af00; text-decoration-color: #00af00\">48000</span>, <span style=\"color: #00af00; text-decoration-color: #00af00\">32</span>) │      <span style=\"color: #00af00; text-decoration-color: #00af00\">1,056</span> │ dil1_r1_gate[<span style=\"color: #00af00; text-decoration-color: #00af00\">0</span>][<span style=\"color: #00af00; text-decoration-color: #00af00\">…</span> │\n",
       "│ (<span style=\"color: #0087ff; text-decoration-color: #0087ff\">Conv1D</span>)            │                   │            │                   │\n",
       "├─────────────────────┼───────────────────┼────────────┼───────────────────┤\n",
       "│ dil1_r1_out (<span style=\"color: #0087ff; text-decoration-color: #0087ff\">Add</span>)   │ (<span style=\"color: #00d7ff; text-decoration-color: #00d7ff\">None</span>, <span style=\"color: #00af00; text-decoration-color: #00af00\">48000</span>, <span style=\"color: #00af00; text-decoration-color: #00af00\">32</span>) │          <span style=\"color: #00af00; text-decoration-color: #00af00\">0</span> │ dil1_r1_res[<span style=\"color: #00af00; text-decoration-color: #00af00\">0</span>][<span style=\"color: #00af00; text-decoration-color: #00af00\">0</span>… │\n",
       "│                     │                   │            │ pre_conv[<span style=\"color: #00af00; text-decoration-color: #00af00\">0</span>][<span style=\"color: #00af00; text-decoration-color: #00af00\">0</span>]    │\n",
       "├─────────────────────┼───────────────────┼────────────┼───────────────────┤\n",
       "│ dil2_r2_f_pad       │ (<span style=\"color: #00d7ff; text-decoration-color: #00d7ff\">None</span>, <span style=\"color: #00af00; text-decoration-color: #00af00\">48002</span>, <span style=\"color: #00af00; text-decoration-color: #00af00\">32</span>) │          <span style=\"color: #00af00; text-decoration-color: #00af00\">0</span> │ dil1_r1_out[<span style=\"color: #00af00; text-decoration-color: #00af00\">0</span>][<span style=\"color: #00af00; text-decoration-color: #00af00\">0</span>] │\n",
       "│ (<span style=\"color: #0087ff; text-decoration-color: #0087ff\">ZeroPadding1D</span>)     │                   │            │                   │\n",
       "├─────────────────────┼───────────────────┼────────────┼───────────────────┤\n",
       "│ dil2_r2_g_pad       │ (<span style=\"color: #00d7ff; text-decoration-color: #00d7ff\">None</span>, <span style=\"color: #00af00; text-decoration-color: #00af00\">48002</span>, <span style=\"color: #00af00; text-decoration-color: #00af00\">32</span>) │          <span style=\"color: #00af00; text-decoration-color: #00af00\">0</span> │ dil1_r1_out[<span style=\"color: #00af00; text-decoration-color: #00af00\">0</span>][<span style=\"color: #00af00; text-decoration-color: #00af00\">0</span>] │\n",
       "│ (<span style=\"color: #0087ff; text-decoration-color: #0087ff\">ZeroPadding1D</span>)     │                   │            │                   │\n",
       "├─────────────────────┼───────────────────┼────────────┼───────────────────┤\n",
       "│ dil2_r2_f (<span style=\"color: #0087ff; text-decoration-color: #0087ff\">Conv1D</span>)  │ (<span style=\"color: #00d7ff; text-decoration-color: #00d7ff\">None</span>, <span style=\"color: #00af00; text-decoration-color: #00af00\">48000</span>, <span style=\"color: #00af00; text-decoration-color: #00af00\">32</span>) │      <span style=\"color: #00af00; text-decoration-color: #00af00\">2,080</span> │ dil2_r2_f_pad[<span style=\"color: #00af00; text-decoration-color: #00af00\">0</span>]… │\n",
       "├─────────────────────┼───────────────────┼────────────┼───────────────────┤\n",
       "│ dil2_r2_g (<span style=\"color: #0087ff; text-decoration-color: #0087ff\">Conv1D</span>)  │ (<span style=\"color: #00d7ff; text-decoration-color: #00d7ff\">None</span>, <span style=\"color: #00af00; text-decoration-color: #00af00\">48000</span>, <span style=\"color: #00af00; text-decoration-color: #00af00\">32</span>) │      <span style=\"color: #00af00; text-decoration-color: #00af00\">2,080</span> │ dil2_r2_g_pad[<span style=\"color: #00af00; text-decoration-color: #00af00\">0</span>]… │\n",
       "├─────────────────────┼───────────────────┼────────────┼───────────────────┤\n",
       "│ dil2_r2_tanh        │ (<span style=\"color: #00d7ff; text-decoration-color: #00d7ff\">None</span>, <span style=\"color: #00af00; text-decoration-color: #00af00\">48000</span>, <span style=\"color: #00af00; text-decoration-color: #00af00\">32</span>) │          <span style=\"color: #00af00; text-decoration-color: #00af00\">0</span> │ dil2_r2_f[<span style=\"color: #00af00; text-decoration-color: #00af00\">0</span>][<span style=\"color: #00af00; text-decoration-color: #00af00\">0</span>]   │\n",
       "│ (<span style=\"color: #0087ff; text-decoration-color: #0087ff\">Activation</span>)        │                   │            │                   │\n",
       "├─────────────────────┼───────────────────┼────────────┼───────────────────┤\n",
       "│ dil2_r2_sigmoid     │ (<span style=\"color: #00d7ff; text-decoration-color: #00d7ff\">None</span>, <span style=\"color: #00af00; text-decoration-color: #00af00\">48000</span>, <span style=\"color: #00af00; text-decoration-color: #00af00\">32</span>) │          <span style=\"color: #00af00; text-decoration-color: #00af00\">0</span> │ dil2_r2_g[<span style=\"color: #00af00; text-decoration-color: #00af00\">0</span>][<span style=\"color: #00af00; text-decoration-color: #00af00\">0</span>]   │\n",
       "│ (<span style=\"color: #0087ff; text-decoration-color: #0087ff\">Activation</span>)        │                   │            │                   │\n",
       "├─────────────────────┼───────────────────┼────────────┼───────────────────┤\n",
       "│ dil2_r2_gate        │ (<span style=\"color: #00d7ff; text-decoration-color: #00d7ff\">None</span>, <span style=\"color: #00af00; text-decoration-color: #00af00\">48000</span>, <span style=\"color: #00af00; text-decoration-color: #00af00\">32</span>) │          <span style=\"color: #00af00; text-decoration-color: #00af00\">0</span> │ dil2_r2_tanh[<span style=\"color: #00af00; text-decoration-color: #00af00\">0</span>][<span style=\"color: #00af00; text-decoration-color: #00af00\">…</span> │\n",
       "│ (<span style=\"color: #0087ff; text-decoration-color: #0087ff\">Multiply</span>)          │                   │            │ dil2_r2_sigmoid[<span style=\"color: #00af00; text-decoration-color: #00af00\">…</span> │\n",
       "├─────────────────────┼───────────────────┼────────────┼───────────────────┤\n",
       "│ dil2_r2_res         │ (<span style=\"color: #00d7ff; text-decoration-color: #00d7ff\">None</span>, <span style=\"color: #00af00; text-decoration-color: #00af00\">48000</span>, <span style=\"color: #00af00; text-decoration-color: #00af00\">32</span>) │      <span style=\"color: #00af00; text-decoration-color: #00af00\">1,056</span> │ dil2_r2_gate[<span style=\"color: #00af00; text-decoration-color: #00af00\">0</span>][<span style=\"color: #00af00; text-decoration-color: #00af00\">…</span> │\n",
       "│ (<span style=\"color: #0087ff; text-decoration-color: #0087ff\">Conv1D</span>)            │                   │            │                   │\n",
       "├─────────────────────┼───────────────────┼────────────┼───────────────────┤\n",
       "│ dil2_r2_out (<span style=\"color: #0087ff; text-decoration-color: #0087ff\">Add</span>)   │ (<span style=\"color: #00d7ff; text-decoration-color: #00d7ff\">None</span>, <span style=\"color: #00af00; text-decoration-color: #00af00\">48000</span>, <span style=\"color: #00af00; text-decoration-color: #00af00\">32</span>) │          <span style=\"color: #00af00; text-decoration-color: #00af00\">0</span> │ dil2_r2_res[<span style=\"color: #00af00; text-decoration-color: #00af00\">0</span>][<span style=\"color: #00af00; text-decoration-color: #00af00\">0</span>… │\n",
       "│                     │                   │            │ dil1_r1_out[<span style=\"color: #00af00; text-decoration-color: #00af00\">0</span>][<span style=\"color: #00af00; text-decoration-color: #00af00\">0</span>] │\n",
       "├─────────────────────┼───────────────────┼────────────┼───────────────────┤\n",
       "│ dil3_r4_f_pad       │ (<span style=\"color: #00d7ff; text-decoration-color: #00d7ff\">None</span>, <span style=\"color: #00af00; text-decoration-color: #00af00\">48004</span>, <span style=\"color: #00af00; text-decoration-color: #00af00\">32</span>) │          <span style=\"color: #00af00; text-decoration-color: #00af00\">0</span> │ dil2_r2_out[<span style=\"color: #00af00; text-decoration-color: #00af00\">0</span>][<span style=\"color: #00af00; text-decoration-color: #00af00\">0</span>] │\n",
       "│ (<span style=\"color: #0087ff; text-decoration-color: #0087ff\">ZeroPadding1D</span>)     │                   │            │                   │\n",
       "├─────────────────────┼───────────────────┼────────────┼───────────────────┤\n",
       "│ dil3_r4_g_pad       │ (<span style=\"color: #00d7ff; text-decoration-color: #00d7ff\">None</span>, <span style=\"color: #00af00; text-decoration-color: #00af00\">48004</span>, <span style=\"color: #00af00; text-decoration-color: #00af00\">32</span>) │          <span style=\"color: #00af00; text-decoration-color: #00af00\">0</span> │ dil2_r2_out[<span style=\"color: #00af00; text-decoration-color: #00af00\">0</span>][<span style=\"color: #00af00; text-decoration-color: #00af00\">0</span>] │\n",
       "│ (<span style=\"color: #0087ff; text-decoration-color: #0087ff\">ZeroPadding1D</span>)     │                   │            │                   │\n",
       "├─────────────────────┼───────────────────┼────────────┼───────────────────┤\n",
       "│ dil3_r4_f (<span style=\"color: #0087ff; text-decoration-color: #0087ff\">Conv1D</span>)  │ (<span style=\"color: #00d7ff; text-decoration-color: #00d7ff\">None</span>, <span style=\"color: #00af00; text-decoration-color: #00af00\">48000</span>, <span style=\"color: #00af00; text-decoration-color: #00af00\">32</span>) │      <span style=\"color: #00af00; text-decoration-color: #00af00\">2,080</span> │ dil3_r4_f_pad[<span style=\"color: #00af00; text-decoration-color: #00af00\">0</span>]… │\n",
       "├─────────────────────┼───────────────────┼────────────┼───────────────────┤\n",
       "│ dil3_r4_g (<span style=\"color: #0087ff; text-decoration-color: #0087ff\">Conv1D</span>)  │ (<span style=\"color: #00d7ff; text-decoration-color: #00d7ff\">None</span>, <span style=\"color: #00af00; text-decoration-color: #00af00\">48000</span>, <span style=\"color: #00af00; text-decoration-color: #00af00\">32</span>) │      <span style=\"color: #00af00; text-decoration-color: #00af00\">2,080</span> │ dil3_r4_g_pad[<span style=\"color: #00af00; text-decoration-color: #00af00\">0</span>]… │\n",
       "├─────────────────────┼───────────────────┼────────────┼───────────────────┤\n",
       "│ dil3_r4_tanh        │ (<span style=\"color: #00d7ff; text-decoration-color: #00d7ff\">None</span>, <span style=\"color: #00af00; text-decoration-color: #00af00\">48000</span>, <span style=\"color: #00af00; text-decoration-color: #00af00\">32</span>) │          <span style=\"color: #00af00; text-decoration-color: #00af00\">0</span> │ dil3_r4_f[<span style=\"color: #00af00; text-decoration-color: #00af00\">0</span>][<span style=\"color: #00af00; text-decoration-color: #00af00\">0</span>]   │\n",
       "│ (<span style=\"color: #0087ff; text-decoration-color: #0087ff\">Activation</span>)        │                   │            │                   │\n",
       "├─────────────────────┼───────────────────┼────────────┼───────────────────┤\n",
       "│ dil3_r4_sigmoid     │ (<span style=\"color: #00d7ff; text-decoration-color: #00d7ff\">None</span>, <span style=\"color: #00af00; text-decoration-color: #00af00\">48000</span>, <span style=\"color: #00af00; text-decoration-color: #00af00\">32</span>) │          <span style=\"color: #00af00; text-decoration-color: #00af00\">0</span> │ dil3_r4_g[<span style=\"color: #00af00; text-decoration-color: #00af00\">0</span>][<span style=\"color: #00af00; text-decoration-color: #00af00\">0</span>]   │\n",
       "│ (<span style=\"color: #0087ff; text-decoration-color: #0087ff\">Activation</span>)        │                   │            │                   │\n",
       "├─────────────────────┼───────────────────┼────────────┼───────────────────┤\n",
       "│ dil3_r4_gate        │ (<span style=\"color: #00d7ff; text-decoration-color: #00d7ff\">None</span>, <span style=\"color: #00af00; text-decoration-color: #00af00\">48000</span>, <span style=\"color: #00af00; text-decoration-color: #00af00\">32</span>) │          <span style=\"color: #00af00; text-decoration-color: #00af00\">0</span> │ dil3_r4_tanh[<span style=\"color: #00af00; text-decoration-color: #00af00\">0</span>][<span style=\"color: #00af00; text-decoration-color: #00af00\">…</span> │\n",
       "│ (<span style=\"color: #0087ff; text-decoration-color: #0087ff\">Multiply</span>)          │                   │            │ dil3_r4_sigmoid[<span style=\"color: #00af00; text-decoration-color: #00af00\">…</span> │\n",
       "├─────────────────────┼───────────────────┼────────────┼───────────────────┤\n",
       "│ dil3_r4_res         │ (<span style=\"color: #00d7ff; text-decoration-color: #00d7ff\">None</span>, <span style=\"color: #00af00; text-decoration-color: #00af00\">48000</span>, <span style=\"color: #00af00; text-decoration-color: #00af00\">32</span>) │      <span style=\"color: #00af00; text-decoration-color: #00af00\">1,056</span> │ dil3_r4_gate[<span style=\"color: #00af00; text-decoration-color: #00af00\">0</span>][<span style=\"color: #00af00; text-decoration-color: #00af00\">…</span> │\n",
       "│ (<span style=\"color: #0087ff; text-decoration-color: #0087ff\">Conv1D</span>)            │                   │            │                   │\n",
       "├─────────────────────┼───────────────────┼────────────┼───────────────────┤\n",
       "│ dil3_r4_out (<span style=\"color: #0087ff; text-decoration-color: #0087ff\">Add</span>)   │ (<span style=\"color: #00d7ff; text-decoration-color: #00d7ff\">None</span>, <span style=\"color: #00af00; text-decoration-color: #00af00\">48000</span>, <span style=\"color: #00af00; text-decoration-color: #00af00\">32</span>) │          <span style=\"color: #00af00; text-decoration-color: #00af00\">0</span> │ dil3_r4_res[<span style=\"color: #00af00; text-decoration-color: #00af00\">0</span>][<span style=\"color: #00af00; text-decoration-color: #00af00\">0</span>… │\n",
       "│                     │                   │            │ dil2_r2_out[<span style=\"color: #00af00; text-decoration-color: #00af00\">0</span>][<span style=\"color: #00af00; text-decoration-color: #00af00\">0</span>] │\n",
       "├─────────────────────┼───────────────────┼────────────┼───────────────────┤\n",
       "│ dil4_r8_f_pad       │ (<span style=\"color: #00d7ff; text-decoration-color: #00d7ff\">None</span>, <span style=\"color: #00af00; text-decoration-color: #00af00\">48008</span>, <span style=\"color: #00af00; text-decoration-color: #00af00\">32</span>) │          <span style=\"color: #00af00; text-decoration-color: #00af00\">0</span> │ dil3_r4_out[<span style=\"color: #00af00; text-decoration-color: #00af00\">0</span>][<span style=\"color: #00af00; text-decoration-color: #00af00\">0</span>] │\n",
       "│ (<span style=\"color: #0087ff; text-decoration-color: #0087ff\">ZeroPadding1D</span>)     │                   │            │                   │\n",
       "├─────────────────────┼───────────────────┼────────────┼───────────────────┤\n",
       "│ dil4_r8_g_pad       │ (<span style=\"color: #00d7ff; text-decoration-color: #00d7ff\">None</span>, <span style=\"color: #00af00; text-decoration-color: #00af00\">48008</span>, <span style=\"color: #00af00; text-decoration-color: #00af00\">32</span>) │          <span style=\"color: #00af00; text-decoration-color: #00af00\">0</span> │ dil3_r4_out[<span style=\"color: #00af00; text-decoration-color: #00af00\">0</span>][<span style=\"color: #00af00; text-decoration-color: #00af00\">0</span>] │\n",
       "│ (<span style=\"color: #0087ff; text-decoration-color: #0087ff\">ZeroPadding1D</span>)     │                   │            │                   │\n",
       "├─────────────────────┼───────────────────┼────────────┼───────────────────┤\n",
       "│ dil4_r8_f (<span style=\"color: #0087ff; text-decoration-color: #0087ff\">Conv1D</span>)  │ (<span style=\"color: #00d7ff; text-decoration-color: #00d7ff\">None</span>, <span style=\"color: #00af00; text-decoration-color: #00af00\">48000</span>, <span style=\"color: #00af00; text-decoration-color: #00af00\">32</span>) │      <span style=\"color: #00af00; text-decoration-color: #00af00\">2,080</span> │ dil4_r8_f_pad[<span style=\"color: #00af00; text-decoration-color: #00af00\">0</span>]… │\n",
       "├─────────────────────┼───────────────────┼────────────┼───────────────────┤\n",
       "│ dil4_r8_g (<span style=\"color: #0087ff; text-decoration-color: #0087ff\">Conv1D</span>)  │ (<span style=\"color: #00d7ff; text-decoration-color: #00d7ff\">None</span>, <span style=\"color: #00af00; text-decoration-color: #00af00\">48000</span>, <span style=\"color: #00af00; text-decoration-color: #00af00\">32</span>) │      <span style=\"color: #00af00; text-decoration-color: #00af00\">2,080</span> │ dil4_r8_g_pad[<span style=\"color: #00af00; text-decoration-color: #00af00\">0</span>]… │\n",
       "├─────────────────────┼───────────────────┼────────────┼───────────────────┤\n",
       "│ dil4_r8_tanh        │ (<span style=\"color: #00d7ff; text-decoration-color: #00d7ff\">None</span>, <span style=\"color: #00af00; text-decoration-color: #00af00\">48000</span>, <span style=\"color: #00af00; text-decoration-color: #00af00\">32</span>) │          <span style=\"color: #00af00; text-decoration-color: #00af00\">0</span> │ dil4_r8_f[<span style=\"color: #00af00; text-decoration-color: #00af00\">0</span>][<span style=\"color: #00af00; text-decoration-color: #00af00\">0</span>]   │\n",
       "│ (<span style=\"color: #0087ff; text-decoration-color: #0087ff\">Activation</span>)        │                   │            │                   │\n",
       "├─────────────────────┼───────────────────┼────────────┼───────────────────┤\n",
       "│ dil4_r8_sigmoid     │ (<span style=\"color: #00d7ff; text-decoration-color: #00d7ff\">None</span>, <span style=\"color: #00af00; text-decoration-color: #00af00\">48000</span>, <span style=\"color: #00af00; text-decoration-color: #00af00\">32</span>) │          <span style=\"color: #00af00; text-decoration-color: #00af00\">0</span> │ dil4_r8_g[<span style=\"color: #00af00; text-decoration-color: #00af00\">0</span>][<span style=\"color: #00af00; text-decoration-color: #00af00\">0</span>]   │\n",
       "│ (<span style=\"color: #0087ff; text-decoration-color: #0087ff\">Activation</span>)        │                   │            │                   │\n",
       "├─────────────────────┼───────────────────┼────────────┼───────────────────┤\n",
       "│ dil4_r8_gate        │ (<span style=\"color: #00d7ff; text-decoration-color: #00d7ff\">None</span>, <span style=\"color: #00af00; text-decoration-color: #00af00\">48000</span>, <span style=\"color: #00af00; text-decoration-color: #00af00\">32</span>) │          <span style=\"color: #00af00; text-decoration-color: #00af00\">0</span> │ dil4_r8_tanh[<span style=\"color: #00af00; text-decoration-color: #00af00\">0</span>][<span style=\"color: #00af00; text-decoration-color: #00af00\">…</span> │\n",
       "│ (<span style=\"color: #0087ff; text-decoration-color: #0087ff\">Multiply</span>)          │                   │            │ dil4_r8_sigmoid[<span style=\"color: #00af00; text-decoration-color: #00af00\">…</span> │\n",
       "├─────────────────────┼───────────────────┼────────────┼───────────────────┤\n",
       "│ dil4_r8_res         │ (<span style=\"color: #00d7ff; text-decoration-color: #00d7ff\">None</span>, <span style=\"color: #00af00; text-decoration-color: #00af00\">48000</span>, <span style=\"color: #00af00; text-decoration-color: #00af00\">32</span>) │      <span style=\"color: #00af00; text-decoration-color: #00af00\">1,056</span> │ dil4_r8_gate[<span style=\"color: #00af00; text-decoration-color: #00af00\">0</span>][<span style=\"color: #00af00; text-decoration-color: #00af00\">…</span> │\n",
       "│ (<span style=\"color: #0087ff; text-decoration-color: #0087ff\">Conv1D</span>)            │                   │            │                   │\n",
       "├─────────────────────┼───────────────────┼────────────┼───────────────────┤\n",
       "│ dil4_r8_out (<span style=\"color: #0087ff; text-decoration-color: #0087ff\">Add</span>)   │ (<span style=\"color: #00d7ff; text-decoration-color: #00d7ff\">None</span>, <span style=\"color: #00af00; text-decoration-color: #00af00\">48000</span>, <span style=\"color: #00af00; text-decoration-color: #00af00\">32</span>) │          <span style=\"color: #00af00; text-decoration-color: #00af00\">0</span> │ dil4_r8_res[<span style=\"color: #00af00; text-decoration-color: #00af00\">0</span>][<span style=\"color: #00af00; text-decoration-color: #00af00\">0</span>… │\n",
       "│                     │                   │            │ dil3_r4_out[<span style=\"color: #00af00; text-decoration-color: #00af00\">0</span>][<span style=\"color: #00af00; text-decoration-color: #00af00\">0</span>] │\n",
       "├─────────────────────┼───────────────────┼────────────┼───────────────────┤\n",
       "│ dil5_r16_f_pad      │ (<span style=\"color: #00d7ff; text-decoration-color: #00d7ff\">None</span>, <span style=\"color: #00af00; text-decoration-color: #00af00\">48016</span>, <span style=\"color: #00af00; text-decoration-color: #00af00\">32</span>) │          <span style=\"color: #00af00; text-decoration-color: #00af00\">0</span> │ dil4_r8_out[<span style=\"color: #00af00; text-decoration-color: #00af00\">0</span>][<span style=\"color: #00af00; text-decoration-color: #00af00\">0</span>] │\n",
       "│ (<span style=\"color: #0087ff; text-decoration-color: #0087ff\">ZeroPadding1D</span>)     │                   │            │                   │\n",
       "├─────────────────────┼───────────────────┼────────────┼───────────────────┤\n",
       "│ dil5_r16_g_pad      │ (<span style=\"color: #00d7ff; text-decoration-color: #00d7ff\">None</span>, <span style=\"color: #00af00; text-decoration-color: #00af00\">48016</span>, <span style=\"color: #00af00; text-decoration-color: #00af00\">32</span>) │          <span style=\"color: #00af00; text-decoration-color: #00af00\">0</span> │ dil4_r8_out[<span style=\"color: #00af00; text-decoration-color: #00af00\">0</span>][<span style=\"color: #00af00; text-decoration-color: #00af00\">0</span>] │\n",
       "│ (<span style=\"color: #0087ff; text-decoration-color: #0087ff\">ZeroPadding1D</span>)     │                   │            │                   │\n",
       "├─────────────────────┼───────────────────┼────────────┼───────────────────┤\n",
       "│ dil5_r16_f (<span style=\"color: #0087ff; text-decoration-color: #0087ff\">Conv1D</span>) │ (<span style=\"color: #00d7ff; text-decoration-color: #00d7ff\">None</span>, <span style=\"color: #00af00; text-decoration-color: #00af00\">48000</span>, <span style=\"color: #00af00; text-decoration-color: #00af00\">32</span>) │      <span style=\"color: #00af00; text-decoration-color: #00af00\">2,080</span> │ dil5_r16_f_pad[<span style=\"color: #00af00; text-decoration-color: #00af00\">0</span>… │\n",
       "├─────────────────────┼───────────────────┼────────────┼───────────────────┤\n",
       "│ dil5_r16_g (<span style=\"color: #0087ff; text-decoration-color: #0087ff\">Conv1D</span>) │ (<span style=\"color: #00d7ff; text-decoration-color: #00d7ff\">None</span>, <span style=\"color: #00af00; text-decoration-color: #00af00\">48000</span>, <span style=\"color: #00af00; text-decoration-color: #00af00\">32</span>) │      <span style=\"color: #00af00; text-decoration-color: #00af00\">2,080</span> │ dil5_r16_g_pad[<span style=\"color: #00af00; text-decoration-color: #00af00\">0</span>… │\n",
       "├─────────────────────┼───────────────────┼────────────┼───────────────────┤\n",
       "│ dil5_r16_tanh       │ (<span style=\"color: #00d7ff; text-decoration-color: #00d7ff\">None</span>, <span style=\"color: #00af00; text-decoration-color: #00af00\">48000</span>, <span style=\"color: #00af00; text-decoration-color: #00af00\">32</span>) │          <span style=\"color: #00af00; text-decoration-color: #00af00\">0</span> │ dil5_r16_f[<span style=\"color: #00af00; text-decoration-color: #00af00\">0</span>][<span style=\"color: #00af00; text-decoration-color: #00af00\">0</span>]  │\n",
       "│ (<span style=\"color: #0087ff; text-decoration-color: #0087ff\">Activation</span>)        │                   │            │                   │\n",
       "├─────────────────────┼───────────────────┼────────────┼───────────────────┤\n",
       "│ dil5_r16_sigmoid    │ (<span style=\"color: #00d7ff; text-decoration-color: #00d7ff\">None</span>, <span style=\"color: #00af00; text-decoration-color: #00af00\">48000</span>, <span style=\"color: #00af00; text-decoration-color: #00af00\">32</span>) │          <span style=\"color: #00af00; text-decoration-color: #00af00\">0</span> │ dil5_r16_g[<span style=\"color: #00af00; text-decoration-color: #00af00\">0</span>][<span style=\"color: #00af00; text-decoration-color: #00af00\">0</span>]  │\n",
       "│ (<span style=\"color: #0087ff; text-decoration-color: #0087ff\">Activation</span>)        │                   │            │                   │\n",
       "├─────────────────────┼───────────────────┼────────────┼───────────────────┤\n",
       "│ dil5_r16_gate       │ (<span style=\"color: #00d7ff; text-decoration-color: #00d7ff\">None</span>, <span style=\"color: #00af00; text-decoration-color: #00af00\">48000</span>, <span style=\"color: #00af00; text-decoration-color: #00af00\">32</span>) │          <span style=\"color: #00af00; text-decoration-color: #00af00\">0</span> │ dil5_r16_tanh[<span style=\"color: #00af00; text-decoration-color: #00af00\">0</span>]… │\n",
       "│ (<span style=\"color: #0087ff; text-decoration-color: #0087ff\">Multiply</span>)          │                   │            │ dil5_r16_sigmoid… │\n",
       "├─────────────────────┼───────────────────┼────────────┼───────────────────┤\n",
       "│ dil5_r16_res        │ (<span style=\"color: #00d7ff; text-decoration-color: #00d7ff\">None</span>, <span style=\"color: #00af00; text-decoration-color: #00af00\">48000</span>, <span style=\"color: #00af00; text-decoration-color: #00af00\">32</span>) │      <span style=\"color: #00af00; text-decoration-color: #00af00\">1,056</span> │ dil5_r16_gate[<span style=\"color: #00af00; text-decoration-color: #00af00\">0</span>]… │\n",
       "│ (<span style=\"color: #0087ff; text-decoration-color: #0087ff\">Conv1D</span>)            │                   │            │                   │\n",
       "├─────────────────────┼───────────────────┼────────────┼───────────────────┤\n",
       "│ dil5_r16_out (<span style=\"color: #0087ff; text-decoration-color: #0087ff\">Add</span>)  │ (<span style=\"color: #00d7ff; text-decoration-color: #00d7ff\">None</span>, <span style=\"color: #00af00; text-decoration-color: #00af00\">48000</span>, <span style=\"color: #00af00; text-decoration-color: #00af00\">32</span>) │          <span style=\"color: #00af00; text-decoration-color: #00af00\">0</span> │ dil5_r16_res[<span style=\"color: #00af00; text-decoration-color: #00af00\">0</span>][<span style=\"color: #00af00; text-decoration-color: #00af00\">…</span> │\n",
       "│                     │                   │            │ dil4_r8_out[<span style=\"color: #00af00; text-decoration-color: #00af00\">0</span>][<span style=\"color: #00af00; text-decoration-color: #00af00\">0</span>] │\n",
       "├─────────────────────┼───────────────────┼────────────┼───────────────────┤\n",
       "│ dil6_r32_f_pad      │ (<span style=\"color: #00d7ff; text-decoration-color: #00d7ff\">None</span>, <span style=\"color: #00af00; text-decoration-color: #00af00\">48032</span>, <span style=\"color: #00af00; text-decoration-color: #00af00\">32</span>) │          <span style=\"color: #00af00; text-decoration-color: #00af00\">0</span> │ dil5_r16_out[<span style=\"color: #00af00; text-decoration-color: #00af00\">0</span>][<span style=\"color: #00af00; text-decoration-color: #00af00\">…</span> │\n",
       "│ (<span style=\"color: #0087ff; text-decoration-color: #0087ff\">ZeroPadding1D</span>)     │                   │            │                   │\n",
       "├─────────────────────┼───────────────────┼────────────┼───────────────────┤\n",
       "│ dil6_r32_g_pad      │ (<span style=\"color: #00d7ff; text-decoration-color: #00d7ff\">None</span>, <span style=\"color: #00af00; text-decoration-color: #00af00\">48032</span>, <span style=\"color: #00af00; text-decoration-color: #00af00\">32</span>) │          <span style=\"color: #00af00; text-decoration-color: #00af00\">0</span> │ dil5_r16_out[<span style=\"color: #00af00; text-decoration-color: #00af00\">0</span>][<span style=\"color: #00af00; text-decoration-color: #00af00\">…</span> │\n",
       "│ (<span style=\"color: #0087ff; text-decoration-color: #0087ff\">ZeroPadding1D</span>)     │                   │            │                   │\n",
       "├─────────────────────┼───────────────────┼────────────┼───────────────────┤\n",
       "│ dil6_r32_f (<span style=\"color: #0087ff; text-decoration-color: #0087ff\">Conv1D</span>) │ (<span style=\"color: #00d7ff; text-decoration-color: #00d7ff\">None</span>, <span style=\"color: #00af00; text-decoration-color: #00af00\">48000</span>, <span style=\"color: #00af00; text-decoration-color: #00af00\">32</span>) │      <span style=\"color: #00af00; text-decoration-color: #00af00\">2,080</span> │ dil6_r32_f_pad[<span style=\"color: #00af00; text-decoration-color: #00af00\">0</span>… │\n",
       "├─────────────────────┼───────────────────┼────────────┼───────────────────┤\n",
       "│ dil6_r32_g (<span style=\"color: #0087ff; text-decoration-color: #0087ff\">Conv1D</span>) │ (<span style=\"color: #00d7ff; text-decoration-color: #00d7ff\">None</span>, <span style=\"color: #00af00; text-decoration-color: #00af00\">48000</span>, <span style=\"color: #00af00; text-decoration-color: #00af00\">32</span>) │      <span style=\"color: #00af00; text-decoration-color: #00af00\">2,080</span> │ dil6_r32_g_pad[<span style=\"color: #00af00; text-decoration-color: #00af00\">0</span>… │\n",
       "├─────────────────────┼───────────────────┼────────────┼───────────────────┤\n",
       "│ dil6_r32_tanh       │ (<span style=\"color: #00d7ff; text-decoration-color: #00d7ff\">None</span>, <span style=\"color: #00af00; text-decoration-color: #00af00\">48000</span>, <span style=\"color: #00af00; text-decoration-color: #00af00\">32</span>) │          <span style=\"color: #00af00; text-decoration-color: #00af00\">0</span> │ dil6_r32_f[<span style=\"color: #00af00; text-decoration-color: #00af00\">0</span>][<span style=\"color: #00af00; text-decoration-color: #00af00\">0</span>]  │\n",
       "│ (<span style=\"color: #0087ff; text-decoration-color: #0087ff\">Activation</span>)        │                   │            │                   │\n",
       "├─────────────────────┼───────────────────┼────────────┼───────────────────┤\n",
       "│ dil6_r32_sigmoid    │ (<span style=\"color: #00d7ff; text-decoration-color: #00d7ff\">None</span>, <span style=\"color: #00af00; text-decoration-color: #00af00\">48000</span>, <span style=\"color: #00af00; text-decoration-color: #00af00\">32</span>) │          <span style=\"color: #00af00; text-decoration-color: #00af00\">0</span> │ dil6_r32_g[<span style=\"color: #00af00; text-decoration-color: #00af00\">0</span>][<span style=\"color: #00af00; text-decoration-color: #00af00\">0</span>]  │\n",
       "│ (<span style=\"color: #0087ff; text-decoration-color: #0087ff\">Activation</span>)        │                   │            │                   │\n",
       "├─────────────────────┼───────────────────┼────────────┼───────────────────┤\n",
       "│ dil6_r32_gate       │ (<span style=\"color: #00d7ff; text-decoration-color: #00d7ff\">None</span>, <span style=\"color: #00af00; text-decoration-color: #00af00\">48000</span>, <span style=\"color: #00af00; text-decoration-color: #00af00\">32</span>) │          <span style=\"color: #00af00; text-decoration-color: #00af00\">0</span> │ dil6_r32_tanh[<span style=\"color: #00af00; text-decoration-color: #00af00\">0</span>]… │\n",
       "│ (<span style=\"color: #0087ff; text-decoration-color: #0087ff\">Multiply</span>)          │                   │            │ dil6_r32_sigmoid… │\n",
       "├─────────────────────┼───────────────────┼────────────┼───────────────────┤\n",
       "│ dil6_r32_res        │ (<span style=\"color: #00d7ff; text-decoration-color: #00d7ff\">None</span>, <span style=\"color: #00af00; text-decoration-color: #00af00\">48000</span>, <span style=\"color: #00af00; text-decoration-color: #00af00\">32</span>) │      <span style=\"color: #00af00; text-decoration-color: #00af00\">1,056</span> │ dil6_r32_gate[<span style=\"color: #00af00; text-decoration-color: #00af00\">0</span>]… │\n",
       "│ (<span style=\"color: #0087ff; text-decoration-color: #0087ff\">Conv1D</span>)            │                   │            │                   │\n",
       "├─────────────────────┼───────────────────┼────────────┼───────────────────┤\n",
       "│ dil6_r32_out (<span style=\"color: #0087ff; text-decoration-color: #0087ff\">Add</span>)  │ (<span style=\"color: #00d7ff; text-decoration-color: #00d7ff\">None</span>, <span style=\"color: #00af00; text-decoration-color: #00af00\">48000</span>, <span style=\"color: #00af00; text-decoration-color: #00af00\">32</span>) │          <span style=\"color: #00af00; text-decoration-color: #00af00\">0</span> │ dil6_r32_res[<span style=\"color: #00af00; text-decoration-color: #00af00\">0</span>][<span style=\"color: #00af00; text-decoration-color: #00af00\">…</span> │\n",
       "│                     │                   │            │ dil5_r16_out[<span style=\"color: #00af00; text-decoration-color: #00af00\">0</span>][<span style=\"color: #00af00; text-decoration-color: #00af00\">…</span> │\n",
       "├─────────────────────┼───────────────────┼────────────┼───────────────────┤\n",
       "│ dil7_r64_f_pad      │ (<span style=\"color: #00d7ff; text-decoration-color: #00d7ff\">None</span>, <span style=\"color: #00af00; text-decoration-color: #00af00\">48064</span>, <span style=\"color: #00af00; text-decoration-color: #00af00\">32</span>) │          <span style=\"color: #00af00; text-decoration-color: #00af00\">0</span> │ dil6_r32_out[<span style=\"color: #00af00; text-decoration-color: #00af00\">0</span>][<span style=\"color: #00af00; text-decoration-color: #00af00\">…</span> │\n",
       "│ (<span style=\"color: #0087ff; text-decoration-color: #0087ff\">ZeroPadding1D</span>)     │                   │            │                   │\n",
       "├─────────────────────┼───────────────────┼────────────┼───────────────────┤\n",
       "│ dil7_r64_g_pad      │ (<span style=\"color: #00d7ff; text-decoration-color: #00d7ff\">None</span>, <span style=\"color: #00af00; text-decoration-color: #00af00\">48064</span>, <span style=\"color: #00af00; text-decoration-color: #00af00\">32</span>) │          <span style=\"color: #00af00; text-decoration-color: #00af00\">0</span> │ dil6_r32_out[<span style=\"color: #00af00; text-decoration-color: #00af00\">0</span>][<span style=\"color: #00af00; text-decoration-color: #00af00\">…</span> │\n",
       "│ (<span style=\"color: #0087ff; text-decoration-color: #0087ff\">ZeroPadding1D</span>)     │                   │            │                   │\n",
       "├─────────────────────┼───────────────────┼────────────┼───────────────────┤\n",
       "│ dil7_r64_f (<span style=\"color: #0087ff; text-decoration-color: #0087ff\">Conv1D</span>) │ (<span style=\"color: #00d7ff; text-decoration-color: #00d7ff\">None</span>, <span style=\"color: #00af00; text-decoration-color: #00af00\">48000</span>, <span style=\"color: #00af00; text-decoration-color: #00af00\">32</span>) │      <span style=\"color: #00af00; text-decoration-color: #00af00\">2,080</span> │ dil7_r64_f_pad[<span style=\"color: #00af00; text-decoration-color: #00af00\">0</span>… │\n",
       "├─────────────────────┼───────────────────┼────────────┼───────────────────┤\n",
       "│ dil7_r64_g (<span style=\"color: #0087ff; text-decoration-color: #0087ff\">Conv1D</span>) │ (<span style=\"color: #00d7ff; text-decoration-color: #00d7ff\">None</span>, <span style=\"color: #00af00; text-decoration-color: #00af00\">48000</span>, <span style=\"color: #00af00; text-decoration-color: #00af00\">32</span>) │      <span style=\"color: #00af00; text-decoration-color: #00af00\">2,080</span> │ dil7_r64_g_pad[<span style=\"color: #00af00; text-decoration-color: #00af00\">0</span>… │\n",
       "├─────────────────────┼───────────────────┼────────────┼───────────────────┤\n",
       "│ dil7_r64_tanh       │ (<span style=\"color: #00d7ff; text-decoration-color: #00d7ff\">None</span>, <span style=\"color: #00af00; text-decoration-color: #00af00\">48000</span>, <span style=\"color: #00af00; text-decoration-color: #00af00\">32</span>) │          <span style=\"color: #00af00; text-decoration-color: #00af00\">0</span> │ dil7_r64_f[<span style=\"color: #00af00; text-decoration-color: #00af00\">0</span>][<span style=\"color: #00af00; text-decoration-color: #00af00\">0</span>]  │\n",
       "│ (<span style=\"color: #0087ff; text-decoration-color: #0087ff\">Activation</span>)        │                   │            │                   │\n",
       "├─────────────────────┼───────────────────┼────────────┼───────────────────┤\n",
       "│ dil7_r64_sigmoid    │ (<span style=\"color: #00d7ff; text-decoration-color: #00d7ff\">None</span>, <span style=\"color: #00af00; text-decoration-color: #00af00\">48000</span>, <span style=\"color: #00af00; text-decoration-color: #00af00\">32</span>) │          <span style=\"color: #00af00; text-decoration-color: #00af00\">0</span> │ dil7_r64_g[<span style=\"color: #00af00; text-decoration-color: #00af00\">0</span>][<span style=\"color: #00af00; text-decoration-color: #00af00\">0</span>]  │\n",
       "│ (<span style=\"color: #0087ff; text-decoration-color: #0087ff\">Activation</span>)        │                   │            │                   │\n",
       "├─────────────────────┼───────────────────┼────────────┼───────────────────┤\n",
       "│ dil7_r64_gate       │ (<span style=\"color: #00d7ff; text-decoration-color: #00d7ff\">None</span>, <span style=\"color: #00af00; text-decoration-color: #00af00\">48000</span>, <span style=\"color: #00af00; text-decoration-color: #00af00\">32</span>) │          <span style=\"color: #00af00; text-decoration-color: #00af00\">0</span> │ dil7_r64_tanh[<span style=\"color: #00af00; text-decoration-color: #00af00\">0</span>]… │\n",
       "│ (<span style=\"color: #0087ff; text-decoration-color: #0087ff\">Multiply</span>)          │                   │            │ dil7_r64_sigmoid… │\n",
       "├─────────────────────┼───────────────────┼────────────┼───────────────────┤\n",
       "│ dil7_r64_res        │ (<span style=\"color: #00d7ff; text-decoration-color: #00d7ff\">None</span>, <span style=\"color: #00af00; text-decoration-color: #00af00\">48000</span>, <span style=\"color: #00af00; text-decoration-color: #00af00\">32</span>) │      <span style=\"color: #00af00; text-decoration-color: #00af00\">1,056</span> │ dil7_r64_gate[<span style=\"color: #00af00; text-decoration-color: #00af00\">0</span>]… │\n",
       "│ (<span style=\"color: #0087ff; text-decoration-color: #0087ff\">Conv1D</span>)            │                   │            │                   │\n",
       "├─────────────────────┼───────────────────┼────────────┼───────────────────┤\n",
       "│ dil7_r64_out (<span style=\"color: #0087ff; text-decoration-color: #0087ff\">Add</span>)  │ (<span style=\"color: #00d7ff; text-decoration-color: #00d7ff\">None</span>, <span style=\"color: #00af00; text-decoration-color: #00af00\">48000</span>, <span style=\"color: #00af00; text-decoration-color: #00af00\">32</span>) │          <span style=\"color: #00af00; text-decoration-color: #00af00\">0</span> │ dil7_r64_res[<span style=\"color: #00af00; text-decoration-color: #00af00\">0</span>][<span style=\"color: #00af00; text-decoration-color: #00af00\">…</span> │\n",
       "│                     │                   │            │ dil6_r32_out[<span style=\"color: #00af00; text-decoration-color: #00af00\">0</span>][<span style=\"color: #00af00; text-decoration-color: #00af00\">…</span> │\n",
       "├─────────────────────┼───────────────────┼────────────┼───────────────────┤\n",
       "│ dil8_r128_f_pad     │ (<span style=\"color: #00d7ff; text-decoration-color: #00d7ff\">None</span>, <span style=\"color: #00af00; text-decoration-color: #00af00\">48128</span>, <span style=\"color: #00af00; text-decoration-color: #00af00\">32</span>) │          <span style=\"color: #00af00; text-decoration-color: #00af00\">0</span> │ dil7_r64_out[<span style=\"color: #00af00; text-decoration-color: #00af00\">0</span>][<span style=\"color: #00af00; text-decoration-color: #00af00\">…</span> │\n",
       "│ (<span style=\"color: #0087ff; text-decoration-color: #0087ff\">ZeroPadding1D</span>)     │                   │            │                   │\n",
       "├─────────────────────┼───────────────────┼────────────┼───────────────────┤\n",
       "│ dil8_r128_g_pad     │ (<span style=\"color: #00d7ff; text-decoration-color: #00d7ff\">None</span>, <span style=\"color: #00af00; text-decoration-color: #00af00\">48128</span>, <span style=\"color: #00af00; text-decoration-color: #00af00\">32</span>) │          <span style=\"color: #00af00; text-decoration-color: #00af00\">0</span> │ dil7_r64_out[<span style=\"color: #00af00; text-decoration-color: #00af00\">0</span>][<span style=\"color: #00af00; text-decoration-color: #00af00\">…</span> │\n",
       "│ (<span style=\"color: #0087ff; text-decoration-color: #0087ff\">ZeroPadding1D</span>)     │                   │            │                   │\n",
       "├─────────────────────┼───────────────────┼────────────┼───────────────────┤\n",
       "│ dil8_r128_f         │ (<span style=\"color: #00d7ff; text-decoration-color: #00d7ff\">None</span>, <span style=\"color: #00af00; text-decoration-color: #00af00\">48000</span>, <span style=\"color: #00af00; text-decoration-color: #00af00\">32</span>) │      <span style=\"color: #00af00; text-decoration-color: #00af00\">2,080</span> │ dil8_r128_f_pad[<span style=\"color: #00af00; text-decoration-color: #00af00\">…</span> │\n",
       "│ (<span style=\"color: #0087ff; text-decoration-color: #0087ff\">Conv1D</span>)            │                   │            │                   │\n",
       "├─────────────────────┼───────────────────┼────────────┼───────────────────┤\n",
       "│ dil8_r128_g         │ (<span style=\"color: #00d7ff; text-decoration-color: #00d7ff\">None</span>, <span style=\"color: #00af00; text-decoration-color: #00af00\">48000</span>, <span style=\"color: #00af00; text-decoration-color: #00af00\">32</span>) │      <span style=\"color: #00af00; text-decoration-color: #00af00\">2,080</span> │ dil8_r128_g_pad[<span style=\"color: #00af00; text-decoration-color: #00af00\">…</span> │\n",
       "│ (<span style=\"color: #0087ff; text-decoration-color: #0087ff\">Conv1D</span>)            │                   │            │                   │\n",
       "├─────────────────────┼───────────────────┼────────────┼───────────────────┤\n",
       "│ dil8_r128_tanh      │ (<span style=\"color: #00d7ff; text-decoration-color: #00d7ff\">None</span>, <span style=\"color: #00af00; text-decoration-color: #00af00\">48000</span>, <span style=\"color: #00af00; text-decoration-color: #00af00\">32</span>) │          <span style=\"color: #00af00; text-decoration-color: #00af00\">0</span> │ dil8_r128_f[<span style=\"color: #00af00; text-decoration-color: #00af00\">0</span>][<span style=\"color: #00af00; text-decoration-color: #00af00\">0</span>] │\n",
       "│ (<span style=\"color: #0087ff; text-decoration-color: #0087ff\">Activation</span>)        │                   │            │                   │\n",
       "├─────────────────────┼───────────────────┼────────────┼───────────────────┤\n",
       "│ dil8_r128_sigmoid   │ (<span style=\"color: #00d7ff; text-decoration-color: #00d7ff\">None</span>, <span style=\"color: #00af00; text-decoration-color: #00af00\">48000</span>, <span style=\"color: #00af00; text-decoration-color: #00af00\">32</span>) │          <span style=\"color: #00af00; text-decoration-color: #00af00\">0</span> │ dil8_r128_g[<span style=\"color: #00af00; text-decoration-color: #00af00\">0</span>][<span style=\"color: #00af00; text-decoration-color: #00af00\">0</span>] │\n",
       "│ (<span style=\"color: #0087ff; text-decoration-color: #0087ff\">Activation</span>)        │                   │            │                   │\n",
       "├─────────────────────┼───────────────────┼────────────┼───────────────────┤\n",
       "│ dil8_r128_gate      │ (<span style=\"color: #00d7ff; text-decoration-color: #00d7ff\">None</span>, <span style=\"color: #00af00; text-decoration-color: #00af00\">48000</span>, <span style=\"color: #00af00; text-decoration-color: #00af00\">32</span>) │          <span style=\"color: #00af00; text-decoration-color: #00af00\">0</span> │ dil8_r128_tanh[<span style=\"color: #00af00; text-decoration-color: #00af00\">0</span>… │\n",
       "│ (<span style=\"color: #0087ff; text-decoration-color: #0087ff\">Multiply</span>)          │                   │            │ dil8_r128_sigmoi… │\n",
       "├─────────────────────┼───────────────────┼────────────┼───────────────────┤\n",
       "│ dil1_r1_skip        │ (<span style=\"color: #00d7ff; text-decoration-color: #00d7ff\">None</span>, <span style=\"color: #00af00; text-decoration-color: #00af00\">48000</span>, <span style=\"color: #00af00; text-decoration-color: #00af00\">64</span>) │      <span style=\"color: #00af00; text-decoration-color: #00af00\">2,112</span> │ dil1_r1_gate[<span style=\"color: #00af00; text-decoration-color: #00af00\">0</span>][<span style=\"color: #00af00; text-decoration-color: #00af00\">…</span> │\n",
       "│ (<span style=\"color: #0087ff; text-decoration-color: #0087ff\">Conv1D</span>)            │                   │            │                   │\n",
       "├─────────────────────┼───────────────────┼────────────┼───────────────────┤\n",
       "│ dil2_r2_skip        │ (<span style=\"color: #00d7ff; text-decoration-color: #00d7ff\">None</span>, <span style=\"color: #00af00; text-decoration-color: #00af00\">48000</span>, <span style=\"color: #00af00; text-decoration-color: #00af00\">64</span>) │      <span style=\"color: #00af00; text-decoration-color: #00af00\">2,112</span> │ dil2_r2_gate[<span style=\"color: #00af00; text-decoration-color: #00af00\">0</span>][<span style=\"color: #00af00; text-decoration-color: #00af00\">…</span> │\n",
       "│ (<span style=\"color: #0087ff; text-decoration-color: #0087ff\">Conv1D</span>)            │                   │            │                   │\n",
       "├─────────────────────┼───────────────────┼────────────┼───────────────────┤\n",
       "│ dil3_r4_skip        │ (<span style=\"color: #00d7ff; text-decoration-color: #00d7ff\">None</span>, <span style=\"color: #00af00; text-decoration-color: #00af00\">48000</span>, <span style=\"color: #00af00; text-decoration-color: #00af00\">64</span>) │      <span style=\"color: #00af00; text-decoration-color: #00af00\">2,112</span> │ dil3_r4_gate[<span style=\"color: #00af00; text-decoration-color: #00af00\">0</span>][<span style=\"color: #00af00; text-decoration-color: #00af00\">…</span> │\n",
       "│ (<span style=\"color: #0087ff; text-decoration-color: #0087ff\">Conv1D</span>)            │                   │            │                   │\n",
       "├─────────────────────┼───────────────────┼────────────┼───────────────────┤\n",
       "│ dil4_r8_skip        │ (<span style=\"color: #00d7ff; text-decoration-color: #00d7ff\">None</span>, <span style=\"color: #00af00; text-decoration-color: #00af00\">48000</span>, <span style=\"color: #00af00; text-decoration-color: #00af00\">64</span>) │      <span style=\"color: #00af00; text-decoration-color: #00af00\">2,112</span> │ dil4_r8_gate[<span style=\"color: #00af00; text-decoration-color: #00af00\">0</span>][<span style=\"color: #00af00; text-decoration-color: #00af00\">…</span> │\n",
       "│ (<span style=\"color: #0087ff; text-decoration-color: #0087ff\">Conv1D</span>)            │                   │            │                   │\n",
       "├─────────────────────┼───────────────────┼────────────┼───────────────────┤\n",
       "│ dil5_r16_skip       │ (<span style=\"color: #00d7ff; text-decoration-color: #00d7ff\">None</span>, <span style=\"color: #00af00; text-decoration-color: #00af00\">48000</span>, <span style=\"color: #00af00; text-decoration-color: #00af00\">64</span>) │      <span style=\"color: #00af00; text-decoration-color: #00af00\">2,112</span> │ dil5_r16_gate[<span style=\"color: #00af00; text-decoration-color: #00af00\">0</span>]… │\n",
       "│ (<span style=\"color: #0087ff; text-decoration-color: #0087ff\">Conv1D</span>)            │                   │            │                   │\n",
       "├─────────────────────┼───────────────────┼────────────┼───────────────────┤\n",
       "│ dil6_r32_skip       │ (<span style=\"color: #00d7ff; text-decoration-color: #00d7ff\">None</span>, <span style=\"color: #00af00; text-decoration-color: #00af00\">48000</span>, <span style=\"color: #00af00; text-decoration-color: #00af00\">64</span>) │      <span style=\"color: #00af00; text-decoration-color: #00af00\">2,112</span> │ dil6_r32_gate[<span style=\"color: #00af00; text-decoration-color: #00af00\">0</span>]… │\n",
       "│ (<span style=\"color: #0087ff; text-decoration-color: #0087ff\">Conv1D</span>)            │                   │            │                   │\n",
       "├─────────────────────┼───────────────────┼────────────┼───────────────────┤\n",
       "│ dil7_r64_skip       │ (<span style=\"color: #00d7ff; text-decoration-color: #00d7ff\">None</span>, <span style=\"color: #00af00; text-decoration-color: #00af00\">48000</span>, <span style=\"color: #00af00; text-decoration-color: #00af00\">64</span>) │      <span style=\"color: #00af00; text-decoration-color: #00af00\">2,112</span> │ dil7_r64_gate[<span style=\"color: #00af00; text-decoration-color: #00af00\">0</span>]… │\n",
       "│ (<span style=\"color: #0087ff; text-decoration-color: #0087ff\">Conv1D</span>)            │                   │            │                   │\n",
       "├─────────────────────┼───────────────────┼────────────┼───────────────────┤\n",
       "│ dil8_r128_skip      │ (<span style=\"color: #00d7ff; text-decoration-color: #00d7ff\">None</span>, <span style=\"color: #00af00; text-decoration-color: #00af00\">48000</span>, <span style=\"color: #00af00; text-decoration-color: #00af00\">64</span>) │      <span style=\"color: #00af00; text-decoration-color: #00af00\">2,112</span> │ dil8_r128_gate[<span style=\"color: #00af00; text-decoration-color: #00af00\">0</span>… │\n",
       "│ (<span style=\"color: #0087ff; text-decoration-color: #0087ff\">Conv1D</span>)            │                   │            │                   │\n",
       "├─────────────────────┼───────────────────┼────────────┼───────────────────┤\n",
       "│ skip_sum (<span style=\"color: #0087ff; text-decoration-color: #0087ff\">Add</span>)      │ (<span style=\"color: #00d7ff; text-decoration-color: #00d7ff\">None</span>, <span style=\"color: #00af00; text-decoration-color: #00af00\">48000</span>, <span style=\"color: #00af00; text-decoration-color: #00af00\">64</span>) │          <span style=\"color: #00af00; text-decoration-color: #00af00\">0</span> │ dil1_r1_skip[<span style=\"color: #00af00; text-decoration-color: #00af00\">0</span>][<span style=\"color: #00af00; text-decoration-color: #00af00\">…</span> │\n",
       "│                     │                   │            │ dil2_r2_skip[<span style=\"color: #00af00; text-decoration-color: #00af00\">0</span>][<span style=\"color: #00af00; text-decoration-color: #00af00\">…</span> │\n",
       "│                     │                   │            │ dil3_r4_skip[<span style=\"color: #00af00; text-decoration-color: #00af00\">0</span>][<span style=\"color: #00af00; text-decoration-color: #00af00\">…</span> │\n",
       "│                     │                   │            │ dil4_r8_skip[<span style=\"color: #00af00; text-decoration-color: #00af00\">0</span>][<span style=\"color: #00af00; text-decoration-color: #00af00\">…</span> │\n",
       "│                     │                   │            │ dil5_r16_skip[<span style=\"color: #00af00; text-decoration-color: #00af00\">0</span>]… │\n",
       "│                     │                   │            │ dil6_r32_skip[<span style=\"color: #00af00; text-decoration-color: #00af00\">0</span>]… │\n",
       "│                     │                   │            │ dil7_r64_skip[<span style=\"color: #00af00; text-decoration-color: #00af00\">0</span>]… │\n",
       "│                     │                   │            │ dil8_r128_skip[<span style=\"color: #00af00; text-decoration-color: #00af00\">0</span>… │\n",
       "├─────────────────────┼───────────────────┼────────────┼───────────────────┤\n",
       "│ post_relu           │ (<span style=\"color: #00d7ff; text-decoration-color: #00d7ff\">None</span>, <span style=\"color: #00af00; text-decoration-color: #00af00\">48000</span>, <span style=\"color: #00af00; text-decoration-color: #00af00\">64</span>) │          <span style=\"color: #00af00; text-decoration-color: #00af00\">0</span> │ skip_sum[<span style=\"color: #00af00; text-decoration-color: #00af00\">0</span>][<span style=\"color: #00af00; text-decoration-color: #00af00\">0</span>]    │\n",
       "│ (<span style=\"color: #0087ff; text-decoration-color: #0087ff\">Activation</span>)        │                   │            │                   │\n",
       "├─────────────────────┼───────────────────┼────────────┼───────────────────┤\n",
       "│ post_conv1 (<span style=\"color: #0087ff; text-decoration-color: #0087ff\">Conv1D</span>) │ (<span style=\"color: #00d7ff; text-decoration-color: #00d7ff\">None</span>, <span style=\"color: #00af00; text-decoration-color: #00af00\">48000</span>, <span style=\"color: #00af00; text-decoration-color: #00af00\">64</span>) │      <span style=\"color: #00af00; text-decoration-color: #00af00\">4,160</span> │ post_relu[<span style=\"color: #00af00; text-decoration-color: #00af00\">0</span>][<span style=\"color: #00af00; text-decoration-color: #00af00\">0</span>]   │\n",
       "├─────────────────────┼───────────────────┼────────────┼───────────────────┤\n",
       "│ post_dropout        │ (<span style=\"color: #00d7ff; text-decoration-color: #00d7ff\">None</span>, <span style=\"color: #00af00; text-decoration-color: #00af00\">48000</span>, <span style=\"color: #00af00; text-decoration-color: #00af00\">64</span>) │          <span style=\"color: #00af00; text-decoration-color: #00af00\">0</span> │ post_conv1[<span style=\"color: #00af00; text-decoration-color: #00af00\">0</span>][<span style=\"color: #00af00; text-decoration-color: #00af00\">0</span>]  │\n",
       "│ (<span style=\"color: #0087ff; text-decoration-color: #0087ff\">Dropout</span>)           │                   │            │                   │\n",
       "├─────────────────────┼───────────────────┼────────────┼───────────────────┤\n",
       "│ post_conv2 (<span style=\"color: #0087ff; text-decoration-color: #0087ff\">Conv1D</span>) │ (<span style=\"color: #00d7ff; text-decoration-color: #00d7ff\">None</span>, <span style=\"color: #00af00; text-decoration-color: #00af00\">48000</span>, <span style=\"color: #00af00; text-decoration-color: #00af00\">4</span>)  │        <span style=\"color: #00af00; text-decoration-color: #00af00\">260</span> │ post_dropout[<span style=\"color: #00af00; text-decoration-color: #00af00\">0</span>][<span style=\"color: #00af00; text-decoration-color: #00af00\">…</span> │\n",
       "├─────────────────────┼───────────────────┼────────────┼───────────────────┤\n",
       "│ attn_pool           │ (<span style=\"color: #00d7ff; text-decoration-color: #00d7ff\">None</span>, <span style=\"color: #00af00; text-decoration-color: #00af00\">4</span>)         │          <span style=\"color: #00af00; text-decoration-color: #00af00\">5</span> │ post_conv2[<span style=\"color: #00af00; text-decoration-color: #00af00\">0</span>][<span style=\"color: #00af00; text-decoration-color: #00af00\">0</span>]  │\n",
       "│ (<span style=\"color: #0087ff; text-decoration-color: #0087ff\">AttentionPooling</span>)  │                   │            │                   │\n",
       "├─────────────────────┼───────────────────┼────────────┼───────────────────┤\n",
       "│ softmax             │ (<span style=\"color: #00d7ff; text-decoration-color: #00d7ff\">None</span>, <span style=\"color: #00af00; text-decoration-color: #00af00\">4</span>)         │          <span style=\"color: #00af00; text-decoration-color: #00af00\">0</span> │ attn_pool[<span style=\"color: #00af00; text-decoration-color: #00af00\">0</span>][<span style=\"color: #00af00; text-decoration-color: #00af00\">0</span>]   │\n",
       "│ (<span style=\"color: #0087ff; text-decoration-color: #0087ff\">Activation</span>)        │                   │            │                   │\n",
       "└─────────────────────┴───────────────────┴────────────┴───────────────────┘\n",
       "</pre>\n"
      ],
      "text/plain": [
       "┏━━━━━━━━━━━━━━━━━━━━━┳━━━━━━━━━━━━━━━━━━━┳━━━━━━━━━━━━┳━━━━━━━━━━━━━━━━━━━┓\n",
       "┃\u001b[1m \u001b[0m\u001b[1mLayer (type)       \u001b[0m\u001b[1m \u001b[0m┃\u001b[1m \u001b[0m\u001b[1mOutput Shape     \u001b[0m\u001b[1m \u001b[0m┃\u001b[1m \u001b[0m\u001b[1m   Param #\u001b[0m\u001b[1m \u001b[0m┃\u001b[1m \u001b[0m\u001b[1mConnected to     \u001b[0m\u001b[1m \u001b[0m┃\n",
       "┡━━━━━━━━━━━━━━━━━━━━━╇━━━━━━━━━━━━━━━━━━━╇━━━━━━━━━━━━╇━━━━━━━━━━━━━━━━━━━┩\n",
       "│ input_wave          │ (\u001b[38;5;45mNone\u001b[0m, \u001b[38;5;34m48000\u001b[0m, \u001b[38;5;34m1\u001b[0m)  │          \u001b[38;5;34m0\u001b[0m │ -                 │\n",
       "│ (\u001b[38;5;33mInputLayer\u001b[0m)        │                   │            │                   │\n",
       "├─────────────────────┼───────────────────┼────────────┼───────────────────┤\n",
       "│ pre_conv (\u001b[38;5;33mConv1D\u001b[0m)   │ (\u001b[38;5;45mNone\u001b[0m, \u001b[38;5;34m48000\u001b[0m, \u001b[38;5;34m32\u001b[0m) │         \u001b[38;5;34m64\u001b[0m │ input_wave[\u001b[38;5;34m0\u001b[0m][\u001b[38;5;34m0\u001b[0m]  │\n",
       "├─────────────────────┼───────────────────┼────────────┼───────────────────┤\n",
       "│ dil1_r1_f_pad       │ (\u001b[38;5;45mNone\u001b[0m, \u001b[38;5;34m48001\u001b[0m, \u001b[38;5;34m32\u001b[0m) │          \u001b[38;5;34m0\u001b[0m │ pre_conv[\u001b[38;5;34m0\u001b[0m][\u001b[38;5;34m0\u001b[0m]    │\n",
       "│ (\u001b[38;5;33mZeroPadding1D\u001b[0m)     │                   │            │                   │\n",
       "├─────────────────────┼───────────────────┼────────────┼───────────────────┤\n",
       "│ dil1_r1_g_pad       │ (\u001b[38;5;45mNone\u001b[0m, \u001b[38;5;34m48001\u001b[0m, \u001b[38;5;34m32\u001b[0m) │          \u001b[38;5;34m0\u001b[0m │ pre_conv[\u001b[38;5;34m0\u001b[0m][\u001b[38;5;34m0\u001b[0m]    │\n",
       "│ (\u001b[38;5;33mZeroPadding1D\u001b[0m)     │                   │            │                   │\n",
       "├─────────────────────┼───────────────────┼────────────┼───────────────────┤\n",
       "│ dil1_r1_f (\u001b[38;5;33mConv1D\u001b[0m)  │ (\u001b[38;5;45mNone\u001b[0m, \u001b[38;5;34m48000\u001b[0m, \u001b[38;5;34m32\u001b[0m) │      \u001b[38;5;34m2,080\u001b[0m │ dil1_r1_f_pad[\u001b[38;5;34m0\u001b[0m]… │\n",
       "├─────────────────────┼───────────────────┼────────────┼───────────────────┤\n",
       "│ dil1_r1_g (\u001b[38;5;33mConv1D\u001b[0m)  │ (\u001b[38;5;45mNone\u001b[0m, \u001b[38;5;34m48000\u001b[0m, \u001b[38;5;34m32\u001b[0m) │      \u001b[38;5;34m2,080\u001b[0m │ dil1_r1_g_pad[\u001b[38;5;34m0\u001b[0m]… │\n",
       "├─────────────────────┼───────────────────┼────────────┼───────────────────┤\n",
       "│ dil1_r1_tanh        │ (\u001b[38;5;45mNone\u001b[0m, \u001b[38;5;34m48000\u001b[0m, \u001b[38;5;34m32\u001b[0m) │          \u001b[38;5;34m0\u001b[0m │ dil1_r1_f[\u001b[38;5;34m0\u001b[0m][\u001b[38;5;34m0\u001b[0m]   │\n",
       "│ (\u001b[38;5;33mActivation\u001b[0m)        │                   │            │                   │\n",
       "├─────────────────────┼───────────────────┼────────────┼───────────────────┤\n",
       "│ dil1_r1_sigmoid     │ (\u001b[38;5;45mNone\u001b[0m, \u001b[38;5;34m48000\u001b[0m, \u001b[38;5;34m32\u001b[0m) │          \u001b[38;5;34m0\u001b[0m │ dil1_r1_g[\u001b[38;5;34m0\u001b[0m][\u001b[38;5;34m0\u001b[0m]   │\n",
       "│ (\u001b[38;5;33mActivation\u001b[0m)        │                   │            │                   │\n",
       "├─────────────────────┼───────────────────┼────────────┼───────────────────┤\n",
       "│ dil1_r1_gate        │ (\u001b[38;5;45mNone\u001b[0m, \u001b[38;5;34m48000\u001b[0m, \u001b[38;5;34m32\u001b[0m) │          \u001b[38;5;34m0\u001b[0m │ dil1_r1_tanh[\u001b[38;5;34m0\u001b[0m][\u001b[38;5;34m…\u001b[0m │\n",
       "│ (\u001b[38;5;33mMultiply\u001b[0m)          │                   │            │ dil1_r1_sigmoid[\u001b[38;5;34m…\u001b[0m │\n",
       "├─────────────────────┼───────────────────┼────────────┼───────────────────┤\n",
       "│ dil1_r1_res         │ (\u001b[38;5;45mNone\u001b[0m, \u001b[38;5;34m48000\u001b[0m, \u001b[38;5;34m32\u001b[0m) │      \u001b[38;5;34m1,056\u001b[0m │ dil1_r1_gate[\u001b[38;5;34m0\u001b[0m][\u001b[38;5;34m…\u001b[0m │\n",
       "│ (\u001b[38;5;33mConv1D\u001b[0m)            │                   │            │                   │\n",
       "├─────────────────────┼───────────────────┼────────────┼───────────────────┤\n",
       "│ dil1_r1_out (\u001b[38;5;33mAdd\u001b[0m)   │ (\u001b[38;5;45mNone\u001b[0m, \u001b[38;5;34m48000\u001b[0m, \u001b[38;5;34m32\u001b[0m) │          \u001b[38;5;34m0\u001b[0m │ dil1_r1_res[\u001b[38;5;34m0\u001b[0m][\u001b[38;5;34m0\u001b[0m… │\n",
       "│                     │                   │            │ pre_conv[\u001b[38;5;34m0\u001b[0m][\u001b[38;5;34m0\u001b[0m]    │\n",
       "├─────────────────────┼───────────────────┼────────────┼───────────────────┤\n",
       "│ dil2_r2_f_pad       │ (\u001b[38;5;45mNone\u001b[0m, \u001b[38;5;34m48002\u001b[0m, \u001b[38;5;34m32\u001b[0m) │          \u001b[38;5;34m0\u001b[0m │ dil1_r1_out[\u001b[38;5;34m0\u001b[0m][\u001b[38;5;34m0\u001b[0m] │\n",
       "│ (\u001b[38;5;33mZeroPadding1D\u001b[0m)     │                   │            │                   │\n",
       "├─────────────────────┼───────────────────┼────────────┼───────────────────┤\n",
       "│ dil2_r2_g_pad       │ (\u001b[38;5;45mNone\u001b[0m, \u001b[38;5;34m48002\u001b[0m, \u001b[38;5;34m32\u001b[0m) │          \u001b[38;5;34m0\u001b[0m │ dil1_r1_out[\u001b[38;5;34m0\u001b[0m][\u001b[38;5;34m0\u001b[0m] │\n",
       "│ (\u001b[38;5;33mZeroPadding1D\u001b[0m)     │                   │            │                   │\n",
       "├─────────────────────┼───────────────────┼────────────┼───────────────────┤\n",
       "│ dil2_r2_f (\u001b[38;5;33mConv1D\u001b[0m)  │ (\u001b[38;5;45mNone\u001b[0m, \u001b[38;5;34m48000\u001b[0m, \u001b[38;5;34m32\u001b[0m) │      \u001b[38;5;34m2,080\u001b[0m │ dil2_r2_f_pad[\u001b[38;5;34m0\u001b[0m]… │\n",
       "├─────────────────────┼───────────────────┼────────────┼───────────────────┤\n",
       "│ dil2_r2_g (\u001b[38;5;33mConv1D\u001b[0m)  │ (\u001b[38;5;45mNone\u001b[0m, \u001b[38;5;34m48000\u001b[0m, \u001b[38;5;34m32\u001b[0m) │      \u001b[38;5;34m2,080\u001b[0m │ dil2_r2_g_pad[\u001b[38;5;34m0\u001b[0m]… │\n",
       "├─────────────────────┼───────────────────┼────────────┼───────────────────┤\n",
       "│ dil2_r2_tanh        │ (\u001b[38;5;45mNone\u001b[0m, \u001b[38;5;34m48000\u001b[0m, \u001b[38;5;34m32\u001b[0m) │          \u001b[38;5;34m0\u001b[0m │ dil2_r2_f[\u001b[38;5;34m0\u001b[0m][\u001b[38;5;34m0\u001b[0m]   │\n",
       "│ (\u001b[38;5;33mActivation\u001b[0m)        │                   │            │                   │\n",
       "├─────────────────────┼───────────────────┼────────────┼───────────────────┤\n",
       "│ dil2_r2_sigmoid     │ (\u001b[38;5;45mNone\u001b[0m, \u001b[38;5;34m48000\u001b[0m, \u001b[38;5;34m32\u001b[0m) │          \u001b[38;5;34m0\u001b[0m │ dil2_r2_g[\u001b[38;5;34m0\u001b[0m][\u001b[38;5;34m0\u001b[0m]   │\n",
       "│ (\u001b[38;5;33mActivation\u001b[0m)        │                   │            │                   │\n",
       "├─────────────────────┼───────────────────┼────────────┼───────────────────┤\n",
       "│ dil2_r2_gate        │ (\u001b[38;5;45mNone\u001b[0m, \u001b[38;5;34m48000\u001b[0m, \u001b[38;5;34m32\u001b[0m) │          \u001b[38;5;34m0\u001b[0m │ dil2_r2_tanh[\u001b[38;5;34m0\u001b[0m][\u001b[38;5;34m…\u001b[0m │\n",
       "│ (\u001b[38;5;33mMultiply\u001b[0m)          │                   │            │ dil2_r2_sigmoid[\u001b[38;5;34m…\u001b[0m │\n",
       "├─────────────────────┼───────────────────┼────────────┼───────────────────┤\n",
       "│ dil2_r2_res         │ (\u001b[38;5;45mNone\u001b[0m, \u001b[38;5;34m48000\u001b[0m, \u001b[38;5;34m32\u001b[0m) │      \u001b[38;5;34m1,056\u001b[0m │ dil2_r2_gate[\u001b[38;5;34m0\u001b[0m][\u001b[38;5;34m…\u001b[0m │\n",
       "│ (\u001b[38;5;33mConv1D\u001b[0m)            │                   │            │                   │\n",
       "├─────────────────────┼───────────────────┼────────────┼───────────────────┤\n",
       "│ dil2_r2_out (\u001b[38;5;33mAdd\u001b[0m)   │ (\u001b[38;5;45mNone\u001b[0m, \u001b[38;5;34m48000\u001b[0m, \u001b[38;5;34m32\u001b[0m) │          \u001b[38;5;34m0\u001b[0m │ dil2_r2_res[\u001b[38;5;34m0\u001b[0m][\u001b[38;5;34m0\u001b[0m… │\n",
       "│                     │                   │            │ dil1_r1_out[\u001b[38;5;34m0\u001b[0m][\u001b[38;5;34m0\u001b[0m] │\n",
       "├─────────────────────┼───────────────────┼────────────┼───────────────────┤\n",
       "│ dil3_r4_f_pad       │ (\u001b[38;5;45mNone\u001b[0m, \u001b[38;5;34m48004\u001b[0m, \u001b[38;5;34m32\u001b[0m) │          \u001b[38;5;34m0\u001b[0m │ dil2_r2_out[\u001b[38;5;34m0\u001b[0m][\u001b[38;5;34m0\u001b[0m] │\n",
       "│ (\u001b[38;5;33mZeroPadding1D\u001b[0m)     │                   │            │                   │\n",
       "├─────────────────────┼───────────────────┼────────────┼───────────────────┤\n",
       "│ dil3_r4_g_pad       │ (\u001b[38;5;45mNone\u001b[0m, \u001b[38;5;34m48004\u001b[0m, \u001b[38;5;34m32\u001b[0m) │          \u001b[38;5;34m0\u001b[0m │ dil2_r2_out[\u001b[38;5;34m0\u001b[0m][\u001b[38;5;34m0\u001b[0m] │\n",
       "│ (\u001b[38;5;33mZeroPadding1D\u001b[0m)     │                   │            │                   │\n",
       "├─────────────────────┼───────────────────┼────────────┼───────────────────┤\n",
       "│ dil3_r4_f (\u001b[38;5;33mConv1D\u001b[0m)  │ (\u001b[38;5;45mNone\u001b[0m, \u001b[38;5;34m48000\u001b[0m, \u001b[38;5;34m32\u001b[0m) │      \u001b[38;5;34m2,080\u001b[0m │ dil3_r4_f_pad[\u001b[38;5;34m0\u001b[0m]… │\n",
       "├─────────────────────┼───────────────────┼────────────┼───────────────────┤\n",
       "│ dil3_r4_g (\u001b[38;5;33mConv1D\u001b[0m)  │ (\u001b[38;5;45mNone\u001b[0m, \u001b[38;5;34m48000\u001b[0m, \u001b[38;5;34m32\u001b[0m) │      \u001b[38;5;34m2,080\u001b[0m │ dil3_r4_g_pad[\u001b[38;5;34m0\u001b[0m]… │\n",
       "├─────────────────────┼───────────────────┼────────────┼───────────────────┤\n",
       "│ dil3_r4_tanh        │ (\u001b[38;5;45mNone\u001b[0m, \u001b[38;5;34m48000\u001b[0m, \u001b[38;5;34m32\u001b[0m) │          \u001b[38;5;34m0\u001b[0m │ dil3_r4_f[\u001b[38;5;34m0\u001b[0m][\u001b[38;5;34m0\u001b[0m]   │\n",
       "│ (\u001b[38;5;33mActivation\u001b[0m)        │                   │            │                   │\n",
       "├─────────────────────┼───────────────────┼────────────┼───────────────────┤\n",
       "│ dil3_r4_sigmoid     │ (\u001b[38;5;45mNone\u001b[0m, \u001b[38;5;34m48000\u001b[0m, \u001b[38;5;34m32\u001b[0m) │          \u001b[38;5;34m0\u001b[0m │ dil3_r4_g[\u001b[38;5;34m0\u001b[0m][\u001b[38;5;34m0\u001b[0m]   │\n",
       "│ (\u001b[38;5;33mActivation\u001b[0m)        │                   │            │                   │\n",
       "├─────────────────────┼───────────────────┼────────────┼───────────────────┤\n",
       "│ dil3_r4_gate        │ (\u001b[38;5;45mNone\u001b[0m, \u001b[38;5;34m48000\u001b[0m, \u001b[38;5;34m32\u001b[0m) │          \u001b[38;5;34m0\u001b[0m │ dil3_r4_tanh[\u001b[38;5;34m0\u001b[0m][\u001b[38;5;34m…\u001b[0m │\n",
       "│ (\u001b[38;5;33mMultiply\u001b[0m)          │                   │            │ dil3_r4_sigmoid[\u001b[38;5;34m…\u001b[0m │\n",
       "├─────────────────────┼───────────────────┼────────────┼───────────────────┤\n",
       "│ dil3_r4_res         │ (\u001b[38;5;45mNone\u001b[0m, \u001b[38;5;34m48000\u001b[0m, \u001b[38;5;34m32\u001b[0m) │      \u001b[38;5;34m1,056\u001b[0m │ dil3_r4_gate[\u001b[38;5;34m0\u001b[0m][\u001b[38;5;34m…\u001b[0m │\n",
       "│ (\u001b[38;5;33mConv1D\u001b[0m)            │                   │            │                   │\n",
       "├─────────────────────┼───────────────────┼────────────┼───────────────────┤\n",
       "│ dil3_r4_out (\u001b[38;5;33mAdd\u001b[0m)   │ (\u001b[38;5;45mNone\u001b[0m, \u001b[38;5;34m48000\u001b[0m, \u001b[38;5;34m32\u001b[0m) │          \u001b[38;5;34m0\u001b[0m │ dil3_r4_res[\u001b[38;5;34m0\u001b[0m][\u001b[38;5;34m0\u001b[0m… │\n",
       "│                     │                   │            │ dil2_r2_out[\u001b[38;5;34m0\u001b[0m][\u001b[38;5;34m0\u001b[0m] │\n",
       "├─────────────────────┼───────────────────┼────────────┼───────────────────┤\n",
       "│ dil4_r8_f_pad       │ (\u001b[38;5;45mNone\u001b[0m, \u001b[38;5;34m48008\u001b[0m, \u001b[38;5;34m32\u001b[0m) │          \u001b[38;5;34m0\u001b[0m │ dil3_r4_out[\u001b[38;5;34m0\u001b[0m][\u001b[38;5;34m0\u001b[0m] │\n",
       "│ (\u001b[38;5;33mZeroPadding1D\u001b[0m)     │                   │            │                   │\n",
       "├─────────────────────┼───────────────────┼────────────┼───────────────────┤\n",
       "│ dil4_r8_g_pad       │ (\u001b[38;5;45mNone\u001b[0m, \u001b[38;5;34m48008\u001b[0m, \u001b[38;5;34m32\u001b[0m) │          \u001b[38;5;34m0\u001b[0m │ dil3_r4_out[\u001b[38;5;34m0\u001b[0m][\u001b[38;5;34m0\u001b[0m] │\n",
       "│ (\u001b[38;5;33mZeroPadding1D\u001b[0m)     │                   │            │                   │\n",
       "├─────────────────────┼───────────────────┼────────────┼───────────────────┤\n",
       "│ dil4_r8_f (\u001b[38;5;33mConv1D\u001b[0m)  │ (\u001b[38;5;45mNone\u001b[0m, \u001b[38;5;34m48000\u001b[0m, \u001b[38;5;34m32\u001b[0m) │      \u001b[38;5;34m2,080\u001b[0m │ dil4_r8_f_pad[\u001b[38;5;34m0\u001b[0m]… │\n",
       "├─────────────────────┼───────────────────┼────────────┼───────────────────┤\n",
       "│ dil4_r8_g (\u001b[38;5;33mConv1D\u001b[0m)  │ (\u001b[38;5;45mNone\u001b[0m, \u001b[38;5;34m48000\u001b[0m, \u001b[38;5;34m32\u001b[0m) │      \u001b[38;5;34m2,080\u001b[0m │ dil4_r8_g_pad[\u001b[38;5;34m0\u001b[0m]… │\n",
       "├─────────────────────┼───────────────────┼────────────┼───────────────────┤\n",
       "│ dil4_r8_tanh        │ (\u001b[38;5;45mNone\u001b[0m, \u001b[38;5;34m48000\u001b[0m, \u001b[38;5;34m32\u001b[0m) │          \u001b[38;5;34m0\u001b[0m │ dil4_r8_f[\u001b[38;5;34m0\u001b[0m][\u001b[38;5;34m0\u001b[0m]   │\n",
       "│ (\u001b[38;5;33mActivation\u001b[0m)        │                   │            │                   │\n",
       "├─────────────────────┼───────────────────┼────────────┼───────────────────┤\n",
       "│ dil4_r8_sigmoid     │ (\u001b[38;5;45mNone\u001b[0m, \u001b[38;5;34m48000\u001b[0m, \u001b[38;5;34m32\u001b[0m) │          \u001b[38;5;34m0\u001b[0m │ dil4_r8_g[\u001b[38;5;34m0\u001b[0m][\u001b[38;5;34m0\u001b[0m]   │\n",
       "│ (\u001b[38;5;33mActivation\u001b[0m)        │                   │            │                   │\n",
       "├─────────────────────┼───────────────────┼────────────┼───────────────────┤\n",
       "│ dil4_r8_gate        │ (\u001b[38;5;45mNone\u001b[0m, \u001b[38;5;34m48000\u001b[0m, \u001b[38;5;34m32\u001b[0m) │          \u001b[38;5;34m0\u001b[0m │ dil4_r8_tanh[\u001b[38;5;34m0\u001b[0m][\u001b[38;5;34m…\u001b[0m │\n",
       "│ (\u001b[38;5;33mMultiply\u001b[0m)          │                   │            │ dil4_r8_sigmoid[\u001b[38;5;34m…\u001b[0m │\n",
       "├─────────────────────┼───────────────────┼────────────┼───────────────────┤\n",
       "│ dil4_r8_res         │ (\u001b[38;5;45mNone\u001b[0m, \u001b[38;5;34m48000\u001b[0m, \u001b[38;5;34m32\u001b[0m) │      \u001b[38;5;34m1,056\u001b[0m │ dil4_r8_gate[\u001b[38;5;34m0\u001b[0m][\u001b[38;5;34m…\u001b[0m │\n",
       "│ (\u001b[38;5;33mConv1D\u001b[0m)            │                   │            │                   │\n",
       "├─────────────────────┼───────────────────┼────────────┼───────────────────┤\n",
       "│ dil4_r8_out (\u001b[38;5;33mAdd\u001b[0m)   │ (\u001b[38;5;45mNone\u001b[0m, \u001b[38;5;34m48000\u001b[0m, \u001b[38;5;34m32\u001b[0m) │          \u001b[38;5;34m0\u001b[0m │ dil4_r8_res[\u001b[38;5;34m0\u001b[0m][\u001b[38;5;34m0\u001b[0m… │\n",
       "│                     │                   │            │ dil3_r4_out[\u001b[38;5;34m0\u001b[0m][\u001b[38;5;34m0\u001b[0m] │\n",
       "├─────────────────────┼───────────────────┼────────────┼───────────────────┤\n",
       "│ dil5_r16_f_pad      │ (\u001b[38;5;45mNone\u001b[0m, \u001b[38;5;34m48016\u001b[0m, \u001b[38;5;34m32\u001b[0m) │          \u001b[38;5;34m0\u001b[0m │ dil4_r8_out[\u001b[38;5;34m0\u001b[0m][\u001b[38;5;34m0\u001b[0m] │\n",
       "│ (\u001b[38;5;33mZeroPadding1D\u001b[0m)     │                   │            │                   │\n",
       "├─────────────────────┼───────────────────┼────────────┼───────────────────┤\n",
       "│ dil5_r16_g_pad      │ (\u001b[38;5;45mNone\u001b[0m, \u001b[38;5;34m48016\u001b[0m, \u001b[38;5;34m32\u001b[0m) │          \u001b[38;5;34m0\u001b[0m │ dil4_r8_out[\u001b[38;5;34m0\u001b[0m][\u001b[38;5;34m0\u001b[0m] │\n",
       "│ (\u001b[38;5;33mZeroPadding1D\u001b[0m)     │                   │            │                   │\n",
       "├─────────────────────┼───────────────────┼────────────┼───────────────────┤\n",
       "│ dil5_r16_f (\u001b[38;5;33mConv1D\u001b[0m) │ (\u001b[38;5;45mNone\u001b[0m, \u001b[38;5;34m48000\u001b[0m, \u001b[38;5;34m32\u001b[0m) │      \u001b[38;5;34m2,080\u001b[0m │ dil5_r16_f_pad[\u001b[38;5;34m0\u001b[0m… │\n",
       "├─────────────────────┼───────────────────┼────────────┼───────────────────┤\n",
       "│ dil5_r16_g (\u001b[38;5;33mConv1D\u001b[0m) │ (\u001b[38;5;45mNone\u001b[0m, \u001b[38;5;34m48000\u001b[0m, \u001b[38;5;34m32\u001b[0m) │      \u001b[38;5;34m2,080\u001b[0m │ dil5_r16_g_pad[\u001b[38;5;34m0\u001b[0m… │\n",
       "├─────────────────────┼───────────────────┼────────────┼───────────────────┤\n",
       "│ dil5_r16_tanh       │ (\u001b[38;5;45mNone\u001b[0m, \u001b[38;5;34m48000\u001b[0m, \u001b[38;5;34m32\u001b[0m) │          \u001b[38;5;34m0\u001b[0m │ dil5_r16_f[\u001b[38;5;34m0\u001b[0m][\u001b[38;5;34m0\u001b[0m]  │\n",
       "│ (\u001b[38;5;33mActivation\u001b[0m)        │                   │            │                   │\n",
       "├─────────────────────┼───────────────────┼────────────┼───────────────────┤\n",
       "│ dil5_r16_sigmoid    │ (\u001b[38;5;45mNone\u001b[0m, \u001b[38;5;34m48000\u001b[0m, \u001b[38;5;34m32\u001b[0m) │          \u001b[38;5;34m0\u001b[0m │ dil5_r16_g[\u001b[38;5;34m0\u001b[0m][\u001b[38;5;34m0\u001b[0m]  │\n",
       "│ (\u001b[38;5;33mActivation\u001b[0m)        │                   │            │                   │\n",
       "├─────────────────────┼───────────────────┼────────────┼───────────────────┤\n",
       "│ dil5_r16_gate       │ (\u001b[38;5;45mNone\u001b[0m, \u001b[38;5;34m48000\u001b[0m, \u001b[38;5;34m32\u001b[0m) │          \u001b[38;5;34m0\u001b[0m │ dil5_r16_tanh[\u001b[38;5;34m0\u001b[0m]… │\n",
       "│ (\u001b[38;5;33mMultiply\u001b[0m)          │                   │            │ dil5_r16_sigmoid… │\n",
       "├─────────────────────┼───────────────────┼────────────┼───────────────────┤\n",
       "│ dil5_r16_res        │ (\u001b[38;5;45mNone\u001b[0m, \u001b[38;5;34m48000\u001b[0m, \u001b[38;5;34m32\u001b[0m) │      \u001b[38;5;34m1,056\u001b[0m │ dil5_r16_gate[\u001b[38;5;34m0\u001b[0m]… │\n",
       "│ (\u001b[38;5;33mConv1D\u001b[0m)            │                   │            │                   │\n",
       "├─────────────────────┼───────────────────┼────────────┼───────────────────┤\n",
       "│ dil5_r16_out (\u001b[38;5;33mAdd\u001b[0m)  │ (\u001b[38;5;45mNone\u001b[0m, \u001b[38;5;34m48000\u001b[0m, \u001b[38;5;34m32\u001b[0m) │          \u001b[38;5;34m0\u001b[0m │ dil5_r16_res[\u001b[38;5;34m0\u001b[0m][\u001b[38;5;34m…\u001b[0m │\n",
       "│                     │                   │            │ dil4_r8_out[\u001b[38;5;34m0\u001b[0m][\u001b[38;5;34m0\u001b[0m] │\n",
       "├─────────────────────┼───────────────────┼────────────┼───────────────────┤\n",
       "│ dil6_r32_f_pad      │ (\u001b[38;5;45mNone\u001b[0m, \u001b[38;5;34m48032\u001b[0m, \u001b[38;5;34m32\u001b[0m) │          \u001b[38;5;34m0\u001b[0m │ dil5_r16_out[\u001b[38;5;34m0\u001b[0m][\u001b[38;5;34m…\u001b[0m │\n",
       "│ (\u001b[38;5;33mZeroPadding1D\u001b[0m)     │                   │            │                   │\n",
       "├─────────────────────┼───────────────────┼────────────┼───────────────────┤\n",
       "│ dil6_r32_g_pad      │ (\u001b[38;5;45mNone\u001b[0m, \u001b[38;5;34m48032\u001b[0m, \u001b[38;5;34m32\u001b[0m) │          \u001b[38;5;34m0\u001b[0m │ dil5_r16_out[\u001b[38;5;34m0\u001b[0m][\u001b[38;5;34m…\u001b[0m │\n",
       "│ (\u001b[38;5;33mZeroPadding1D\u001b[0m)     │                   │            │                   │\n",
       "├─────────────────────┼───────────────────┼────────────┼───────────────────┤\n",
       "│ dil6_r32_f (\u001b[38;5;33mConv1D\u001b[0m) │ (\u001b[38;5;45mNone\u001b[0m, \u001b[38;5;34m48000\u001b[0m, \u001b[38;5;34m32\u001b[0m) │      \u001b[38;5;34m2,080\u001b[0m │ dil6_r32_f_pad[\u001b[38;5;34m0\u001b[0m… │\n",
       "├─────────────────────┼───────────────────┼────────────┼───────────────────┤\n",
       "│ dil6_r32_g (\u001b[38;5;33mConv1D\u001b[0m) │ (\u001b[38;5;45mNone\u001b[0m, \u001b[38;5;34m48000\u001b[0m, \u001b[38;5;34m32\u001b[0m) │      \u001b[38;5;34m2,080\u001b[0m │ dil6_r32_g_pad[\u001b[38;5;34m0\u001b[0m… │\n",
       "├─────────────────────┼───────────────────┼────────────┼───────────────────┤\n",
       "│ dil6_r32_tanh       │ (\u001b[38;5;45mNone\u001b[0m, \u001b[38;5;34m48000\u001b[0m, \u001b[38;5;34m32\u001b[0m) │          \u001b[38;5;34m0\u001b[0m │ dil6_r32_f[\u001b[38;5;34m0\u001b[0m][\u001b[38;5;34m0\u001b[0m]  │\n",
       "│ (\u001b[38;5;33mActivation\u001b[0m)        │                   │            │                   │\n",
       "├─────────────────────┼───────────────────┼────────────┼───────────────────┤\n",
       "│ dil6_r32_sigmoid    │ (\u001b[38;5;45mNone\u001b[0m, \u001b[38;5;34m48000\u001b[0m, \u001b[38;5;34m32\u001b[0m) │          \u001b[38;5;34m0\u001b[0m │ dil6_r32_g[\u001b[38;5;34m0\u001b[0m][\u001b[38;5;34m0\u001b[0m]  │\n",
       "│ (\u001b[38;5;33mActivation\u001b[0m)        │                   │            │                   │\n",
       "├─────────────────────┼───────────────────┼────────────┼───────────────────┤\n",
       "│ dil6_r32_gate       │ (\u001b[38;5;45mNone\u001b[0m, \u001b[38;5;34m48000\u001b[0m, \u001b[38;5;34m32\u001b[0m) │          \u001b[38;5;34m0\u001b[0m │ dil6_r32_tanh[\u001b[38;5;34m0\u001b[0m]… │\n",
       "│ (\u001b[38;5;33mMultiply\u001b[0m)          │                   │            │ dil6_r32_sigmoid… │\n",
       "├─────────────────────┼───────────────────┼────────────┼───────────────────┤\n",
       "│ dil6_r32_res        │ (\u001b[38;5;45mNone\u001b[0m, \u001b[38;5;34m48000\u001b[0m, \u001b[38;5;34m32\u001b[0m) │      \u001b[38;5;34m1,056\u001b[0m │ dil6_r32_gate[\u001b[38;5;34m0\u001b[0m]… │\n",
       "│ (\u001b[38;5;33mConv1D\u001b[0m)            │                   │            │                   │\n",
       "├─────────────────────┼───────────────────┼────────────┼───────────────────┤\n",
       "│ dil6_r32_out (\u001b[38;5;33mAdd\u001b[0m)  │ (\u001b[38;5;45mNone\u001b[0m, \u001b[38;5;34m48000\u001b[0m, \u001b[38;5;34m32\u001b[0m) │          \u001b[38;5;34m0\u001b[0m │ dil6_r32_res[\u001b[38;5;34m0\u001b[0m][\u001b[38;5;34m…\u001b[0m │\n",
       "│                     │                   │            │ dil5_r16_out[\u001b[38;5;34m0\u001b[0m][\u001b[38;5;34m…\u001b[0m │\n",
       "├─────────────────────┼───────────────────┼────────────┼───────────────────┤\n",
       "│ dil7_r64_f_pad      │ (\u001b[38;5;45mNone\u001b[0m, \u001b[38;5;34m48064\u001b[0m, \u001b[38;5;34m32\u001b[0m) │          \u001b[38;5;34m0\u001b[0m │ dil6_r32_out[\u001b[38;5;34m0\u001b[0m][\u001b[38;5;34m…\u001b[0m │\n",
       "│ (\u001b[38;5;33mZeroPadding1D\u001b[0m)     │                   │            │                   │\n",
       "├─────────────────────┼───────────────────┼────────────┼───────────────────┤\n",
       "│ dil7_r64_g_pad      │ (\u001b[38;5;45mNone\u001b[0m, \u001b[38;5;34m48064\u001b[0m, \u001b[38;5;34m32\u001b[0m) │          \u001b[38;5;34m0\u001b[0m │ dil6_r32_out[\u001b[38;5;34m0\u001b[0m][\u001b[38;5;34m…\u001b[0m │\n",
       "│ (\u001b[38;5;33mZeroPadding1D\u001b[0m)     │                   │            │                   │\n",
       "├─────────────────────┼───────────────────┼────────────┼───────────────────┤\n",
       "│ dil7_r64_f (\u001b[38;5;33mConv1D\u001b[0m) │ (\u001b[38;5;45mNone\u001b[0m, \u001b[38;5;34m48000\u001b[0m, \u001b[38;5;34m32\u001b[0m) │      \u001b[38;5;34m2,080\u001b[0m │ dil7_r64_f_pad[\u001b[38;5;34m0\u001b[0m… │\n",
       "├─────────────────────┼───────────────────┼────────────┼───────────────────┤\n",
       "│ dil7_r64_g (\u001b[38;5;33mConv1D\u001b[0m) │ (\u001b[38;5;45mNone\u001b[0m, \u001b[38;5;34m48000\u001b[0m, \u001b[38;5;34m32\u001b[0m) │      \u001b[38;5;34m2,080\u001b[0m │ dil7_r64_g_pad[\u001b[38;5;34m0\u001b[0m… │\n",
       "├─────────────────────┼───────────────────┼────────────┼───────────────────┤\n",
       "│ dil7_r64_tanh       │ (\u001b[38;5;45mNone\u001b[0m, \u001b[38;5;34m48000\u001b[0m, \u001b[38;5;34m32\u001b[0m) │          \u001b[38;5;34m0\u001b[0m │ dil7_r64_f[\u001b[38;5;34m0\u001b[0m][\u001b[38;5;34m0\u001b[0m]  │\n",
       "│ (\u001b[38;5;33mActivation\u001b[0m)        │                   │            │                   │\n",
       "├─────────────────────┼───────────────────┼────────────┼───────────────────┤\n",
       "│ dil7_r64_sigmoid    │ (\u001b[38;5;45mNone\u001b[0m, \u001b[38;5;34m48000\u001b[0m, \u001b[38;5;34m32\u001b[0m) │          \u001b[38;5;34m0\u001b[0m │ dil7_r64_g[\u001b[38;5;34m0\u001b[0m][\u001b[38;5;34m0\u001b[0m]  │\n",
       "│ (\u001b[38;5;33mActivation\u001b[0m)        │                   │            │                   │\n",
       "├─────────────────────┼───────────────────┼────────────┼───────────────────┤\n",
       "│ dil7_r64_gate       │ (\u001b[38;5;45mNone\u001b[0m, \u001b[38;5;34m48000\u001b[0m, \u001b[38;5;34m32\u001b[0m) │          \u001b[38;5;34m0\u001b[0m │ dil7_r64_tanh[\u001b[38;5;34m0\u001b[0m]… │\n",
       "│ (\u001b[38;5;33mMultiply\u001b[0m)          │                   │            │ dil7_r64_sigmoid… │\n",
       "├─────────────────────┼───────────────────┼────────────┼───────────────────┤\n",
       "│ dil7_r64_res        │ (\u001b[38;5;45mNone\u001b[0m, \u001b[38;5;34m48000\u001b[0m, \u001b[38;5;34m32\u001b[0m) │      \u001b[38;5;34m1,056\u001b[0m │ dil7_r64_gate[\u001b[38;5;34m0\u001b[0m]… │\n",
       "│ (\u001b[38;5;33mConv1D\u001b[0m)            │                   │            │                   │\n",
       "├─────────────────────┼───────────────────┼────────────┼───────────────────┤\n",
       "│ dil7_r64_out (\u001b[38;5;33mAdd\u001b[0m)  │ (\u001b[38;5;45mNone\u001b[0m, \u001b[38;5;34m48000\u001b[0m, \u001b[38;5;34m32\u001b[0m) │          \u001b[38;5;34m0\u001b[0m │ dil7_r64_res[\u001b[38;5;34m0\u001b[0m][\u001b[38;5;34m…\u001b[0m │\n",
       "│                     │                   │            │ dil6_r32_out[\u001b[38;5;34m0\u001b[0m][\u001b[38;5;34m…\u001b[0m │\n",
       "├─────────────────────┼───────────────────┼────────────┼───────────────────┤\n",
       "│ dil8_r128_f_pad     │ (\u001b[38;5;45mNone\u001b[0m, \u001b[38;5;34m48128\u001b[0m, \u001b[38;5;34m32\u001b[0m) │          \u001b[38;5;34m0\u001b[0m │ dil7_r64_out[\u001b[38;5;34m0\u001b[0m][\u001b[38;5;34m…\u001b[0m │\n",
       "│ (\u001b[38;5;33mZeroPadding1D\u001b[0m)     │                   │            │                   │\n",
       "├─────────────────────┼───────────────────┼────────────┼───────────────────┤\n",
       "│ dil8_r128_g_pad     │ (\u001b[38;5;45mNone\u001b[0m, \u001b[38;5;34m48128\u001b[0m, \u001b[38;5;34m32\u001b[0m) │          \u001b[38;5;34m0\u001b[0m │ dil7_r64_out[\u001b[38;5;34m0\u001b[0m][\u001b[38;5;34m…\u001b[0m │\n",
       "│ (\u001b[38;5;33mZeroPadding1D\u001b[0m)     │                   │            │                   │\n",
       "├─────────────────────┼───────────────────┼────────────┼───────────────────┤\n",
       "│ dil8_r128_f         │ (\u001b[38;5;45mNone\u001b[0m, \u001b[38;5;34m48000\u001b[0m, \u001b[38;5;34m32\u001b[0m) │      \u001b[38;5;34m2,080\u001b[0m │ dil8_r128_f_pad[\u001b[38;5;34m…\u001b[0m │\n",
       "│ (\u001b[38;5;33mConv1D\u001b[0m)            │                   │            │                   │\n",
       "├─────────────────────┼───────────────────┼────────────┼───────────────────┤\n",
       "│ dil8_r128_g         │ (\u001b[38;5;45mNone\u001b[0m, \u001b[38;5;34m48000\u001b[0m, \u001b[38;5;34m32\u001b[0m) │      \u001b[38;5;34m2,080\u001b[0m │ dil8_r128_g_pad[\u001b[38;5;34m…\u001b[0m │\n",
       "│ (\u001b[38;5;33mConv1D\u001b[0m)            │                   │            │                   │\n",
       "├─────────────────────┼───────────────────┼────────────┼───────────────────┤\n",
       "│ dil8_r128_tanh      │ (\u001b[38;5;45mNone\u001b[0m, \u001b[38;5;34m48000\u001b[0m, \u001b[38;5;34m32\u001b[0m) │          \u001b[38;5;34m0\u001b[0m │ dil8_r128_f[\u001b[38;5;34m0\u001b[0m][\u001b[38;5;34m0\u001b[0m] │\n",
       "│ (\u001b[38;5;33mActivation\u001b[0m)        │                   │            │                   │\n",
       "├─────────────────────┼───────────────────┼────────────┼───────────────────┤\n",
       "│ dil8_r128_sigmoid   │ (\u001b[38;5;45mNone\u001b[0m, \u001b[38;5;34m48000\u001b[0m, \u001b[38;5;34m32\u001b[0m) │          \u001b[38;5;34m0\u001b[0m │ dil8_r128_g[\u001b[38;5;34m0\u001b[0m][\u001b[38;5;34m0\u001b[0m] │\n",
       "│ (\u001b[38;5;33mActivation\u001b[0m)        │                   │            │                   │\n",
       "├─────────────────────┼───────────────────┼────────────┼───────────────────┤\n",
       "│ dil8_r128_gate      │ (\u001b[38;5;45mNone\u001b[0m, \u001b[38;5;34m48000\u001b[0m, \u001b[38;5;34m32\u001b[0m) │          \u001b[38;5;34m0\u001b[0m │ dil8_r128_tanh[\u001b[38;5;34m0\u001b[0m… │\n",
       "│ (\u001b[38;5;33mMultiply\u001b[0m)          │                   │            │ dil8_r128_sigmoi… │\n",
       "├─────────────────────┼───────────────────┼────────────┼───────────────────┤\n",
       "│ dil1_r1_skip        │ (\u001b[38;5;45mNone\u001b[0m, \u001b[38;5;34m48000\u001b[0m, \u001b[38;5;34m64\u001b[0m) │      \u001b[38;5;34m2,112\u001b[0m │ dil1_r1_gate[\u001b[38;5;34m0\u001b[0m][\u001b[38;5;34m…\u001b[0m │\n",
       "│ (\u001b[38;5;33mConv1D\u001b[0m)            │                   │            │                   │\n",
       "├─────────────────────┼───────────────────┼────────────┼───────────────────┤\n",
       "│ dil2_r2_skip        │ (\u001b[38;5;45mNone\u001b[0m, \u001b[38;5;34m48000\u001b[0m, \u001b[38;5;34m64\u001b[0m) │      \u001b[38;5;34m2,112\u001b[0m │ dil2_r2_gate[\u001b[38;5;34m0\u001b[0m][\u001b[38;5;34m…\u001b[0m │\n",
       "│ (\u001b[38;5;33mConv1D\u001b[0m)            │                   │            │                   │\n",
       "├─────────────────────┼───────────────────┼────────────┼───────────────────┤\n",
       "│ dil3_r4_skip        │ (\u001b[38;5;45mNone\u001b[0m, \u001b[38;5;34m48000\u001b[0m, \u001b[38;5;34m64\u001b[0m) │      \u001b[38;5;34m2,112\u001b[0m │ dil3_r4_gate[\u001b[38;5;34m0\u001b[0m][\u001b[38;5;34m…\u001b[0m │\n",
       "│ (\u001b[38;5;33mConv1D\u001b[0m)            │                   │            │                   │\n",
       "├─────────────────────┼───────────────────┼────────────┼───────────────────┤\n",
       "│ dil4_r8_skip        │ (\u001b[38;5;45mNone\u001b[0m, \u001b[38;5;34m48000\u001b[0m, \u001b[38;5;34m64\u001b[0m) │      \u001b[38;5;34m2,112\u001b[0m │ dil4_r8_gate[\u001b[38;5;34m0\u001b[0m][\u001b[38;5;34m…\u001b[0m │\n",
       "│ (\u001b[38;5;33mConv1D\u001b[0m)            │                   │            │                   │\n",
       "├─────────────────────┼───────────────────┼────────────┼───────────────────┤\n",
       "│ dil5_r16_skip       │ (\u001b[38;5;45mNone\u001b[0m, \u001b[38;5;34m48000\u001b[0m, \u001b[38;5;34m64\u001b[0m) │      \u001b[38;5;34m2,112\u001b[0m │ dil5_r16_gate[\u001b[38;5;34m0\u001b[0m]… │\n",
       "│ (\u001b[38;5;33mConv1D\u001b[0m)            │                   │            │                   │\n",
       "├─────────────────────┼───────────────────┼────────────┼───────────────────┤\n",
       "│ dil6_r32_skip       │ (\u001b[38;5;45mNone\u001b[0m, \u001b[38;5;34m48000\u001b[0m, \u001b[38;5;34m64\u001b[0m) │      \u001b[38;5;34m2,112\u001b[0m │ dil6_r32_gate[\u001b[38;5;34m0\u001b[0m]… │\n",
       "│ (\u001b[38;5;33mConv1D\u001b[0m)            │                   │            │                   │\n",
       "├─────────────────────┼───────────────────┼────────────┼───────────────────┤\n",
       "│ dil7_r64_skip       │ (\u001b[38;5;45mNone\u001b[0m, \u001b[38;5;34m48000\u001b[0m, \u001b[38;5;34m64\u001b[0m) │      \u001b[38;5;34m2,112\u001b[0m │ dil7_r64_gate[\u001b[38;5;34m0\u001b[0m]… │\n",
       "│ (\u001b[38;5;33mConv1D\u001b[0m)            │                   │            │                   │\n",
       "├─────────────────────┼───────────────────┼────────────┼───────────────────┤\n",
       "│ dil8_r128_skip      │ (\u001b[38;5;45mNone\u001b[0m, \u001b[38;5;34m48000\u001b[0m, \u001b[38;5;34m64\u001b[0m) │      \u001b[38;5;34m2,112\u001b[0m │ dil8_r128_gate[\u001b[38;5;34m0\u001b[0m… │\n",
       "│ (\u001b[38;5;33mConv1D\u001b[0m)            │                   │            │                   │\n",
       "├─────────────────────┼───────────────────┼────────────┼───────────────────┤\n",
       "│ skip_sum (\u001b[38;5;33mAdd\u001b[0m)      │ (\u001b[38;5;45mNone\u001b[0m, \u001b[38;5;34m48000\u001b[0m, \u001b[38;5;34m64\u001b[0m) │          \u001b[38;5;34m0\u001b[0m │ dil1_r1_skip[\u001b[38;5;34m0\u001b[0m][\u001b[38;5;34m…\u001b[0m │\n",
       "│                     │                   │            │ dil2_r2_skip[\u001b[38;5;34m0\u001b[0m][\u001b[38;5;34m…\u001b[0m │\n",
       "│                     │                   │            │ dil3_r4_skip[\u001b[38;5;34m0\u001b[0m][\u001b[38;5;34m…\u001b[0m │\n",
       "│                     │                   │            │ dil4_r8_skip[\u001b[38;5;34m0\u001b[0m][\u001b[38;5;34m…\u001b[0m │\n",
       "│                     │                   │            │ dil5_r16_skip[\u001b[38;5;34m0\u001b[0m]… │\n",
       "│                     │                   │            │ dil6_r32_skip[\u001b[38;5;34m0\u001b[0m]… │\n",
       "│                     │                   │            │ dil7_r64_skip[\u001b[38;5;34m0\u001b[0m]… │\n",
       "│                     │                   │            │ dil8_r128_skip[\u001b[38;5;34m0\u001b[0m… │\n",
       "├─────────────────────┼───────────────────┼────────────┼───────────────────┤\n",
       "│ post_relu           │ (\u001b[38;5;45mNone\u001b[0m, \u001b[38;5;34m48000\u001b[0m, \u001b[38;5;34m64\u001b[0m) │          \u001b[38;5;34m0\u001b[0m │ skip_sum[\u001b[38;5;34m0\u001b[0m][\u001b[38;5;34m0\u001b[0m]    │\n",
       "│ (\u001b[38;5;33mActivation\u001b[0m)        │                   │            │                   │\n",
       "├─────────────────────┼───────────────────┼────────────┼───────────────────┤\n",
       "│ post_conv1 (\u001b[38;5;33mConv1D\u001b[0m) │ (\u001b[38;5;45mNone\u001b[0m, \u001b[38;5;34m48000\u001b[0m, \u001b[38;5;34m64\u001b[0m) │      \u001b[38;5;34m4,160\u001b[0m │ post_relu[\u001b[38;5;34m0\u001b[0m][\u001b[38;5;34m0\u001b[0m]   │\n",
       "├─────────────────────┼───────────────────┼────────────┼───────────────────┤\n",
       "│ post_dropout        │ (\u001b[38;5;45mNone\u001b[0m, \u001b[38;5;34m48000\u001b[0m, \u001b[38;5;34m64\u001b[0m) │          \u001b[38;5;34m0\u001b[0m │ post_conv1[\u001b[38;5;34m0\u001b[0m][\u001b[38;5;34m0\u001b[0m]  │\n",
       "│ (\u001b[38;5;33mDropout\u001b[0m)           │                   │            │                   │\n",
       "├─────────────────────┼───────────────────┼────────────┼───────────────────┤\n",
       "│ post_conv2 (\u001b[38;5;33mConv1D\u001b[0m) │ (\u001b[38;5;45mNone\u001b[0m, \u001b[38;5;34m48000\u001b[0m, \u001b[38;5;34m4\u001b[0m)  │        \u001b[38;5;34m260\u001b[0m │ post_dropout[\u001b[38;5;34m0\u001b[0m][\u001b[38;5;34m…\u001b[0m │\n",
       "├─────────────────────┼───────────────────┼────────────┼───────────────────┤\n",
       "│ attn_pool           │ (\u001b[38;5;45mNone\u001b[0m, \u001b[38;5;34m4\u001b[0m)         │          \u001b[38;5;34m5\u001b[0m │ post_conv2[\u001b[38;5;34m0\u001b[0m][\u001b[38;5;34m0\u001b[0m]  │\n",
       "│ (\u001b[38;5;33mAttentionPooling\u001b[0m)  │                   │            │                   │\n",
       "├─────────────────────┼───────────────────┼────────────┼───────────────────┤\n",
       "│ softmax             │ (\u001b[38;5;45mNone\u001b[0m, \u001b[38;5;34m4\u001b[0m)         │          \u001b[38;5;34m0\u001b[0m │ attn_pool[\u001b[38;5;34m0\u001b[0m][\u001b[38;5;34m0\u001b[0m]   │\n",
       "│ (\u001b[38;5;33mActivation\u001b[0m)        │                   │            │                   │\n",
       "└─────────────────────┴───────────────────┴────────────┴───────────────────┘\n"
      ]
     },
     "metadata": {},
     "output_type": "display_data"
    },
    {
     "data": {
      "text/html": [
       "<pre style=\"white-space:pre;overflow-x:auto;line-height:normal;font-family:Menlo,'DejaVu Sans Mono',consolas,'Courier New',monospace\"><span style=\"font-weight: bold\"> Total params: </span><span style=\"color: #00af00; text-decoration-color: #00af00\">62,057</span> (242.41 KB)\n",
       "</pre>\n"
      ],
      "text/plain": [
       "\u001b[1m Total params: \u001b[0m\u001b[38;5;34m62,057\u001b[0m (242.41 KB)\n"
      ]
     },
     "metadata": {},
     "output_type": "display_data"
    },
    {
     "data": {
      "text/html": [
       "<pre style=\"white-space:pre;overflow-x:auto;line-height:normal;font-family:Menlo,'DejaVu Sans Mono',consolas,'Courier New',monospace\"><span style=\"font-weight: bold\"> Trainable params: </span><span style=\"color: #00af00; text-decoration-color: #00af00\">62,057</span> (242.41 KB)\n",
       "</pre>\n"
      ],
      "text/plain": [
       "\u001b[1m Trainable params: \u001b[0m\u001b[38;5;34m62,057\u001b[0m (242.41 KB)\n"
      ]
     },
     "metadata": {},
     "output_type": "display_data"
    },
    {
     "data": {
      "text/html": [
       "<pre style=\"white-space:pre;overflow-x:auto;line-height:normal;font-family:Menlo,'DejaVu Sans Mono',consolas,'Courier New',monospace\"><span style=\"font-weight: bold\"> Non-trainable params: </span><span style=\"color: #00af00; text-decoration-color: #00af00\">0</span> (0.00 B)\n",
       "</pre>\n"
      ],
      "text/plain": [
       "\u001b[1m Non-trainable params: \u001b[0m\u001b[38;5;34m0\u001b[0m (0.00 B)\n"
      ]
     },
     "metadata": {},
     "output_type": "display_data"
    }
   ],
   "source": [
    "SEED = 42\n",
    "tf.random.set_seed(SEED)\n",
    "np.random.seed(SEED)\n",
    "random.seed(SEED)\n",
    "os.environ['PYTHONHASHSEED'] = str(SEED)\n",
    "\n",
    "\n",
    "class AttentionPooling(Layer):\n",
    "    def __init__(self, **kwargs):\n",
    "        super().__init__(**kwargs)\n",
    "        self.score_conv = Conv1D(1, 1, padding='same', name=\"attn_score_conv\")\n",
    "        self.softmax    = Softmax(axis=1, name=\"attn_weights\")\n",
    "\n",
    "    def call(self, inputs):\n",
    "        score   = self.score_conv(inputs)\n",
    "        weights = self.softmax(score)\n",
    "        return tf.reduce_sum(weights * inputs, axis=1)\n",
    "\n",
    "\n",
    "def conv1d_causal(x, filters, kernel_size, dilation_rate, name):\n",
    "    pad = (kernel_size - 1) * dilation_rate\n",
    "    x   = ZeroPadding1D((pad, 0), name=f\"{name}_pad\")(x)\n",
    "    return Conv1D(filters, kernel_size,\n",
    "                  dilation_rate=dilation_rate,\n",
    "                  padding='valid',\n",
    "                  name=name)(x)\n",
    "\n",
    "\n",
    "def dilation_block(x, res_ch, dil_ch, skip_ch, k_size, rate, name):\n",
    "    \n",
    "    f = conv1d_causal(x, dil_ch, k_size, rate, name=f\"{name}_f\")\n",
    "    f = Activation('tanh', name=f\"{name}_tanh\")(f)\n",
    "    g = conv1d_causal(x, dil_ch, k_size, rate, name=f\"{name}_g\")\n",
    "    g = Activation('sigmoid', name=f\"{name}_sigmoid\")(g)\n",
    "    z = Multiply(name=f\"{name}_gate\")([f, g])\n",
    "    skip = Conv1D(skip_ch, 1, padding='same', name=f\"{name}_skip\")(z)\n",
    "    res  = Conv1D(res_ch,   1, padding='same', name=f\"{name}_res\")(z)\n",
    "    x    = Add(name=f\"{name}_out\")([res, x])\n",
    "    return x, skip\n",
    "\n",
    "\n",
    "def build_wavenet_ser(time_steps, n_classes,\n",
    "                                res_ch=32, dil_ch=32, skip_ch=64,\n",
    "                                k_size=2, dilation_rates=None):\n",
    "    if dilation_rates is None:\n",
    "        dilation_rates = [2**i for i in range(8)]\n",
    "\n",
    "    inp = Input(shape=(time_steps,1), name=\"input_wave\")\n",
    "    x   = Conv1D(res_ch, 1, padding='same', name=\"pre_conv\")(inp)\n",
    "\n",
    "    skips = []\n",
    "    for i, rate in enumerate(dilation_rates, 1):\n",
    "        x, s = dilation_block(\n",
    "            x, res_ch, dil_ch, skip_ch,\n",
    "            k_size, rate,\n",
    "            name=f\"dil{i}_r{rate}\"\n",
    "        )\n",
    "        skips.append(s)\n",
    "\n",
    "    x = Add(name=\"skip_sum\")(skips)\n",
    "    x = Activation('relu', name=\"post_relu\")(x)\n",
    "    x = Conv1D(skip_ch, 1, activation='relu', name=\"post_conv1\")(x)\n",
    "    x = Dropout(0.3, name=\"post_dropout\")(x)  \n",
    "    x = Conv1D(n_classes, 1, name=\"post_conv2\")(x)\n",
    "\n",
    "    context = AttentionPooling(name=\"attn_pool\")(x)\n",
    "    out     = Activation('softmax', name=\"softmax\")(context)\n",
    "\n",
    "    return Model(inp, out, name=\"WaveNet_SER\")\n",
    "\n",
    "\n",
    "model = build_wavenet_ser(\n",
    "    MAX_SAMPLES, len(lb.classes_)\n",
    ")\n",
    "\n",
    "model.compile(\n",
    "    optimizer=tf.keras.optimizers.Adam(learning_rate=1e-3),\n",
    "    loss='categorical_crossentropy',\n",
    "    metrics=['accuracy']\n",
    ")\n",
    "\n",
    "\n",
    "model.summary()"
   ]
  },
  {
   "cell_type": "markdown",
   "id": "cf65911b",
   "metadata": {},
   "source": [
    "# Training\n"
   ]
  },
  {
   "cell_type": "code",
   "execution_count": 9,
   "id": "8c97c6fb",
   "metadata": {},
   "outputs": [
    {
     "name": "stderr",
     "output_type": "stream",
     "text": [
      "2025-04-27 06:38:47.053959: W external/local_xla/xla/tsl/framework/cpu_allocator_impl.cc:83] Allocation of 640704000 exceeds 10% of free system memory.\n",
      "2025-04-27 06:38:58.294234: W external/local_xla/xla/tsl/framework/cpu_allocator_impl.cc:83] Allocation of 640704000 exceeds 10% of free system memory.\n"
     ]
    },
    {
     "name": "stdout",
     "output_type": "stream",
     "text": [
      "Epoch 1/50\n"
     ]
    },
    {
     "name": "stderr",
     "output_type": "stream",
     "text": [
      "WARNING: All log messages before absl::InitializeLog() is called are written to STDERR\n",
      "I0000 00:00:1745735956.380080   37436 service.cc:148] XLA service 0x7f435c002260 initialized for platform CUDA (this does not guarantee that XLA will be used). Devices:\n",
      "I0000 00:00:1745735956.384122   37436 service.cc:156]   StreamExecutor device (0): NVIDIA GeForce RTX 4060 Laptop GPU, Compute Capability 8.9\n",
      "2025-04-27 06:39:17.232042: I tensorflow/compiler/mlir/tensorflow/utils/dump_mlir_util.cc:268] disabling MLIR crash reproducer, set env var `MLIR_CRASH_REPRODUCER_DIRECTORY` to enable.\n",
      "I0000 00:00:1745735958.871981   37436 cuda_dnn.cc:529] Loaded cuDNN version 90300\n",
      "2025-04-27 06:39:44.547789: I external/local_xla/xla/stream_executor/cuda/cuda_asm_compiler.cc:397] ptxas warning : Registers are spilled to local memory in function 'loop_transpose_fusion_30', 4 bytes spill stores, 4 bytes spill loads\n",
      "\n",
      "I0000 00:00:1745735984.610362   37436 device_compiler.h:188] Compiled cluster using XLA!  This line is logged at most once for the lifetime of the process.\n",
      "2025-04-27 06:41:51.794169: I external/local_xla/xla/stream_executor/cuda/cuda_asm_compiler.cc:397] ptxas warning : Registers are spilled to local memory in function 'loop_transpose_fusion_9', 4 bytes spill stores, 4 bytes spill loads\n",
      "\n",
      "2025-04-27 06:41:53.146257: W external/local_xla/xla/tsl/framework/cpu_allocator_impl.cc:83] Allocation of 160320000 exceeds 10% of free system memory.\n",
      "2025-04-27 06:41:54.640218: W external/local_xla/xla/tsl/framework/cpu_allocator_impl.cc:83] Allocation of 160320000 exceeds 10% of free system memory.\n"
     ]
    },
    {
     "name": "stdout",
     "output_type": "stream",
     "text": [
      "\n",
      "Epoch 1: val_loss improved from inf to 0.98615, saving model to best_wavenet_ser.h5\n"
     ]
    },
    {
     "name": "stderr",
     "output_type": "stream",
     "text": [
      "WARNING:absl:You are saving your model as an HDF5 file via `model.save()` or `keras.saving.save_model(model)`. This file format is considered legacy. We recommend using instead the native Keras format, e.g. `model.save('my_model.keras')` or `keras.saving.save_model(model, 'my_model.keras')`. \n"
     ]
    },
    {
     "name": "stdout",
     "output_type": "stream",
     "text": [
      "418/418 - 184s - 441ms/step - accuracy: 0.4924 - loss: 1.1302 - val_accuracy: 0.5665 - val_loss: 0.9862 - learning_rate: 1.0000e-03\n",
      "Epoch 2/50\n",
      "\n",
      "Epoch 2: val_loss improved from 0.98615 to 0.97153, saving model to best_wavenet_ser.h5\n"
     ]
    },
    {
     "name": "stderr",
     "output_type": "stream",
     "text": [
      "WARNING:absl:You are saving your model as an HDF5 file via `model.save()` or `keras.saving.save_model(model)`. This file format is considered legacy. We recommend using instead the native Keras format, e.g. `model.save('my_model.keras')` or `keras.saving.save_model(model, 'my_model.keras')`. \n"
     ]
    },
    {
     "name": "stdout",
     "output_type": "stream",
     "text": [
      "418/418 - 120s - 287ms/step - accuracy: 0.5412 - loss: 1.0237 - val_accuracy: 0.5653 - val_loss: 0.9715 - learning_rate: 1.0000e-03\n",
      "Epoch 3/50\n",
      "\n",
      "Epoch 3: val_loss improved from 0.97153 to 0.95830, saving model to best_wavenet_ser.h5\n"
     ]
    },
    {
     "name": "stderr",
     "output_type": "stream",
     "text": [
      "WARNING:absl:You are saving your model as an HDF5 file via `model.save()` or `keras.saving.save_model(model)`. This file format is considered legacy. We recommend using instead the native Keras format, e.g. `model.save('my_model.keras')` or `keras.saving.save_model(model, 'my_model.keras')`. \n"
     ]
    },
    {
     "name": "stdout",
     "output_type": "stream",
     "text": [
      "418/418 - 120s - 287ms/step - accuracy: 0.5508 - loss: 1.0068 - val_accuracy: 0.5617 - val_loss: 0.9583 - learning_rate: 1.0000e-03\n",
      "Epoch 4/50\n",
      "\n",
      "Epoch 4: val_loss did not improve from 0.95830\n",
      "418/418 - 120s - 286ms/step - accuracy: 0.5541 - loss: 0.9942 - val_accuracy: 0.5629 - val_loss: 0.9600 - learning_rate: 1.0000e-03\n",
      "Epoch 5/50\n",
      "\n",
      "Epoch 5: val_loss did not improve from 0.95830\n",
      "418/418 - 120s - 286ms/step - accuracy: 0.5631 - loss: 0.9816 - val_accuracy: 0.5653 - val_loss: 0.9593 - learning_rate: 1.0000e-03\n",
      "Epoch 6/50\n",
      "\n",
      "Epoch 6: val_loss did not improve from 0.95830\n",
      "418/418 - 120s - 287ms/step - accuracy: 0.5712 - loss: 0.9678 - val_accuracy: 0.5545 - val_loss: 0.9649 - learning_rate: 1.0000e-03\n",
      "Epoch 7/50\n",
      "\n",
      "Epoch 7: val_loss improved from 0.95830 to 0.93180, saving model to best_wavenet_ser.h5\n"
     ]
    },
    {
     "name": "stderr",
     "output_type": "stream",
     "text": [
      "WARNING:absl:You are saving your model as an HDF5 file via `model.save()` or `keras.saving.save_model(model)`. This file format is considered legacy. We recommend using instead the native Keras format, e.g. `model.save('my_model.keras')` or `keras.saving.save_model(model, 'my_model.keras')`. \n"
     ]
    },
    {
     "name": "stdout",
     "output_type": "stream",
     "text": [
      "418/418 - 120s - 287ms/step - accuracy: 0.5924 - loss: 0.9434 - val_accuracy: 0.5880 - val_loss: 0.9318 - learning_rate: 3.0000e-04\n",
      "Epoch 8/50\n",
      "\n",
      "Epoch 8: val_loss did not improve from 0.93180\n",
      "418/418 - 120s - 286ms/step - accuracy: 0.5948 - loss: 0.9376 - val_accuracy: 0.5916 - val_loss: 0.9323 - learning_rate: 3.0000e-04\n",
      "Epoch 9/50\n",
      "\n",
      "Epoch 9: val_loss improved from 0.93180 to 0.93161, saving model to best_wavenet_ser.h5\n"
     ]
    },
    {
     "name": "stderr",
     "output_type": "stream",
     "text": [
      "WARNING:absl:You are saving your model as an HDF5 file via `model.save()` or `keras.saving.save_model(model)`. This file format is considered legacy. We recommend using instead the native Keras format, e.g. `model.save('my_model.keras')` or `keras.saving.save_model(model, 'my_model.keras')`. \n"
     ]
    },
    {
     "name": "stdout",
     "output_type": "stream",
     "text": [
      "418/418 - 120s - 287ms/step - accuracy: 0.5936 - loss: 0.9326 - val_accuracy: 0.5964 - val_loss: 0.9316 - learning_rate: 3.0000e-04\n",
      "Epoch 10/50\n",
      "\n",
      "Epoch 10: val_loss did not improve from 0.93161\n",
      "418/418 - 120s - 286ms/step - accuracy: 0.5945 - loss: 0.9276 - val_accuracy: 0.6072 - val_loss: 0.9318 - learning_rate: 3.0000e-04\n",
      "Epoch 11/50\n",
      "\n",
      "Epoch 11: val_loss improved from 0.93161 to 0.92936, saving model to best_wavenet_ser.h5\n"
     ]
    },
    {
     "name": "stderr",
     "output_type": "stream",
     "text": [
      "WARNING:absl:You are saving your model as an HDF5 file via `model.save()` or `keras.saving.save_model(model)`. This file format is considered legacy. We recommend using instead the native Keras format, e.g. `model.save('my_model.keras')` or `keras.saving.save_model(model, 'my_model.keras')`. \n"
     ]
    },
    {
     "name": "stdout",
     "output_type": "stream",
     "text": [
      "418/418 - 120s - 288ms/step - accuracy: 0.5954 - loss: 0.9222 - val_accuracy: 0.6000 - val_loss: 0.9294 - learning_rate: 3.0000e-04\n",
      "Epoch 12/50\n",
      "\n",
      "Epoch 12: val_loss improved from 0.92936 to 0.92639, saving model to best_wavenet_ser.h5\n"
     ]
    },
    {
     "name": "stderr",
     "output_type": "stream",
     "text": [
      "WARNING:absl:You are saving your model as an HDF5 file via `model.save()` or `keras.saving.save_model(model)`. This file format is considered legacy. We recommend using instead the native Keras format, e.g. `model.save('my_model.keras')` or `keras.saving.save_model(model, 'my_model.keras')`. \n"
     ]
    },
    {
     "name": "stdout",
     "output_type": "stream",
     "text": [
      "418/418 - 120s - 288ms/step - accuracy: 0.6005 - loss: 0.9170 - val_accuracy: 0.5904 - val_loss: 0.9264 - learning_rate: 3.0000e-04\n",
      "Epoch 13/50\n",
      "\n",
      "Epoch 13: val_loss improved from 0.92639 to 0.92279, saving model to best_wavenet_ser.h5\n"
     ]
    },
    {
     "name": "stderr",
     "output_type": "stream",
     "text": [
      "WARNING:absl:You are saving your model as an HDF5 file via `model.save()` or `keras.saving.save_model(model)`. This file format is considered legacy. We recommend using instead the native Keras format, e.g. `model.save('my_model.keras')` or `keras.saving.save_model(model, 'my_model.keras')`. \n"
     ]
    },
    {
     "name": "stdout",
     "output_type": "stream",
     "text": [
      "418/418 - 120s - 287ms/step - accuracy: 0.6038 - loss: 0.9115 - val_accuracy: 0.5892 - val_loss: 0.9228 - learning_rate: 3.0000e-04\n",
      "Epoch 14/50\n",
      "\n",
      "Epoch 14: val_loss improved from 0.92279 to 0.91882, saving model to best_wavenet_ser.h5\n"
     ]
    },
    {
     "name": "stderr",
     "output_type": "stream",
     "text": [
      "WARNING:absl:You are saving your model as an HDF5 file via `model.save()` or `keras.saving.save_model(model)`. This file format is considered legacy. We recommend using instead the native Keras format, e.g. `model.save('my_model.keras')` or `keras.saving.save_model(model, 'my_model.keras')`. \n"
     ]
    },
    {
     "name": "stdout",
     "output_type": "stream",
     "text": [
      "418/418 - 120s - 287ms/step - accuracy: 0.6074 - loss: 0.9063 - val_accuracy: 0.5964 - val_loss: 0.9188 - learning_rate: 3.0000e-04\n",
      "Epoch 15/50\n",
      "\n",
      "Epoch 15: val_loss improved from 0.91882 to 0.91822, saving model to best_wavenet_ser.h5\n"
     ]
    },
    {
     "name": "stderr",
     "output_type": "stream",
     "text": [
      "WARNING:absl:You are saving your model as an HDF5 file via `model.save()` or `keras.saving.save_model(model)`. This file format is considered legacy. We recommend using instead the native Keras format, e.g. `model.save('my_model.keras')` or `keras.saving.save_model(model, 'my_model.keras')`. \n"
     ]
    },
    {
     "name": "stdout",
     "output_type": "stream",
     "text": [
      "418/418 - 120s - 287ms/step - accuracy: 0.6083 - loss: 0.9009 - val_accuracy: 0.5940 - val_loss: 0.9182 - learning_rate: 3.0000e-04\n",
      "Epoch 16/50\n",
      "\n",
      "Epoch 16: val_loss improved from 0.91822 to 0.91418, saving model to best_wavenet_ser.h5\n"
     ]
    },
    {
     "name": "stderr",
     "output_type": "stream",
     "text": [
      "WARNING:absl:You are saving your model as an HDF5 file via `model.save()` or `keras.saving.save_model(model)`. This file format is considered legacy. We recommend using instead the native Keras format, e.g. `model.save('my_model.keras')` or `keras.saving.save_model(model, 'my_model.keras')`. \n"
     ]
    },
    {
     "name": "stdout",
     "output_type": "stream",
     "text": [
      "418/418 - 120s - 288ms/step - accuracy: 0.6125 - loss: 0.8953 - val_accuracy: 0.5964 - val_loss: 0.9142 - learning_rate: 3.0000e-04\n",
      "Epoch 17/50\n",
      "\n",
      "Epoch 17: val_loss did not improve from 0.91418\n",
      "418/418 - 120s - 287ms/step - accuracy: 0.6173 - loss: 0.8896 - val_accuracy: 0.5940 - val_loss: 0.9172 - learning_rate: 3.0000e-04\n",
      "Epoch 18/50\n",
      "\n",
      "Epoch 18: val_loss did not improve from 0.91418\n",
      "418/418 - 120s - 287ms/step - accuracy: 0.6185 - loss: 0.8840 - val_accuracy: 0.5904 - val_loss: 0.9174 - learning_rate: 3.0000e-04\n",
      "Epoch 19/50\n",
      "\n",
      "Epoch 19: val_loss did not improve from 0.91418\n",
      "418/418 - 120s - 286ms/step - accuracy: 0.6227 - loss: 0.8791 - val_accuracy: 0.5916 - val_loss: 0.9248 - learning_rate: 3.0000e-04\n",
      "Epoch 20/50\n",
      "\n",
      "Epoch 20: val_loss improved from 0.91418 to 0.90727, saving model to best_wavenet_ser.h5\n"
     ]
    },
    {
     "name": "stderr",
     "output_type": "stream",
     "text": [
      "WARNING:absl:You are saving your model as an HDF5 file via `model.save()` or `keras.saving.save_model(model)`. This file format is considered legacy. We recommend using instead the native Keras format, e.g. `model.save('my_model.keras')` or `keras.saving.save_model(model, 'my_model.keras')`. \n"
     ]
    },
    {
     "name": "stdout",
     "output_type": "stream",
     "text": [
      "418/418 - 120s - 288ms/step - accuracy: 0.6290 - loss: 0.8657 - val_accuracy: 0.5904 - val_loss: 0.9073 - learning_rate: 9.0000e-05\n",
      "Epoch 21/50\n",
      "\n",
      "Epoch 21: val_loss did not improve from 0.90727\n",
      "418/418 - 121s - 290ms/step - accuracy: 0.6353 - loss: 0.8612 - val_accuracy: 0.5916 - val_loss: 0.9085 - learning_rate: 9.0000e-05\n",
      "Epoch 22/50\n",
      "\n",
      "Epoch 22: val_loss did not improve from 0.90727\n",
      "418/418 - 120s - 286ms/step - accuracy: 0.6368 - loss: 0.8572 - val_accuracy: 0.5892 - val_loss: 0.9094 - learning_rate: 9.0000e-05\n",
      "Epoch 23/50\n",
      "\n",
      "Epoch 23: val_loss did not improve from 0.90727\n",
      "418/418 - 120s - 287ms/step - accuracy: 0.6410 - loss: 0.8546 - val_accuracy: 0.5892 - val_loss: 0.9110 - learning_rate: 9.0000e-05\n",
      "Epoch 24/50\n",
      "\n",
      "Epoch 24: val_loss did not improve from 0.90727\n",
      "418/418 - 120s - 287ms/step - accuracy: 0.6500 - loss: 0.8461 - val_accuracy: 0.5820 - val_loss: 0.9358 - learning_rate: 2.7000e-05\n",
      "Epoch 25/50\n",
      "\n",
      "Epoch 25: val_loss did not improve from 0.90727\n",
      "418/418 - 120s - 287ms/step - accuracy: 0.6425 - loss: 0.8456 - val_accuracy: 0.5808 - val_loss: 0.9355 - learning_rate: 2.7000e-05\n",
      "Epoch 26/50\n",
      "\n",
      "Epoch 26: val_loss did not improve from 0.90727\n",
      "418/418 - 120s - 287ms/step - accuracy: 0.6482 - loss: 0.8428 - val_accuracy: 0.5808 - val_loss: 0.9399 - learning_rate: 2.7000e-05\n",
      "\n",
      "Training completed in 53.30 minutes.\n"
     ]
    },
    {
     "name": "stderr",
     "output_type": "stream",
     "text": [
      "2025-04-27 07:32:05.618893: W external/local_xla/xla/tsl/framework/cpu_allocator_impl.cc:83] Allocation of 160320000 exceeds 10% of free system memory.\n"
     ]
    },
    {
     "name": "stdout",
     "output_type": "stream",
     "text": [
      "\u001b[1m105/105\u001b[0m \u001b[32m━━━━━━━━━━━━━━━━━━━━\u001b[0m\u001b[37m\u001b[0m \u001b[1m4s\u001b[0m 41ms/step - accuracy: 0.5757 - loss: 0.8982\n",
      "\n",
      "Final validation accuracy: 59.04%\n"
     ]
    }
   ],
   "source": [
    "\n",
    "callbacks = [\n",
    "    tf.keras.callbacks.EarlyStopping(monitor='val_loss', patience=6, restore_best_weights=True),\n",
    "    tf.keras.callbacks.ReduceLROnPlateau(monitor='val_loss', factor=0.3, patience=3, min_lr=1e-6),\n",
    "    tf.keras.callbacks.ModelCheckpoint('best_wavenet_ser.h5', monitor='val_loss', save_best_only=True, verbose=1),\n",
    "    tf.keras.callbacks.TensorBoard(log_dir='./logs')   \n",
    "]\n",
    "\n",
    "\n",
    "start_time = time.time()\n",
    "\n",
    "history = model.fit(\n",
    "    X_tr, y_tr,\n",
    "    validation_data=(X_va, y_va),\n",
    "    batch_size=BATCH_SIZE,\n",
    "    epochs=EPOCHS,\n",
    "    callbacks=callbacks,\n",
    "    verbose=2\n",
    ")\n",
    "\n",
    "end_time = time.time()\n",
    "print(f\"\\nTraining completed in {(end_time - start_time)/60:.2f} minutes.\")\n",
    "\n",
    "\n",
    "loss, acc = model.evaluate(X_va, y_va, batch_size=BATCH_SIZE)\n",
    "print(f\"\\nFinal validation accuracy: {acc*100:.2f}%\")"
   ]
  },
  {
   "cell_type": "code",
   "execution_count": 12,
   "id": "31517b67",
   "metadata": {},
   "outputs": [],
   "source": [
    "model.save('wavenet_ser_model.keras')"
   ]
  },
  {
   "cell_type": "markdown",
   "id": "c5a0e5ce",
   "metadata": {},
   "source": [
    "# Đánh Giá Mô Hình Chạy Đơn (Single Run Evaluation)"
   ]
  },
  {
   "cell_type": "code",
   "execution_count": 2,
   "id": "b5ddb6f8",
   "metadata": {},
   "outputs": [
    {
     "ename": "NameError",
     "evalue": "name 'model' is not defined",
     "output_type": "error",
     "traceback": [
      "\u001b[31m---------------------------------------------------------------------------\u001b[39m",
      "\u001b[31mNameError\u001b[39m                                 Traceback (most recent call last)",
      "\u001b[36mCell\u001b[39m\u001b[36m \u001b[39m\u001b[32mIn[2]\u001b[39m\u001b[32m, line 8\u001b[39m\n\u001b[32m      5\u001b[39m start_eval = time.time()\n\u001b[32m      7\u001b[39m \u001b[38;5;66;03m# Dự đoán trên tập Validation\u001b[39;00m\n\u001b[32m----> \u001b[39m\u001b[32m8\u001b[39m y_pred = \u001b[43mmodel\u001b[49m.predict(X_va, batch_size=BATCH_SIZE)\n\u001b[32m      9\u001b[39m y_pred_classes = np.argmax(y_pred, axis=\u001b[32m1\u001b[39m)\n\u001b[32m     10\u001b[39m y_true_classes = np.argmax(y_va, axis=\u001b[32m1\u001b[39m)\n",
      "\u001b[31mNameError\u001b[39m: name 'model' is not defined"
     ]
    }
   ],
   "source": [
    "import time\n",
    "from sklearn.metrics import classification_report, confusion_matrix, accuracy_score, precision_score, recall_score, f1_score\n",
    "\n",
    "# Đo thời gian bắt đầu đánh giá\n",
    "start_eval = time.time()\n",
    "\n",
    "# Dự đoán trên tập Validation\n",
    "y_pred = model.predict(X_va, batch_size=BATCH_SIZE)\n",
    "y_pred_classes = np.argmax(y_pred, axis=1)\n",
    "y_true_classes = np.argmax(y_va, axis=1)\n",
    "\n",
    "# Tính toán các chỉ số\n",
    "accuracy  = accuracy_score(y_true_classes, y_pred_classes) * 100\n",
    "precision = precision_score(y_true_classes, y_pred_classes, average='macro') * 100\n",
    "recall    = recall_score(y_true_classes, y_pred_classes, average='macro') * 100\n",
    "f1        = f1_score(y_true_classes, y_pred_classes, average='macro') * 100\n",
    "\n",
    "# Classification Report & Confusion Matrix\n",
    "report = classification_report(y_true_classes, y_pred_classes, target_names=lb.classes_)\n",
    "cm     = confusion_matrix(y_true_classes, y_pred_classes)\n",
    "\n",
    "end_eval = time.time()\n",
    "eval_time = end_eval - start_eval\n",
    "\n",
    "# In kết quả\n",
    "print(f\"Accuracy      : {accuracy:.2f}%\")\n",
    "print(f\"Precision     : {precision:.2f}%\")\n",
    "print(f\"Recall        : {recall:.2f}%\")\n",
    "print(f\"F1-score      : {f1:.2f}%\")\n",
    "print(f\"Evaluation Time: {eval_time:.2f} seconds\\n\")\n",
    "\n",
    "print(\"=== Classification Report ===\")\n",
    "print(report)\n",
    "\n",
    "print(\"=== Confusion Matrix ===\")\n",
    "print(cm)\n"
   ]
  },
  {
   "cell_type": "code",
   "execution_count": 1,
   "id": "bf03d59a",
   "metadata": {},
   "outputs": [
    {
     "ename": "NameError",
     "evalue": "name 'y_true_classes' is not defined",
     "output_type": "error",
     "traceback": [
      "\u001b[31m---------------------------------------------------------------------------\u001b[39m",
      "\u001b[31mNameError\u001b[39m                                 Traceback (most recent call last)",
      "\u001b[36mCell\u001b[39m\u001b[36m \u001b[39m\u001b[32mIn[1]\u001b[39m\u001b[32m, line 3\u001b[39m\n\u001b[32m      1\u001b[39m \u001b[38;5;28;01mfrom\u001b[39;00m\u001b[38;5;250m \u001b[39m\u001b[34;01msklearn\u001b[39;00m\u001b[34;01m.\u001b[39;00m\u001b[34;01mmetrics\u001b[39;00m\u001b[38;5;250m \u001b[39m\u001b[38;5;28;01mimport\u001b[39;00m mean_absolute_error, mean_squared_error, r2_score\n\u001b[32m----> \u001b[39m\u001b[32m3\u001b[39m mse = mean_squared_error(\u001b[43my_true_classes\u001b[49m, y_pred_classes)\n\u001b[32m      4\u001b[39m rmse = np.sqrt(mse)\n\u001b[32m      5\u001b[39m mae = mean_absolute_error(y_true_classes, y_pred_classes)\n",
      "\u001b[31mNameError\u001b[39m: name 'y_true_classes' is not defined"
     ]
    }
   ],
   "source": [
    "from sklearn.metrics import mean_absolute_error, mean_squared_error, r2_score\n",
    "\n",
    "mse = mean_squared_error(y_true_classes, y_pred_classes)\n",
    "rmse = np.sqrt(mse)\n",
    "mae = mean_absolute_error(y_true_classes, y_pred_classes)\n",
    "r2 = r2_score(y_true_classes, y_pred_classes)"
   ]
  },
  {
   "cell_type": "markdown",
   "id": "38b54e41",
   "metadata": {},
   "source": [
    "# Đánh Giá Bằng K-Fold Cross Validatio\n"
   ]
  },
  {
   "cell_type": "code",
   "execution_count": null,
   "id": "fe22ede8",
   "metadata": {},
   "outputs": [
    {
     "name": "stdout",
     "output_type": "stream",
     "text": [
      "\n",
      "===== Fold 1 / 5 =====\n"
     ]
    },
    {
     "name": "stderr",
     "output_type": "stream",
     "text": [
      "2025-04-27 13:58:09.972445: W external/local_xla/xla/tsl/framework/cpu_allocator_impl.cc:83] Allocation of 640704000 exceeds 10% of free system memory.\n",
      "2025-04-27 13:58:11.257243: W external/local_xla/xla/tsl/framework/cpu_allocator_impl.cc:83] Allocation of 640704000 exceeds 10% of free system memory.\n",
      "WARNING: All log messages before absl::InitializeLog() is called are written to STDERR\n",
      "I0000 00:00:1745762303.835170    6455 service.cc:148] XLA service 0x7f38d8003ec0 initialized for platform CUDA (this does not guarantee that XLA will be used). Devices:\n",
      "I0000 00:00:1745762303.841642    6455 service.cc:156]   StreamExecutor device (0): NVIDIA GeForce RTX 4060 Laptop GPU, Compute Capability 8.9\n",
      "2025-04-27 13:58:24.573786: I tensorflow/compiler/mlir/tensorflow/utils/dump_mlir_util.cc:268] disabling MLIR crash reproducer, set env var `MLIR_CRASH_REPRODUCER_DIRECTORY` to enable.\n",
      "I0000 00:00:1745762306.008945    6455 cuda_dnn.cc:529] Loaded cuDNN version 90300\n",
      "2025-04-27 13:58:46.906678: I external/local_xla/xla/stream_executor/cuda/cuda_asm_compiler.cc:397] ptxas warning : Registers are spilled to local memory in function 'loop_transpose_fusion_30', 4 bytes spill stores, 4 bytes spill loads\n",
      "\n",
      "I0000 00:00:1745762326.948884    6455 device_compiler.h:188] Compiled cluster using XLA!  This line is logged at most once for the lifetime of the process.\n",
      "2025-04-27 14:00:51.857527: I external/local_xla/xla/stream_executor/cuda/cuda_asm_compiler.cc:397] ptxas warning : Registers are spilled to local memory in function 'loop_transpose_fusion_9', 4 bytes spill stores, 4 bytes spill loads\n",
      "\n"
     ]
    },
    {
     "name": "stdout",
     "output_type": "stream",
     "text": [
      "\u001b[1m105/105\u001b[0m \u001b[32m━━━━━━━━━━━━━━━━━━━━\u001b[0m\u001b[37m\u001b[0m \u001b[1m9s\u001b[0m 61ms/step\n",
      "Fold 1: Acc=55.81%, Precision=59.08%, Recall=55.47%, F1=55.51%, Time=2354.59s\n",
      "\n",
      "===== Fold 2 / 5 =====\n"
     ]
    },
    {
     "name": "stderr",
     "output_type": "stream",
     "text": [
      "2025-04-27 14:37:43.313948: W external/local_xla/xla/tsl/framework/cpu_allocator_impl.cc:83] Allocation of 640704000 exceeds 10% of free system memory.\n",
      "2025-04-27 14:37:48.284149: W external/local_xla/xla/tsl/framework/cpu_allocator_impl.cc:83] Allocation of 640704000 exceeds 10% of free system memory.\n",
      "2025-04-27 14:38:04.346661: I external/local_xla/xla/stream_executor/cuda/cuda_asm_compiler.cc:397] ptxas warning : Registers are spilled to local memory in function 'loop_transpose_fusion_30', 4 bytes spill stores, 4 bytes spill loads\n",
      "\n",
      "2025-04-27 14:40:06.031128: I external/local_xla/xla/stream_executor/cuda/cuda_asm_compiler.cc:397] ptxas warning : Registers are spilled to local memory in function 'loop_transpose_fusion_9', 4 bytes spill stores, 4 bytes spill loads\n",
      "\n"
     ]
    },
    {
     "name": "stdout",
     "output_type": "stream",
     "text": [
      "\u001b[1m105/105\u001b[0m \u001b[32m━━━━━━━━━━━━━━━━━━━━\u001b[0m\u001b[37m\u001b[0m \u001b[1m8s\u001b[0m 51ms/step\n",
      "Fold 2: Acc=58.32%, Precision=60.90%, Recall=59.02%, F1=57.72%, Time=2347.75s\n",
      "\n",
      "===== Fold 3 / 5 =====\n"
     ]
    },
    {
     "name": "stderr",
     "output_type": "stream",
     "text": [
      "2025-04-27 15:17:08.613793: W external/local_xla/xla/tsl/framework/cpu_allocator_impl.cc:83] Allocation of 640896000 exceeds 10% of free system memory.\n",
      "2025-04-27 15:17:27.300643: I external/local_xla/xla/stream_executor/cuda/cuda_asm_compiler.cc:397] ptxas warning : Registers are spilled to local memory in function 'loop_transpose_fusion_30', 4 bytes spill stores, 4 bytes spill loads\n",
      "\n",
      "2025-04-27 15:19:34.407960: I external/local_xla/xla/stream_executor/cuda/cuda_asm_compiler.cc:397] ptxas warning : Registers are spilled to local memory in function 'loop_transpose_fusion_30', 4 bytes spill stores, 4 bytes spill loads\n",
      "\n"
     ]
    },
    {
     "name": "stdout",
     "output_type": "stream",
     "text": [
      "\u001b[1m105/105\u001b[0m \u001b[32m━━━━━━━━━━━━━━━━━━━━\u001b[0m\u001b[37m\u001b[0m \u001b[1m14s\u001b[0m 67ms/step\n",
      "Fold 3: Acc=58.39%, Precision=60.45%, Recall=57.57%, F1=57.41%, Time=2345.26s\n",
      "\n",
      "===== Fold 4 / 5 =====\n"
     ]
    },
    {
     "name": "stderr",
     "output_type": "stream",
     "text": [
      "2025-04-27 15:58:55.090231: I external/local_xla/xla/stream_executor/cuda/cuda_asm_compiler.cc:397] ptxas warning : Registers are spilled to local memory in function 'loop_transpose_fusion_30', 4 bytes spill stores, 4 bytes spill loads\n",
      "\n"
     ]
    },
    {
     "name": "stdout",
     "output_type": "stream",
     "text": [
      "\u001b[1m105/105\u001b[0m \u001b[32m━━━━━━━━━━━━━━━━━━━━\u001b[0m\u001b[37m\u001b[0m \u001b[1m8s\u001b[0m 54ms/step\n",
      "Fold 4: Acc=63.43%, Precision=64.48%, Recall=62.88%, F1=63.30%, Time=2347.30s\n",
      "\n",
      "===== Fold 5 / 5 =====\n"
     ]
    },
    {
     "name": "stderr",
     "output_type": "stream",
     "text": [
      "2025-04-27 16:38:26.616432: I external/local_xla/xla/stream_executor/cuda/cuda_asm_compiler.cc:397] ptxas warning : Registers are spilled to local memory in function 'loop_transpose_fusion_30', 4 bytes spill stores, 4 bytes spill loads\n",
      "\n"
     ]
    },
    {
     "name": "stdout",
     "output_type": "stream",
     "text": [
      "\u001b[1m105/105\u001b[0m \u001b[32m━━━━━━━━━━━━━━━━━━━━\u001b[0m\u001b[37m\u001b[0m \u001b[1m8s\u001b[0m 52ms/step\n",
      "Fold 5: Acc=59.23%, Precision=59.68%, Recall=59.32%, F1=59.14%, Time=2352.87s\n",
      "\n",
      " === K-Fold Summary ===\n",
      "Accuracy : 59.04% ± 2.48\n",
      "Precision: 60.92% ± 1.89\n",
      "Recall   : 58.85% ± 2.43\n",
      "F1-score : 58.62% ± 2.61\n",
      "Avg Time : 2349.55 seconds\n"
     ]
    }
   ],
   "source": [
    "from sklearn.model_selection import StratifiedKFold\n",
    "from sklearn.metrics import accuracy_score, precision_score, recall_score, f1_score\n",
    "import numpy as np\n",
    "import time\n",
    "\n",
    "\n",
    "n_splits = 5\n",
    "kf = StratifiedKFold(n_splits=n_splits, shuffle=True, random_state=SEED)\n",
    "\n",
    "# Lưu kết quả từng fold\n",
    "acc_list, pre_list, rec_list, f1_list, time_list = [], [], [], [], []\n",
    "\n",
    "# Bắt đầu vòng lặp K-Fold\n",
    "for fold, (train_idx, val_idx) in enumerate(kf.split(X_total, y_total), 1):\n",
    "    print(f\"\\n===== Fold {fold} / {n_splits} =====\")\n",
    "    \n",
    "    # Lấy dữ liệu cho fold hiện tại\n",
    "    X_tr, X_va = X_total[train_idx][..., None], X_total[val_idx][..., None]\n",
    "    y_tr, y_va = y_onehot[train_idx], y_onehot[val_idx]\n",
    "\n",
    "    # Khởi tạo lại mô hình cho mỗi fold\n",
    "    model = build_wavenet_ser(\n",
    "        time_steps=MAX_SAMPLES,\n",
    "        n_classes=len(lb.classes_)\n",
    "    )\n",
    "    model.compile(\n",
    "        optimizer=tf.keras.optimizers.Adam(learning_rate=1e-3),\n",
    "        loss='categorical_crossentropy',\n",
    "        metrics=['accuracy']\n",
    "    )\n",
    "\n",
    "    start_time = time.time()\n",
    "\n",
    "    model.fit(\n",
    "        X_tr, y_tr,\n",
    "        batch_size=BATCH_SIZE,\n",
    "        epochs=20,            \n",
    "        verbose=0\n",
    "    )\n",
    "    train_time = time.time() - start_time\n",
    "\n",
    "\n",
    "    y_pred = model.predict(X_va, batch_size=BATCH_SIZE)\n",
    "    y_pred_cls = np.argmax(y_pred, axis=1)\n",
    "    y_true_cls = np.argmax(y_va, axis=1)\n",
    "\n",
    "    acc = accuracy_score(y_true_cls, y_pred_cls) * 100\n",
    "    pre = precision_score(y_true_cls, y_pred_cls, average='macro') * 100\n",
    "    rec = recall_score(y_true_cls, y_pred_cls, average='macro') * 100\n",
    "    f1s = f1_score(y_true_cls, y_pred_cls, average='macro') * 100\n",
    "\n",
    "    # Lưu kết quả\n",
    "    acc_list.append(acc)\n",
    "    pre_list.append(pre)\n",
    "    rec_list.append(rec)\n",
    "    f1_list.append(f1s)\n",
    "    time_list.append(train_time)\n",
    "\n",
    "    print(f\"Fold {fold}: Acc={acc:.2f}%, Precision={pre:.2f}%, Recall={rec:.2f}%, F1={f1s:.2f}%, Time={train_time:.2f}s\")\n",
    "\n",
    "\n",
    "print(\"\\n === K-Fold Summary ===\")\n",
    "print(f\"Accuracy : {np.mean(acc_list):.2f}% ± {np.std(acc_list):.2f}\")\n",
    "print(f\"Precision: {np.mean(pre_list):.2f}% ± {np.std(pre_list):.2f}\")\n",
    "print(f\"Recall   : {np.mean(rec_list):.2f}% ± {np.std(rec_list):.2f}\")\n",
    "print(f\"F1-score : {np.mean(f1_list):.2f}% ± {np.std(f1_list):.2f}\")\n",
    "print(f\"Avg Time : {np.mean(time_list):.2f} seconds\")\n"
   ]
  }
 ],
 "metadata": {
  "kernelspec": {
   "display_name": "tf",
   "language": "python",
   "name": "python3"
  },
  "language_info": {
   "codemirror_mode": {
    "name": "ipython",
    "version": 3
   },
   "file_extension": ".py",
   "mimetype": "text/x-python",
   "name": "python",
   "nbconvert_exporter": "python",
   "pygments_lexer": "ipython3",
   "version": "3.12.3"
  }
 },
 "nbformat": 4,
 "nbformat_minor": 5
}
