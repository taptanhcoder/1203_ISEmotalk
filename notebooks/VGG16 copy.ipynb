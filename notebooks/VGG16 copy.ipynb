{
 "cells": [
  {
   "cell_type": "markdown",
   "metadata": {},
   "source": [
    "## import lib ##"
   ]
  },
  {
   "cell_type": "code",
   "execution_count": 1,
   "metadata": {},
   "outputs": [
    {
     "name": "stderr",
     "output_type": "stream",
     "text": [
      "2025-04-26 12:31:50.580969: E external/local_xla/xla/stream_executor/cuda/cuda_fft.cc:477] Unable to register cuFFT factory: Attempting to register factory for plugin cuFFT when one has already been registered\n",
      "WARNING: All log messages before absl::InitializeLog() is called are written to STDERR\n",
      "E0000 00:00:1745670712.741242   21389 cuda_dnn.cc:8310] Unable to register cuDNN factory: Attempting to register factory for plugin cuDNN when one has already been registered\n",
      "E0000 00:00:1745670713.337194   21389 cuda_blas.cc:1418] Unable to register cuBLAS factory: Attempting to register factory for plugin cuBLAS when one has already been registered\n",
      "2025-04-26 12:31:58.730157: I tensorflow/core/platform/cpu_feature_guard.cc:210] This TensorFlow binary is optimized to use available CPU instructions in performance-critical operations.\n",
      "To enable the following instructions: AVX2 FMA, in other operations, rebuild TensorFlow with the appropriate compiler flags.\n"
     ]
    }
   ],
   "source": [
    "import os\n",
    "import numpy as np\n",
    "import pandas as pd\n",
    "import librosa\n",
    "import librosa.display\n",
    "import matplotlib.pyplot as plt\n",
    "\n",
    "import tensorflow as tf\n",
    "from tensorflow import keras\n",
    "from tensorflow.keras.utils import Sequence\n",
    "from tensorflow.keras.callbacks import EarlyStopping, ModelCheckpoint, ReduceLROnPlateau\n",
    "from tensorflow.keras import layers, regularizers\n",
    "from pathlib import Path\n",
    "from sklearn.model_selection import train_test_split\n",
    "from sklearn.preprocessing import LabelEncoder\n",
    "from sklearn.metrics import classification_report, confusion_matrix, ConfusionMatrixDisplay\n",
    "\n",
    "\n"
   ]
  },
  {
   "cell_type": "code",
   "execution_count": 2,
   "metadata": {},
   "outputs": [],
   "source": [
    "SAMPLE_RATE  = 16000\n",
    "MAX_DURATION = 3.0\n",
    "MAX_SAMPLES  = int(SAMPLE_RATE * MAX_DURATION)\n",
    "\n",
    "BATCH_SIZE = 32\n",
    "XDIM, YDIM = 180, 128"
   ]
  },
  {
   "cell_type": "markdown",
   "metadata": {},
   "source": [
    "# spec-augment"
   ]
  },
  {
   "cell_type": "code",
   "execution_count": 3,
   "metadata": {},
   "outputs": [],
   "source": [
    "def spec_augment(spec, time_mask=10, freq_mask=5):\n",
    "    spec = spec.copy()\n",
    "    # time masking\n",
    "    t = spec.shape[1]\n",
    "    t0 = np.random.randint(0, max(1, t - time_mask))\n",
    "    spec[:, t0:t0+time_mask] = 0\n",
    "    # freq masking\n",
    "    f = spec.shape[0]\n",
    "    f0 = np.random.randint(0, max(1, f - freq_mask))\n",
    "    spec[f0:f0+freq_mask, :] = 0\n",
    "    return spec"
   ]
  },
  {
   "cell_type": "markdown",
   "metadata": {},
   "source": [
    "## define spectogram  ##"
   ]
  },
  {
   "cell_type": "code",
   "execution_count": 4,
   "metadata": {},
   "outputs": [],
   "source": [
    "def wav_to_spectrogram(wav_file, xdim=XDIM, ydim=YDIM):\n",
    "    if not wav_file.lower().endswith('.wav'):\n",
    "        raise ValueError(f\"Expected .wav, got: {wav_file}\")\n",
    "    audio, sr = librosa.load(wav_file, sr=None)\n",
    "    spec = librosa.feature.melspectrogram(y=audio, sr=sr, n_mels=ydim, fmax=8000)\n",
    "    spec = librosa.power_to_db(spec, ref=np.max)\n",
    "    # fix time axis\n",
    "    spec = librosa.util.fix_length(spec, size=xdim, axis=1)\n",
    "    # fix freq axis\n",
    "    if spec.shape[0] < ydim:\n",
    "        spec = np.pad(spec, ((0, ydim - spec.shape[0]), (0, 0)), 'constant')\n",
    "    else:\n",
    "        spec = spec[:ydim, :]\n",
    "    # normalize [0,1]\n",
    "    spec = (spec - spec.min()) / (spec.max() - spec.min() + 1e-6)\n",
    "    # repeat to 3 channels\n",
    "    return np.repeat(spec[..., np.newaxis], 3, axis=-1)\n"
   ]
  },
  {
   "cell_type": "markdown",
   "metadata": {},
   "source": [
    "## define dataset class ##"
   ]
  },
  {
   "cell_type": "code",
   "execution_count": 5,
   "metadata": {},
   "outputs": [],
   "source": [
    "class SpectrogramDataset(keras.utils.Sequence):\n",
    "    def __init__(self, file_paths, labels, xdim=XDIM, ydim=YDIM,\n",
    "                 batch_size=BATCH_SIZE, shuffle=True, augment=False):\n",
    "        self.file_paths = list(file_paths)\n",
    "        self.labels     = list(labels)\n",
    "        self.xdim, self.ydim = xdim, ydim\n",
    "        self.batch_size = batch_size\n",
    "        self.shuffle    = shuffle\n",
    "        self.augment    = augment\n",
    "        self.on_epoch_end()\n",
    "\n",
    "    def __len__(self):\n",
    "        return len(self.file_paths) // self.batch_size\n",
    "\n",
    "    def __getitem__(self, idx):\n",
    "        batch_paths  = self.file_paths[idx*self.batch_size:(idx+1)*self.batch_size]\n",
    "        batch_labels = self.labels[idx*self.batch_size:(idx+1)*self.batch_size]\n",
    "        specs, labs = [], []\n",
    "        for fp, lbl in zip(batch_paths, batch_labels):\n",
    "            try:\n",
    "                spec = wav_to_spectrogram(fp, self.xdim, self.ydim)\n",
    "                if self.augment:\n",
    "                    spec = spec[...,0]                      # drop channels\n",
    "                    spec = spec_augment(spec)\n",
    "                    spec = np.repeat(spec[...,np.newaxis], 3, axis=-1)\n",
    "                specs.append(spec)\n",
    "                labs.append(lbl)\n",
    "            except Exception as e:\n",
    "                print(f\"[LỖI] {fp}: {e}\")\n",
    "        if not specs:\n",
    "            raise RuntimeError(f\"Batch {idx} empty.\")\n",
    "        return np.stack(specs), np.array(labs)\n",
    "\n",
    "    def on_epoch_end(self):\n",
    "        if self.shuffle:\n",
    "            idxs = np.arange(len(self.file_paths))\n",
    "            np.random.shuffle(idxs)\n",
    "            self.file_paths = [self.file_paths[i] for i in idxs]\n",
    "            self.labels     = [self.labels[i]     for i in idxs]"
   ]
  },
  {
   "cell_type": "markdown",
   "metadata": {},
   "source": [
    "## data loading ##"
   ]
  },
  {
   "cell_type": "code",
   "execution_count": null,
   "metadata": {},
   "outputs": [],
   "source": [
    "\n",
    "TARGET_EMOTIONS = ['neutral', 'sad', 'happy', 'angry']"
   ]
  },
  {
   "cell_type": "code",
   "execution_count": 7,
   "metadata": {},
   "outputs": [],
   "source": [
    "RAVDESS_EMO_MAP = {\n",
    "    1: 'neutral',\n",
    "    2: 'calm',\n",
    "    3: 'happy',\n",
    "    4: 'sad',\n",
    "    5: 'angry',\n",
    "    6: 'fear',\n",
    "    7: 'disgust',\n",
    "    8: 'surprise'\n",
    "}\n",
    "\n",
    "\n",
    "def load_ravdess_paths(path: str):\n",
    "    paths, labels = [], []\n",
    "    for actor in os.listdir(path):\n",
    "        actor_dir = Path(path) / actor\n",
    "        if not actor_dir.is_dir(): \n",
    "            continue\n",
    "        for fn in os.listdir(actor_dir):\n",
    "            if not fn.endswith('.wav'):\n",
    "                continue\n",
    "            emo_id = int(fn.split('-')[2])\n",
    "            emo = RAVDESS_EMO_MAP[emo_id]\n",
    "            if emo in TARGET_EMOTIONS:\n",
    "                paths.append(str(actor_dir / fn))\n",
    "                labels.append(emo)\n",
    "    df = pd.DataFrame({'Path': paths, 'Emotions': labels})\n",
    "    print(f\"RAVDESS: load được {len(df)} file.\")\n",
    "    return df\n",
    "\n"
   ]
  },
  {
   "cell_type": "code",
   "execution_count": 8,
   "metadata": {},
   "outputs": [],
   "source": [
    "CREMA_EMO_MAP = {\n",
    "    'NEU': 'neutral',\n",
    "    'HAP': 'happy',\n",
    "    'SAD': 'sad',\n",
    "    'ANG': 'angry',\n",
    "    'FEA': 'fear',\n",
    "    'DIS': 'disgust'\n",
    "}\n",
    "\n",
    "\n",
    "def load_crema_paths(path: str, limit: int = 3500):\n",
    "    paths, labels = [], []\n",
    "    files = [f for f in os.listdir(path) if f.endswith('.wav')]\n",
    "    count = 0\n",
    "    for fn in files:\n",
    "        parts = fn.split('_')\n",
    "        emo_code = parts[2]\n",
    "        emo = CREMA_EMO_MAP.get(emo_code)\n",
    "        if emo not in TARGET_EMOTIONS:\n",
    "            continue\n",
    "        if count >= limit:\n",
    "            break\n",
    "        paths.append(str(Path(path) / fn))\n",
    "        labels.append(emo)\n",
    "        count += 1\n",
    "    df = pd.DataFrame({'Path': paths, 'Emotions': labels})\n",
    "    print(f\"CREMA-D: load được {len(df)} file (giới hạn={limit}).\")\n",
    "    return df"
   ]
  },
  {
   "cell_type": "code",
   "execution_count": 9,
   "metadata": {},
   "outputs": [
    {
     "name": "stdout",
     "output_type": "stream",
     "text": [
      "RAVDESS: load được 672 file.\n",
      "CREMA-D: load được 3500 file (giới hạn=3500).\n"
     ]
    }
   ],
   "source": [
    "rav_path  = \"../data/RAVDESS_Data\"\n",
    "crema_path = \"../data/Crema_Data\"\n",
    "\n",
    "rav_df   = load_ravdess_paths(rav_path)\n",
    "crema_df = load_crema_paths(crema_path, limit=3500)"
   ]
  },
  {
   "cell_type": "code",
   "execution_count": 10,
   "metadata": {},
   "outputs": [
    {
     "name": "stdout",
     "output_type": "stream",
     "text": [
      "Tổng combined: 4172 file.\n",
      "Mapping labels: {'angry': np.int64(0), 'happy': np.int64(1), 'neutral': np.int64(2), 'sad': np.int64(3)}\n"
     ]
    }
   ],
   "source": [
    "combined_df = pd.concat([rav_df, crema_df], ignore_index=True)\n",
    "print(f\"Tổng combined: {len(combined_df)} file.\")\n",
    "\n",
    "# Shuffle để đảm bảo không tập trung\n",
    "combined_df = combined_df.sample(frac=1, random_state=42).reset_index(drop=True)\n",
    "\n",
    "# Encode nhãn thành số\n",
    "le = LabelEncoder()\n",
    "combined_df['Label'] = le.fit_transform(combined_df['Emotions'])\n",
    "print(\"Mapping labels:\", dict(zip(le.classes_, le.transform(le.classes_))))"
   ]
  },
  {
   "cell_type": "code",
   "execution_count": 11,
   "metadata": {},
   "outputs": [
    {
     "name": "stdout",
     "output_type": "stream",
     "text": [
      "Tổng số file trong combined_df: 4172\n"
     ]
    }
   ],
   "source": [
    "print(f\"Tổng số file trong combined_df: {len(combined_df)}\")"
   ]
  },
  {
   "cell_type": "code",
   "execution_count": 12,
   "metadata": {},
   "outputs": [
    {
     "name": "stdout",
     "output_type": "stream",
     "text": [
      "Train: 3337 file, Val: 835 file.\n"
     ]
    }
   ],
   "source": [
    "train_df, val_df = train_test_split(\n",
    "    combined_df,\n",
    "    test_size=0.2,\n",
    "    stratify=combined_df['Label'],\n",
    "    random_state=42\n",
    ")\n",
    "print(f\"Train: {len(train_df)} file, Val: {len(val_df)} file.\")"
   ]
  },
  {
   "cell_type": "code",
   "execution_count": 13,
   "metadata": {},
   "outputs": [],
   "source": [
    "train_dataset = SpectrogramDataset(\n",
    "    file_paths=train_df[\"Path\"].tolist(),\n",
    "    labels=train_df[\"Label\"].tolist(),\n",
    "    xdim=180,\n",
    "    ydim=180,\n",
    "    batch_size=32,\n",
    "    shuffle=True\n",
    ")\n",
    "\n",
    "val_dataset = SpectrogramDataset(\n",
    "    file_paths=val_df[\"Path\"].tolist(),\n",
    "    labels=val_df[\"Label\"].tolist(),\n",
    "    xdim=180,\n",
    "    ydim=180,\n",
    "    batch_size=32,\n",
    "    shuffle=False\n",
    ")\n"
   ]
  },
  {
   "cell_type": "markdown",
   "metadata": {},
   "source": [
    "## define model architecture ## "
   ]
  },
  {
   "cell_type": "code",
   "execution_count": 14,
   "metadata": {},
   "outputs": [
    {
     "name": "stderr",
     "output_type": "stream",
     "text": [
      "I0000 00:00:1745670779.489919   21389 gpu_device.cc:2022] Created device /job:localhost/replica:0/task:0/device:GPU:0 with 5563 MB memory:  -> device: 0, name: NVIDIA GeForce RTX 4060 Laptop GPU, pci bus id: 0000:01:00.0, compute capability: 8.9\n"
     ]
    },
    {
     "data": {
      "text/html": [
       "<pre style=\"white-space:pre;overflow-x:auto;line-height:normal;font-family:Menlo,'DejaVu Sans Mono',consolas,'Courier New',monospace\"><span style=\"font-weight: bold\">Model: \"functional\"</span>\n",
       "</pre>\n"
      ],
      "text/plain": [
       "\u001b[1mModel: \"functional\"\u001b[0m\n"
      ]
     },
     "metadata": {},
     "output_type": "display_data"
    },
    {
     "data": {
      "text/html": [
       "<pre style=\"white-space:pre;overflow-x:auto;line-height:normal;font-family:Menlo,'DejaVu Sans Mono',consolas,'Courier New',monospace\">┏━━━━━━━━━━━━━━━━━━━━━┳━━━━━━━━━━━━━━━━━━━┳━━━━━━━━━━━━┳━━━━━━━━━━━━━━━━━━━┓\n",
       "┃<span style=\"font-weight: bold\"> Layer (type)        </span>┃<span style=\"font-weight: bold\"> Output Shape      </span>┃<span style=\"font-weight: bold\">    Param # </span>┃<span style=\"font-weight: bold\"> Connected to      </span>┃\n",
       "┡━━━━━━━━━━━━━━━━━━━━━╇━━━━━━━━━━━━━━━━━━━╇━━━━━━━━━━━━╇━━━━━━━━━━━━━━━━━━━┩\n",
       "│ input_layer_1       │ (<span style=\"color: #00d7ff; text-decoration-color: #00d7ff\">None</span>, <span style=\"color: #00af00; text-decoration-color: #00af00\">180</span>, <span style=\"color: #00af00; text-decoration-color: #00af00\">180</span>,  │          <span style=\"color: #00af00; text-decoration-color: #00af00\">0</span> │ -                 │\n",
       "│ (<span style=\"color: #0087ff; text-decoration-color: #0087ff\">InputLayer</span>)        │ <span style=\"color: #00af00; text-decoration-color: #00af00\">3</span>)                │            │                   │\n",
       "├─────────────────────┼───────────────────┼────────────┼───────────────────┤\n",
       "│ get_item (<span style=\"color: #0087ff; text-decoration-color: #0087ff\">GetItem</span>)  │ (<span style=\"color: #00d7ff; text-decoration-color: #00d7ff\">None</span>, <span style=\"color: #00af00; text-decoration-color: #00af00\">180</span>, <span style=\"color: #00af00; text-decoration-color: #00af00\">180</span>)  │          <span style=\"color: #00af00; text-decoration-color: #00af00\">0</span> │ input_layer_1[<span style=\"color: #00af00; text-decoration-color: #00af00\">0</span>]… │\n",
       "├─────────────────────┼───────────────────┼────────────┼───────────────────┤\n",
       "│ get_item_1          │ (<span style=\"color: #00d7ff; text-decoration-color: #00d7ff\">None</span>, <span style=\"color: #00af00; text-decoration-color: #00af00\">180</span>, <span style=\"color: #00af00; text-decoration-color: #00af00\">180</span>)  │          <span style=\"color: #00af00; text-decoration-color: #00af00\">0</span> │ input_layer_1[<span style=\"color: #00af00; text-decoration-color: #00af00\">0</span>]… │\n",
       "│ (<span style=\"color: #0087ff; text-decoration-color: #0087ff\">GetItem</span>)           │                   │            │                   │\n",
       "├─────────────────────┼───────────────────┼────────────┼───────────────────┤\n",
       "│ get_item_2          │ (<span style=\"color: #00d7ff; text-decoration-color: #00d7ff\">None</span>, <span style=\"color: #00af00; text-decoration-color: #00af00\">180</span>, <span style=\"color: #00af00; text-decoration-color: #00af00\">180</span>)  │          <span style=\"color: #00af00; text-decoration-color: #00af00\">0</span> │ input_layer_1[<span style=\"color: #00af00; text-decoration-color: #00af00\">0</span>]… │\n",
       "│ (<span style=\"color: #0087ff; text-decoration-color: #0087ff\">GetItem</span>)           │                   │            │                   │\n",
       "├─────────────────────┼───────────────────┼────────────┼───────────────────┤\n",
       "│ stack (<span style=\"color: #0087ff; text-decoration-color: #0087ff\">Stack</span>)       │ (<span style=\"color: #00d7ff; text-decoration-color: #00d7ff\">None</span>, <span style=\"color: #00af00; text-decoration-color: #00af00\">180</span>, <span style=\"color: #00af00; text-decoration-color: #00af00\">180</span>,  │          <span style=\"color: #00af00; text-decoration-color: #00af00\">0</span> │ get_item[<span style=\"color: #00af00; text-decoration-color: #00af00\">0</span>][<span style=\"color: #00af00; text-decoration-color: #00af00\">0</span>],   │\n",
       "│                     │ <span style=\"color: #00af00; text-decoration-color: #00af00\">3</span>)                │            │ get_item_1[<span style=\"color: #00af00; text-decoration-color: #00af00\">0</span>][<span style=\"color: #00af00; text-decoration-color: #00af00\">0</span>], │\n",
       "│                     │                   │            │ get_item_2[<span style=\"color: #00af00; text-decoration-color: #00af00\">0</span>][<span style=\"color: #00af00; text-decoration-color: #00af00\">0</span>]  │\n",
       "├─────────────────────┼───────────────────┼────────────┼───────────────────┤\n",
       "│ add (<span style=\"color: #0087ff; text-decoration-color: #0087ff\">Add</span>)           │ (<span style=\"color: #00d7ff; text-decoration-color: #00d7ff\">None</span>, <span style=\"color: #00af00; text-decoration-color: #00af00\">180</span>, <span style=\"color: #00af00; text-decoration-color: #00af00\">180</span>,  │          <span style=\"color: #00af00; text-decoration-color: #00af00\">0</span> │ stack[<span style=\"color: #00af00; text-decoration-color: #00af00\">0</span>][<span style=\"color: #00af00; text-decoration-color: #00af00\">0</span>]       │\n",
       "│                     │ <span style=\"color: #00af00; text-decoration-color: #00af00\">3</span>)                │            │                   │\n",
       "├─────────────────────┼───────────────────┼────────────┼───────────────────┤\n",
       "│ vgg16 (<span style=\"color: #0087ff; text-decoration-color: #0087ff\">Functional</span>)  │ (<span style=\"color: #00d7ff; text-decoration-color: #00d7ff\">None</span>, <span style=\"color: #00af00; text-decoration-color: #00af00\">5</span>, <span style=\"color: #00af00; text-decoration-color: #00af00\">5</span>, <span style=\"color: #00af00; text-decoration-color: #00af00\">512</span>) │ <span style=\"color: #00af00; text-decoration-color: #00af00\">14,714,688</span> │ add[<span style=\"color: #00af00; text-decoration-color: #00af00\">0</span>][<span style=\"color: #00af00; text-decoration-color: #00af00\">0</span>]         │\n",
       "├─────────────────────┼───────────────────┼────────────┼───────────────────┤\n",
       "│ global_average_poo… │ (<span style=\"color: #00d7ff; text-decoration-color: #00d7ff\">None</span>, <span style=\"color: #00af00; text-decoration-color: #00af00\">512</span>)       │          <span style=\"color: #00af00; text-decoration-color: #00af00\">0</span> │ vgg16[<span style=\"color: #00af00; text-decoration-color: #00af00\">0</span>][<span style=\"color: #00af00; text-decoration-color: #00af00\">0</span>]       │\n",
       "│ (<span style=\"color: #0087ff; text-decoration-color: #0087ff\">GlobalAveragePool…</span> │                   │            │                   │\n",
       "├─────────────────────┼───────────────────┼────────────┼───────────────────┤\n",
       "│ flatten (<span style=\"color: #0087ff; text-decoration-color: #0087ff\">Flatten</span>)   │ (<span style=\"color: #00d7ff; text-decoration-color: #00d7ff\">None</span>, <span style=\"color: #00af00; text-decoration-color: #00af00\">12800</span>)     │          <span style=\"color: #00af00; text-decoration-color: #00af00\">0</span> │ vgg16[<span style=\"color: #00af00; text-decoration-color: #00af00\">0</span>][<span style=\"color: #00af00; text-decoration-color: #00af00\">0</span>]       │\n",
       "├─────────────────────┼───────────────────┼────────────┼───────────────────┤\n",
       "│ concatenate         │ (<span style=\"color: #00d7ff; text-decoration-color: #00d7ff\">None</span>, <span style=\"color: #00af00; text-decoration-color: #00af00\">13312</span>)     │          <span style=\"color: #00af00; text-decoration-color: #00af00\">0</span> │ global_average_p… │\n",
       "│ (<span style=\"color: #0087ff; text-decoration-color: #0087ff\">Concatenate</span>)       │                   │            │ flatten[<span style=\"color: #00af00; text-decoration-color: #00af00\">0</span>][<span style=\"color: #00af00; text-decoration-color: #00af00\">0</span>]     │\n",
       "├─────────────────────┼───────────────────┼────────────┼───────────────────┤\n",
       "│ dense (<span style=\"color: #0087ff; text-decoration-color: #0087ff\">Dense</span>)       │ (<span style=\"color: #00d7ff; text-decoration-color: #00d7ff\">None</span>, <span style=\"color: #00af00; text-decoration-color: #00af00\">256</span>)       │  <span style=\"color: #00af00; text-decoration-color: #00af00\">3,408,128</span> │ concatenate[<span style=\"color: #00af00; text-decoration-color: #00af00\">0</span>][<span style=\"color: #00af00; text-decoration-color: #00af00\">0</span>] │\n",
       "├─────────────────────┼───────────────────┼────────────┼───────────────────┤\n",
       "│ dropout (<span style=\"color: #0087ff; text-decoration-color: #0087ff\">Dropout</span>)   │ (<span style=\"color: #00d7ff; text-decoration-color: #00d7ff\">None</span>, <span style=\"color: #00af00; text-decoration-color: #00af00\">256</span>)       │          <span style=\"color: #00af00; text-decoration-color: #00af00\">0</span> │ dense[<span style=\"color: #00af00; text-decoration-color: #00af00\">0</span>][<span style=\"color: #00af00; text-decoration-color: #00af00\">0</span>]       │\n",
       "├─────────────────────┼───────────────────┼────────────┼───────────────────┤\n",
       "│ dense_1 (<span style=\"color: #0087ff; text-decoration-color: #0087ff\">Dense</span>)     │ (<span style=\"color: #00d7ff; text-decoration-color: #00d7ff\">None</span>, <span style=\"color: #00af00; text-decoration-color: #00af00\">4</span>)         │      <span style=\"color: #00af00; text-decoration-color: #00af00\">1,028</span> │ dropout[<span style=\"color: #00af00; text-decoration-color: #00af00\">0</span>][<span style=\"color: #00af00; text-decoration-color: #00af00\">0</span>]     │\n",
       "└─────────────────────┴───────────────────┴────────────┴───────────────────┘\n",
       "</pre>\n"
      ],
      "text/plain": [
       "┏━━━━━━━━━━━━━━━━━━━━━┳━━━━━━━━━━━━━━━━━━━┳━━━━━━━━━━━━┳━━━━━━━━━━━━━━━━━━━┓\n",
       "┃\u001b[1m \u001b[0m\u001b[1mLayer (type)       \u001b[0m\u001b[1m \u001b[0m┃\u001b[1m \u001b[0m\u001b[1mOutput Shape     \u001b[0m\u001b[1m \u001b[0m┃\u001b[1m \u001b[0m\u001b[1m   Param #\u001b[0m\u001b[1m \u001b[0m┃\u001b[1m \u001b[0m\u001b[1mConnected to     \u001b[0m\u001b[1m \u001b[0m┃\n",
       "┡━━━━━━━━━━━━━━━━━━━━━╇━━━━━━━━━━━━━━━━━━━╇━━━━━━━━━━━━╇━━━━━━━━━━━━━━━━━━━┩\n",
       "│ input_layer_1       │ (\u001b[38;5;45mNone\u001b[0m, \u001b[38;5;34m180\u001b[0m, \u001b[38;5;34m180\u001b[0m,  │          \u001b[38;5;34m0\u001b[0m │ -                 │\n",
       "│ (\u001b[38;5;33mInputLayer\u001b[0m)        │ \u001b[38;5;34m3\u001b[0m)                │            │                   │\n",
       "├─────────────────────┼───────────────────┼────────────┼───────────────────┤\n",
       "│ get_item (\u001b[38;5;33mGetItem\u001b[0m)  │ (\u001b[38;5;45mNone\u001b[0m, \u001b[38;5;34m180\u001b[0m, \u001b[38;5;34m180\u001b[0m)  │          \u001b[38;5;34m0\u001b[0m │ input_layer_1[\u001b[38;5;34m0\u001b[0m]… │\n",
       "├─────────────────────┼───────────────────┼────────────┼───────────────────┤\n",
       "│ get_item_1          │ (\u001b[38;5;45mNone\u001b[0m, \u001b[38;5;34m180\u001b[0m, \u001b[38;5;34m180\u001b[0m)  │          \u001b[38;5;34m0\u001b[0m │ input_layer_1[\u001b[38;5;34m0\u001b[0m]… │\n",
       "│ (\u001b[38;5;33mGetItem\u001b[0m)           │                   │            │                   │\n",
       "├─────────────────────┼───────────────────┼────────────┼───────────────────┤\n",
       "│ get_item_2          │ (\u001b[38;5;45mNone\u001b[0m, \u001b[38;5;34m180\u001b[0m, \u001b[38;5;34m180\u001b[0m)  │          \u001b[38;5;34m0\u001b[0m │ input_layer_1[\u001b[38;5;34m0\u001b[0m]… │\n",
       "│ (\u001b[38;5;33mGetItem\u001b[0m)           │                   │            │                   │\n",
       "├─────────────────────┼───────────────────┼────────────┼───────────────────┤\n",
       "│ stack (\u001b[38;5;33mStack\u001b[0m)       │ (\u001b[38;5;45mNone\u001b[0m, \u001b[38;5;34m180\u001b[0m, \u001b[38;5;34m180\u001b[0m,  │          \u001b[38;5;34m0\u001b[0m │ get_item[\u001b[38;5;34m0\u001b[0m][\u001b[38;5;34m0\u001b[0m],   │\n",
       "│                     │ \u001b[38;5;34m3\u001b[0m)                │            │ get_item_1[\u001b[38;5;34m0\u001b[0m][\u001b[38;5;34m0\u001b[0m], │\n",
       "│                     │                   │            │ get_item_2[\u001b[38;5;34m0\u001b[0m][\u001b[38;5;34m0\u001b[0m]  │\n",
       "├─────────────────────┼───────────────────┼────────────┼───────────────────┤\n",
       "│ add (\u001b[38;5;33mAdd\u001b[0m)           │ (\u001b[38;5;45mNone\u001b[0m, \u001b[38;5;34m180\u001b[0m, \u001b[38;5;34m180\u001b[0m,  │          \u001b[38;5;34m0\u001b[0m │ stack[\u001b[38;5;34m0\u001b[0m][\u001b[38;5;34m0\u001b[0m]       │\n",
       "│                     │ \u001b[38;5;34m3\u001b[0m)                │            │                   │\n",
       "├─────────────────────┼───────────────────┼────────────┼───────────────────┤\n",
       "│ vgg16 (\u001b[38;5;33mFunctional\u001b[0m)  │ (\u001b[38;5;45mNone\u001b[0m, \u001b[38;5;34m5\u001b[0m, \u001b[38;5;34m5\u001b[0m, \u001b[38;5;34m512\u001b[0m) │ \u001b[38;5;34m14,714,688\u001b[0m │ add[\u001b[38;5;34m0\u001b[0m][\u001b[38;5;34m0\u001b[0m]         │\n",
       "├─────────────────────┼───────────────────┼────────────┼───────────────────┤\n",
       "│ global_average_poo… │ (\u001b[38;5;45mNone\u001b[0m, \u001b[38;5;34m512\u001b[0m)       │          \u001b[38;5;34m0\u001b[0m │ vgg16[\u001b[38;5;34m0\u001b[0m][\u001b[38;5;34m0\u001b[0m]       │\n",
       "│ (\u001b[38;5;33mGlobalAveragePool…\u001b[0m │                   │            │                   │\n",
       "├─────────────────────┼───────────────────┼────────────┼───────────────────┤\n",
       "│ flatten (\u001b[38;5;33mFlatten\u001b[0m)   │ (\u001b[38;5;45mNone\u001b[0m, \u001b[38;5;34m12800\u001b[0m)     │          \u001b[38;5;34m0\u001b[0m │ vgg16[\u001b[38;5;34m0\u001b[0m][\u001b[38;5;34m0\u001b[0m]       │\n",
       "├─────────────────────┼───────────────────┼────────────┼───────────────────┤\n",
       "│ concatenate         │ (\u001b[38;5;45mNone\u001b[0m, \u001b[38;5;34m13312\u001b[0m)     │          \u001b[38;5;34m0\u001b[0m │ global_average_p… │\n",
       "│ (\u001b[38;5;33mConcatenate\u001b[0m)       │                   │            │ flatten[\u001b[38;5;34m0\u001b[0m][\u001b[38;5;34m0\u001b[0m]     │\n",
       "├─────────────────────┼───────────────────┼────────────┼───────────────────┤\n",
       "│ dense (\u001b[38;5;33mDense\u001b[0m)       │ (\u001b[38;5;45mNone\u001b[0m, \u001b[38;5;34m256\u001b[0m)       │  \u001b[38;5;34m3,408,128\u001b[0m │ concatenate[\u001b[38;5;34m0\u001b[0m][\u001b[38;5;34m0\u001b[0m] │\n",
       "├─────────────────────┼───────────────────┼────────────┼───────────────────┤\n",
       "│ dropout (\u001b[38;5;33mDropout\u001b[0m)   │ (\u001b[38;5;45mNone\u001b[0m, \u001b[38;5;34m256\u001b[0m)       │          \u001b[38;5;34m0\u001b[0m │ dense[\u001b[38;5;34m0\u001b[0m][\u001b[38;5;34m0\u001b[0m]       │\n",
       "├─────────────────────┼───────────────────┼────────────┼───────────────────┤\n",
       "│ dense_1 (\u001b[38;5;33mDense\u001b[0m)     │ (\u001b[38;5;45mNone\u001b[0m, \u001b[38;5;34m4\u001b[0m)         │      \u001b[38;5;34m1,028\u001b[0m │ dropout[\u001b[38;5;34m0\u001b[0m][\u001b[38;5;34m0\u001b[0m]     │\n",
       "└─────────────────────┴───────────────────┴────────────┴───────────────────┘\n"
      ]
     },
     "metadata": {},
     "output_type": "display_data"
    },
    {
     "data": {
      "text/html": [
       "<pre style=\"white-space:pre;overflow-x:auto;line-height:normal;font-family:Menlo,'DejaVu Sans Mono',consolas,'Courier New',monospace\"><span style=\"font-weight: bold\"> Total params: </span><span style=\"color: #00af00; text-decoration-color: #00af00\">18,123,844</span> (69.14 MB)\n",
       "</pre>\n"
      ],
      "text/plain": [
       "\u001b[1m Total params: \u001b[0m\u001b[38;5;34m18,123,844\u001b[0m (69.14 MB)\n"
      ]
     },
     "metadata": {},
     "output_type": "display_data"
    },
    {
     "data": {
      "text/html": [
       "<pre style=\"white-space:pre;overflow-x:auto;line-height:normal;font-family:Menlo,'DejaVu Sans Mono',consolas,'Courier New',monospace\"><span style=\"font-weight: bold\"> Trainable params: </span><span style=\"color: #00af00; text-decoration-color: #00af00\">3,409,156</span> (13.00 MB)\n",
       "</pre>\n"
      ],
      "text/plain": [
       "\u001b[1m Trainable params: \u001b[0m\u001b[38;5;34m3,409,156\u001b[0m (13.00 MB)\n"
      ]
     },
     "metadata": {},
     "output_type": "display_data"
    },
    {
     "data": {
      "text/html": [
       "<pre style=\"white-space:pre;overflow-x:auto;line-height:normal;font-family:Menlo,'DejaVu Sans Mono',consolas,'Courier New',monospace\"><span style=\"font-weight: bold\"> Non-trainable params: </span><span style=\"color: #00af00; text-decoration-color: #00af00\">14,714,688</span> (56.13 MB)\n",
       "</pre>\n"
      ],
      "text/plain": [
       "\u001b[1m Non-trainable params: \u001b[0m\u001b[38;5;34m14,714,688\u001b[0m (56.13 MB)\n"
      ]
     },
     "metadata": {},
     "output_type": "display_data"
    }
   ],
   "source": [
    "num_classes = len(le.classes_)\n",
    "\n",
    "# Load VGG16 pretrained\n",
    "conv_base = keras.applications.VGG16(\n",
    "    weights=\"imagenet\",\n",
    "    include_top=False,\n",
    "    input_shape=(180, 180, 3)\n",
    ")\n",
    "\n",
    "conv_base.trainable = False   # Phase 1: Freeze\n",
    "\n",
    "# Input Layer\n",
    "inputs = keras.Input(shape=(180, 180, 3))\n",
    "x = keras.applications.vgg16.preprocess_input(inputs)\n",
    "\n",
    "# Truyền qua conv_base\n",
    "x = conv_base(x, training=False)\n",
    "\n",
    "# Áp dụng đồng thời GlobalAveragePooling2D và Flatten trên tensor 'x'\n",
    "x1 = layers.GlobalAveragePooling2D()(x)\n",
    "x2 = layers.Flatten()(x)\n",
    "\n",
    "# Kết hợp đặc trưng\n",
    "x = layers.concatenate([x1, x2])\n",
    "\n",
    "# Dense Layer với L2 và Dropout\n",
    "x = layers.Dense(256, activation=\"relu\", kernel_regularizer=regularizers.l2(0.001))(x)\n",
    "x = layers.Dropout(0.5)(x)\n",
    "\n",
    "# Output Layer\n",
    "outputs = layers.Dense(num_classes, activation=\"softmax\")(x)\n",
    "\n",
    "# Build model\n",
    "model = keras.Model(inputs, outputs)\n",
    "\n",
    "# Compile\n",
    "model.compile(\n",
    "    optimizer=keras.optimizers.RMSprop(learning_rate=1e-4),\n",
    "    loss=\"sparse_categorical_crossentropy\",\n",
    "    metrics=[\"accuracy\"]\n",
    ")\n",
    "\n",
    "model.summary()\n"
   ]
  },
  {
   "cell_type": "markdown",
   "metadata": {},
   "source": [
    "## train the model ## "
   ]
  },
  {
   "cell_type": "code",
   "execution_count": 15,
   "metadata": {},
   "outputs": [],
   "source": [
    "early_stop = EarlyStopping(\n",
    "    monitor='val_loss',\n",
    "    patience=5,\n",
    "    restore_best_weights=True,\n",
    "    verbose=1\n",
    ")\n",
    "\n",
    "checkpoint = ModelCheckpoint(\n",
    "    'best_vgg16_phase1.h5',\n",
    "    monitor='val_accuracy',\n",
    "    save_best_only=True,\n",
    "    verbose=1\n",
    ")\n",
    "\n",
    "reduce_lr = ReduceLROnPlateau(\n",
    "    monitor='val_loss',\n",
    "    factor=0.5,\n",
    "    patience=3,\n",
    "    verbose=1\n",
    ")"
   ]
  },
  {
   "cell_type": "code",
   "execution_count": 16,
   "metadata": {},
   "outputs": [
    {
     "name": "stderr",
     "output_type": "stream",
     "text": [
      "/mnt/d/1203_ISEmotalk/tf/lib/python3.12/site-packages/keras/src/trainers/data_adapters/py_dataset_adapter.py:121: UserWarning: Your `PyDataset` class should call `super().__init__(**kwargs)` in its constructor. `**kwargs` can include `workers`, `use_multiprocessing`, `max_queue_size`. Do not pass these arguments to `fit()`, as they will be ignored.\n",
      "  self._warn_if_super_not_called()\n"
     ]
    },
    {
     "name": "stdout",
     "output_type": "stream",
     "text": [
      "Epoch 1/50\n"
     ]
    },
    {
     "name": "stderr",
     "output_type": "stream",
     "text": [
      "WARNING: All log messages before absl::InitializeLog() is called are written to STDERR\n",
      "I0000 00:00:1745670834.295682   21937 service.cc:148] XLA service 0x7fc85400ec60 initialized for platform CUDA (this does not guarantee that XLA will be used). Devices:\n",
      "I0000 00:00:1745670834.297563   21937 service.cc:156]   StreamExecutor device (0): NVIDIA GeForce RTX 4060 Laptop GPU, Compute Capability 8.9\n",
      "2025-04-26 12:33:55.437920: I tensorflow/compiler/mlir/tensorflow/utils/dump_mlir_util.cc:268] disabling MLIR crash reproducer, set env var `MLIR_CRASH_REPRODUCER_DIRECTORY` to enable.\n",
      "I0000 00:00:1745670836.125422   21937 cuda_dnn.cc:529] Loaded cuDNN version 90300\n",
      "2025-04-26 12:33:57.215114: I external/local_xla/xla/stream_executor/cuda/cuda_asm_compiler.cc:397] ptxas warning : Registers are spilled to local memory in function 'gemm_fusion_dot_1158', 48 bytes spill stores, 48 bytes spill loads\n",
      "\n",
      "2025-04-26 12:33:57.220202: I external/local_xla/xla/stream_executor/cuda/cuda_asm_compiler.cc:397] ptxas warning : Registers are spilled to local memory in function 'gemm_fusion_dot_1158', 20 bytes spill stores, 20 bytes spill loads\n",
      "\n",
      "2025-04-26 12:33:57.241996: I external/local_xla/xla/stream_executor/cuda/cuda_asm_compiler.cc:397] ptxas warning : Registers are spilled to local memory in function 'gemm_fusion_dot_1158', 132 bytes spill stores, 136 bytes spill loads\n",
      "\n"
     ]
    },
    {
     "name": "stdout",
     "output_type": "stream",
     "text": [
      "\u001b[1m  1/104\u001b[0m \u001b[37m━━━━━━━━━━━━━━━━━━━━\u001b[0m \u001b[1m29:11\u001b[0m 17s/step - accuracy: 0.2812 - loss: 3.6589"
     ]
    },
    {
     "name": "stderr",
     "output_type": "stream",
     "text": [
      "I0000 00:00:1745670848.344653   21937 device_compiler.h:188] Compiled cluster using XLA!  This line is logged at most once for the lifetime of the process.\n"
     ]
    },
    {
     "name": "stdout",
     "output_type": "stream",
     "text": [
      "\u001b[1m104/104\u001b[0m \u001b[32m━━━━━━━━━━━━━━━━━━━━\u001b[0m\u001b[37m\u001b[0m \u001b[1m0s\u001b[0m 1s/step - accuracy: 0.2650 - loss: 2.4243"
     ]
    },
    {
     "name": "stderr",
     "output_type": "stream",
     "text": [
      "/mnt/d/1203_ISEmotalk/tf/lib/python3.12/site-packages/keras/src/trainers/data_adapters/py_dataset_adapter.py:121: UserWarning: Your `PyDataset` class should call `super().__init__(**kwargs)` in its constructor. `**kwargs` can include `workers`, `use_multiprocessing`, `max_queue_size`. Do not pass these arguments to `fit()`, as they will be ignored.\n",
      "  self._warn_if_super_not_called()\n"
     ]
    },
    {
     "name": "stdout",
     "output_type": "stream",
     "text": [
      "\n",
      "Epoch 1: val_accuracy improved from -inf to 0.30889, saving model to best_vgg16_phase1.h5\n"
     ]
    },
    {
     "name": "stderr",
     "output_type": "stream",
     "text": [
      "WARNING:absl:You are saving your model as an HDF5 file via `model.save()` or `keras.saving.save_model(model)`. This file format is considered legacy. We recommend using instead the native Keras format, e.g. `model.save('my_model.keras')` or `keras.saving.save_model(model, 'my_model.keras')`. \n"
     ]
    },
    {
     "name": "stdout",
     "output_type": "stream",
     "text": [
      "\u001b[1m104/104\u001b[0m \u001b[32m━━━━━━━━━━━━━━━━━━━━\u001b[0m\u001b[37m\u001b[0m \u001b[1m161s\u001b[0m 1s/step - accuracy: 0.2651 - loss: 2.4214 - val_accuracy: 0.3089 - val_loss: 1.7908 - learning_rate: 1.0000e-04\n",
      "Epoch 2/50\n",
      "\u001b[1m104/104\u001b[0m \u001b[32m━━━━━━━━━━━━━━━━━━━━\u001b[0m\u001b[37m\u001b[0m \u001b[1m0s\u001b[0m 1s/step - accuracy: 0.3406 - loss: 1.7731\n",
      "Epoch 2: val_accuracy improved from 0.30889 to 0.42428, saving model to best_vgg16_phase1.h5\n"
     ]
    },
    {
     "name": "stderr",
     "output_type": "stream",
     "text": [
      "WARNING:absl:You are saving your model as an HDF5 file via `model.save()` or `keras.saving.save_model(model)`. This file format is considered legacy. We recommend using instead the native Keras format, e.g. `model.save('my_model.keras')` or `keras.saving.save_model(model, 'my_model.keras')`. \n"
     ]
    },
    {
     "name": "stdout",
     "output_type": "stream",
     "text": [
      "\u001b[1m104/104\u001b[0m \u001b[32m━━━━━━━━━━━━━━━━━━━━\u001b[0m\u001b[37m\u001b[0m \u001b[1m138s\u001b[0m 1s/step - accuracy: 0.3405 - loss: 1.7729 - val_accuracy: 0.4243 - val_loss: 1.6988 - learning_rate: 1.0000e-04\n",
      "Epoch 3/50\n",
      "\u001b[1m104/104\u001b[0m \u001b[32m━━━━━━━━━━━━━━━━━━━━\u001b[0m\u001b[37m\u001b[0m \u001b[1m0s\u001b[0m 1s/step - accuracy: 0.3632 - loss: 1.6990 \n",
      "Epoch 3: val_accuracy did not improve from 0.42428\n",
      "\u001b[1m104/104\u001b[0m \u001b[32m━━━━━━━━━━━━━━━━━━━━\u001b[0m\u001b[37m\u001b[0m \u001b[1m134s\u001b[0m 1s/step - accuracy: 0.3633 - loss: 1.6988 - val_accuracy: 0.4038 - val_loss: 1.6281 - learning_rate: 1.0000e-04\n",
      "Epoch 4/50\n",
      "\u001b[1m104/104\u001b[0m \u001b[32m━━━━━━━━━━━━━━━━━━━━\u001b[0m\u001b[37m\u001b[0m \u001b[1m0s\u001b[0m 952ms/step - accuracy: 0.3655 - loss: 1.6333\n",
      "Epoch 4: val_accuracy did not improve from 0.42428\n",
      "\u001b[1m104/104\u001b[0m \u001b[32m━━━━━━━━━━━━━━━━━━━━\u001b[0m\u001b[37m\u001b[0m \u001b[1m124s\u001b[0m 1s/step - accuracy: 0.3656 - loss: 1.6331 - val_accuracy: 0.3702 - val_loss: 1.5975 - learning_rate: 1.0000e-04\n",
      "Epoch 5/50\n",
      "\u001b[1m104/104\u001b[0m \u001b[32m━━━━━━━━━━━━━━━━━━━━\u001b[0m\u001b[37m\u001b[0m \u001b[1m0s\u001b[0m 1s/step - accuracy: 0.3803 - loss: 1.5808\n",
      "Epoch 5: val_accuracy improved from 0.42428 to 0.44712, saving model to best_vgg16_phase1.h5\n"
     ]
    },
    {
     "name": "stderr",
     "output_type": "stream",
     "text": [
      "WARNING:absl:You are saving your model as an HDF5 file via `model.save()` or `keras.saving.save_model(model)`. This file format is considered legacy. We recommend using instead the native Keras format, e.g. `model.save('my_model.keras')` or `keras.saving.save_model(model, 'my_model.keras')`. \n"
     ]
    },
    {
     "name": "stdout",
     "output_type": "stream",
     "text": [
      "\u001b[1m104/104\u001b[0m \u001b[32m━━━━━━━━━━━━━━━━━━━━\u001b[0m\u001b[37m\u001b[0m \u001b[1m142s\u001b[0m 1s/step - accuracy: 0.3804 - loss: 1.5806 - val_accuracy: 0.4471 - val_loss: 1.5154 - learning_rate: 1.0000e-04\n",
      "Epoch 6/50\n",
      "\u001b[1m104/104\u001b[0m \u001b[32m━━━━━━━━━━━━━━━━━━━━\u001b[0m\u001b[37m\u001b[0m \u001b[1m0s\u001b[0m 868ms/step - accuracy: 0.4093 - loss: 1.5042\n",
      "Epoch 6: val_accuracy did not improve from 0.44712\n",
      "\u001b[1m104/104\u001b[0m \u001b[32m━━━━━━━━━━━━━━━━━━━━\u001b[0m\u001b[37m\u001b[0m \u001b[1m112s\u001b[0m 1s/step - accuracy: 0.4091 - loss: 1.5042 - val_accuracy: 0.4339 - val_loss: 1.4689 - learning_rate: 1.0000e-04\n",
      "Epoch 7/50\n",
      "\u001b[1m104/104\u001b[0m \u001b[32m━━━━━━━━━━━━━━━━━━━━\u001b[0m\u001b[37m\u001b[0m \u001b[1m0s\u001b[0m 814ms/step - accuracy: 0.4147 - loss: 1.4794\n",
      "Epoch 7: val_accuracy did not improve from 0.44712\n",
      "\u001b[1m104/104\u001b[0m \u001b[32m━━━━━━━━━━━━━━━━━━━━\u001b[0m\u001b[37m\u001b[0m \u001b[1m115s\u001b[0m 1s/step - accuracy: 0.4147 - loss: 1.4793 - val_accuracy: 0.4147 - val_loss: 1.4572 - learning_rate: 1.0000e-04\n",
      "Epoch 8/50\n",
      "\u001b[1m104/104\u001b[0m \u001b[32m━━━━━━━━━━━━━━━━━━━━\u001b[0m\u001b[37m\u001b[0m \u001b[1m0s\u001b[0m 882ms/step - accuracy: 0.3999 - loss: 1.4449\n",
      "Epoch 8: val_accuracy did not improve from 0.44712\n",
      "\u001b[1m104/104\u001b[0m \u001b[32m━━━━━━━━━━━━━━━━━━━━\u001b[0m\u001b[37m\u001b[0m \u001b[1m117s\u001b[0m 1s/step - accuracy: 0.4000 - loss: 1.4448 - val_accuracy: 0.4351 - val_loss: 1.4151 - learning_rate: 1.0000e-04\n",
      "Epoch 9/50\n",
      "\u001b[1m104/104\u001b[0m \u001b[32m━━━━━━━━━━━━━━━━━━━━\u001b[0m\u001b[37m\u001b[0m \u001b[1m0s\u001b[0m 768ms/step - accuracy: 0.4059 - loss: 1.4239\n",
      "Epoch 9: val_accuracy improved from 0.44712 to 0.46635, saving model to best_vgg16_phase1.h5\n"
     ]
    },
    {
     "name": "stderr",
     "output_type": "stream",
     "text": [
      "WARNING:absl:You are saving your model as an HDF5 file via `model.save()` or `keras.saving.save_model(model)`. This file format is considered legacy. We recommend using instead the native Keras format, e.g. `model.save('my_model.keras')` or `keras.saving.save_model(model, 'my_model.keras')`. \n"
     ]
    },
    {
     "name": "stdout",
     "output_type": "stream",
     "text": [
      "\u001b[1m104/104\u001b[0m \u001b[32m━━━━━━━━━━━━━━━━━━━━\u001b[0m\u001b[37m\u001b[0m \u001b[1m103s\u001b[0m 992ms/step - accuracy: 0.4059 - loss: 1.4238 - val_accuracy: 0.4663 - val_loss: 1.3758 - learning_rate: 1.0000e-04\n",
      "Epoch 10/50\n",
      "\u001b[1m104/104\u001b[0m \u001b[32m━━━━━━━━━━━━━━━━━━━━\u001b[0m\u001b[37m\u001b[0m \u001b[1m0s\u001b[0m 691ms/step - accuracy: 0.4257 - loss: 1.3764\n",
      "Epoch 10: val_accuracy did not improve from 0.46635\n",
      "\u001b[1m104/104\u001b[0m \u001b[32m━━━━━━━━━━━━━━━━━━━━\u001b[0m\u001b[37m\u001b[0m \u001b[1m91s\u001b[0m 876ms/step - accuracy: 0.4256 - loss: 1.3764 - val_accuracy: 0.4435 - val_loss: 1.3486 - learning_rate: 1.0000e-04\n",
      "Epoch 11/50\n",
      "\u001b[1m104/104\u001b[0m \u001b[32m━━━━━━━━━━━━━━━━━━━━\u001b[0m\u001b[37m\u001b[0m \u001b[1m0s\u001b[0m 705ms/step - accuracy: 0.4366 - loss: 1.3542\n",
      "Epoch 11: val_accuracy did not improve from 0.46635\n",
      "\u001b[1m104/104\u001b[0m \u001b[32m━━━━━━━━━━━━━━━━━━━━\u001b[0m\u001b[37m\u001b[0m \u001b[1m90s\u001b[0m 863ms/step - accuracy: 0.4365 - loss: 1.3542 - val_accuracy: 0.4375 - val_loss: 1.3322 - learning_rate: 1.0000e-04\n",
      "Epoch 12/50\n",
      "\u001b[1m104/104\u001b[0m \u001b[32m━━━━━━━━━━━━━━━━━━━━\u001b[0m\u001b[37m\u001b[0m \u001b[1m0s\u001b[0m 59s/step - accuracy: 0.4460 - loss: 1.3284 \n",
      "Epoch 12: val_accuracy did not improve from 0.46635\n",
      "\u001b[1m104/104\u001b[0m \u001b[32m━━━━━━━━━━━━━━━━━━━━\u001b[0m\u001b[37m\u001b[0m \u001b[1m6088s\u001b[0m 59s/step - accuracy: 0.4460 - loss: 1.3284 - val_accuracy: 0.4555 - val_loss: 1.2983 - learning_rate: 1.0000e-04\n",
      "Epoch 13/50\n",
      "\u001b[1m104/104\u001b[0m \u001b[32m━━━━━━━━━━━━━━━━━━━━\u001b[0m\u001b[37m\u001b[0m \u001b[1m0s\u001b[0m 947ms/step - accuracy: 0.4504 - loss: 1.3000\n",
      "Epoch 13: val_accuracy did not improve from 0.46635\n",
      "\u001b[1m104/104\u001b[0m \u001b[32m━━━━━━━━━━━━━━━━━━━━\u001b[0m\u001b[37m\u001b[0m \u001b[1m124s\u001b[0m 1s/step - accuracy: 0.4504 - loss: 1.3001 - val_accuracy: 0.4195 - val_loss: 1.3101 - learning_rate: 1.0000e-04\n",
      "Epoch 14/50\n",
      "\u001b[1m104/104\u001b[0m \u001b[32m━━━━━━━━━━━━━━━━━━━━\u001b[0m\u001b[37m\u001b[0m \u001b[1m0s\u001b[0m 934ms/step - accuracy: 0.4410 - loss: 1.3064\n",
      "Epoch 14: val_accuracy did not improve from 0.46635\n",
      "\u001b[1m104/104\u001b[0m \u001b[32m━━━━━━━━━━━━━━━━━━━━\u001b[0m\u001b[37m\u001b[0m \u001b[1m127s\u001b[0m 1s/step - accuracy: 0.4410 - loss: 1.3063 - val_accuracy: 0.4471 - val_loss: 1.2675 - learning_rate: 1.0000e-04\n",
      "Epoch 15/50\n",
      "\u001b[1m104/104\u001b[0m \u001b[32m━━━━━━━━━━━━━━━━━━━━\u001b[0m\u001b[37m\u001b[0m \u001b[1m0s\u001b[0m 962ms/step - accuracy: 0.4464 - loss: 1.2800\n",
      "Epoch 15: val_accuracy did not improve from 0.46635\n",
      "\u001b[1m104/104\u001b[0m \u001b[32m━━━━━━━━━━━━━━━━━━━━\u001b[0m\u001b[37m\u001b[0m \u001b[1m129s\u001b[0m 1s/step - accuracy: 0.4463 - loss: 1.2800 - val_accuracy: 0.4531 - val_loss: 1.2588 - learning_rate: 1.0000e-04\n",
      "Epoch 16/50\n",
      "\u001b[1m104/104\u001b[0m \u001b[32m━━━━━━━━━━━━━━━━━━━━\u001b[0m\u001b[37m\u001b[0m \u001b[1m0s\u001b[0m 993ms/step - accuracy: 0.4362 - loss: 1.2758\n",
      "Epoch 16: val_accuracy did not improve from 0.46635\n",
      "\u001b[1m104/104\u001b[0m \u001b[32m━━━━━━━━━━━━━━━━━━━━\u001b[0m\u001b[37m\u001b[0m \u001b[1m131s\u001b[0m 1s/step - accuracy: 0.4362 - loss: 1.2758 - val_accuracy: 0.4471 - val_loss: 1.2492 - learning_rate: 1.0000e-04\n",
      "Epoch 17/50\n",
      "\u001b[1m104/104\u001b[0m \u001b[32m━━━━━━━━━━━━━━━━━━━━\u001b[0m\u001b[37m\u001b[0m \u001b[1m0s\u001b[0m 796ms/step - accuracy: 0.4409 - loss: 1.2683\n",
      "Epoch 17: val_accuracy did not improve from 0.46635\n",
      "\u001b[1m104/104\u001b[0m \u001b[32m━━━━━━━━━━━━━━━━━━━━\u001b[0m\u001b[37m\u001b[0m \u001b[1m104s\u001b[0m 1s/step - accuracy: 0.4409 - loss: 1.2683 - val_accuracy: 0.4591 - val_loss: 1.2310 - learning_rate: 1.0000e-04\n",
      "Epoch 18/50\n",
      "\u001b[1m104/104\u001b[0m \u001b[32m━━━━━━━━━━━━━━━━━━━━\u001b[0m\u001b[37m\u001b[0m \u001b[1m0s\u001b[0m 705ms/step - accuracy: 0.4637 - loss: 1.2383\n",
      "Epoch 18: val_accuracy improved from 0.46635 to 0.48317, saving model to best_vgg16_phase1.h5\n"
     ]
    },
    {
     "name": "stderr",
     "output_type": "stream",
     "text": [
      "WARNING:absl:You are saving your model as an HDF5 file via `model.save()` or `keras.saving.save_model(model)`. This file format is considered legacy. We recommend using instead the native Keras format, e.g. `model.save('my_model.keras')` or `keras.saving.save_model(model, 'my_model.keras')`. \n"
     ]
    },
    {
     "name": "stdout",
     "output_type": "stream",
     "text": [
      "\u001b[1m104/104\u001b[0m \u001b[32m━━━━━━━━━━━━━━━━━━━━\u001b[0m\u001b[37m\u001b[0m \u001b[1m92s\u001b[0m 888ms/step - accuracy: 0.4636 - loss: 1.2384 - val_accuracy: 0.4832 - val_loss: 1.2262 - learning_rate: 1.0000e-04\n",
      "Epoch 19/50\n",
      "\u001b[1m104/104\u001b[0m \u001b[32m━━━━━━━━━━━━━━━━━━━━\u001b[0m\u001b[37m\u001b[0m \u001b[1m0s\u001b[0m 858ms/step - accuracy: 0.4479 - loss: 1.2356\n",
      "Epoch 19: val_accuracy did not improve from 0.48317\n",
      "\u001b[1m104/104\u001b[0m \u001b[32m━━━━━━━━━━━━━━━━━━━━\u001b[0m\u001b[37m\u001b[0m \u001b[1m110s\u001b[0m 1s/step - accuracy: 0.4479 - loss: 1.2356 - val_accuracy: 0.4808 - val_loss: 1.2091 - learning_rate: 1.0000e-04\n",
      "Epoch 20/50\n",
      "\u001b[1m104/104\u001b[0m \u001b[32m━━━━━━━━━━━━━━━━━━━━\u001b[0m\u001b[37m\u001b[0m \u001b[1m0s\u001b[0m 970ms/step - accuracy: 0.4467 - loss: 1.2461\n",
      "Epoch 20: val_accuracy did not improve from 0.48317\n",
      "\u001b[1m104/104\u001b[0m \u001b[32m━━━━━━━━━━━━━━━━━━━━\u001b[0m\u001b[37m\u001b[0m \u001b[1m124s\u001b[0m 1s/step - accuracy: 0.4468 - loss: 1.2459 - val_accuracy: 0.4471 - val_loss: 1.2081 - learning_rate: 1.0000e-04\n",
      "Epoch 21/50\n",
      "\u001b[1m104/104\u001b[0m \u001b[32m━━━━━━━━━━━━━━━━━━━━\u001b[0m\u001b[37m\u001b[0m \u001b[1m0s\u001b[0m 546ms/step - accuracy: 0.4528 - loss: 1.2202\n",
      "Epoch 21: val_accuracy did not improve from 0.48317\n",
      "\u001b[1m104/104\u001b[0m \u001b[32m━━━━━━━━━━━━━━━━━━━━\u001b[0m\u001b[37m\u001b[0m \u001b[1m94s\u001b[0m 704ms/step - accuracy: 0.4528 - loss: 1.2202 - val_accuracy: 0.4555 - val_loss: 1.1904 - learning_rate: 1.0000e-04\n",
      "Epoch 22/50\n",
      "\u001b[1m104/104\u001b[0m \u001b[32m━━━━━━━━━━━━━━━━━━━━\u001b[0m\u001b[37m\u001b[0m \u001b[1m0s\u001b[0m 548ms/step - accuracy: 0.4399 - loss: 1.2269\n",
      "Epoch 22: val_accuracy improved from 0.48317 to 0.48438, saving model to best_vgg16_phase1.h5\n"
     ]
    },
    {
     "name": "stderr",
     "output_type": "stream",
     "text": [
      "WARNING:absl:You are saving your model as an HDF5 file via `model.save()` or `keras.saving.save_model(model)`. This file format is considered legacy. We recommend using instead the native Keras format, e.g. `model.save('my_model.keras')` or `keras.saving.save_model(model, 'my_model.keras')`. \n"
     ]
    },
    {
     "name": "stdout",
     "output_type": "stream",
     "text": [
      "\u001b[1m104/104\u001b[0m \u001b[32m━━━━━━━━━━━━━━━━━━━━\u001b[0m\u001b[37m\u001b[0m \u001b[1m76s\u001b[0m 731ms/step - accuracy: 0.4399 - loss: 1.2268 - val_accuracy: 0.4844 - val_loss: 1.1811 - learning_rate: 1.0000e-04\n",
      "Epoch 23/50\n",
      "\u001b[1m104/104\u001b[0m \u001b[32m━━━━━━━━━━━━━━━━━━━━\u001b[0m\u001b[37m\u001b[0m \u001b[1m0s\u001b[0m 653ms/step - accuracy: 0.4508 - loss: 1.2164\n",
      "Epoch 23: val_accuracy did not improve from 0.48438\n",
      "\u001b[1m104/104\u001b[0m \u001b[32m━━━━━━━━━━━━━━━━━━━━\u001b[0m\u001b[37m\u001b[0m \u001b[1m84s\u001b[0m 804ms/step - accuracy: 0.4508 - loss: 1.2164 - val_accuracy: 0.4832 - val_loss: 1.1793 - learning_rate: 1.0000e-04\n",
      "Epoch 24/50\n",
      "\u001b[1m104/104\u001b[0m \u001b[32m━━━━━━━━━━━━━━━━━━━━\u001b[0m\u001b[37m\u001b[0m \u001b[1m0s\u001b[0m 675ms/step - accuracy: 0.4539 - loss: 1.2040\n",
      "Epoch 24: val_accuracy did not improve from 0.48438\n",
      "\u001b[1m104/104\u001b[0m \u001b[32m━━━━━━━━━━━━━━━━━━━━\u001b[0m\u001b[37m\u001b[0m \u001b[1m91s\u001b[0m 874ms/step - accuracy: 0.4540 - loss: 1.2040 - val_accuracy: 0.4712 - val_loss: 1.1801 - learning_rate: 1.0000e-04\n",
      "Epoch 25/50\n",
      "\u001b[1m104/104\u001b[0m \u001b[32m━━━━━━━━━━━━━━━━━━━━\u001b[0m\u001b[37m\u001b[0m \u001b[1m0s\u001b[0m 646ms/step - accuracy: 0.4529 - loss: 1.2013\n",
      "Epoch 25: val_accuracy did not improve from 0.48438\n",
      "\u001b[1m104/104\u001b[0m \u001b[32m━━━━━━━━━━━━━━━━━━━━\u001b[0m\u001b[37m\u001b[0m \u001b[1m82s\u001b[0m 784ms/step - accuracy: 0.4529 - loss: 1.2013 - val_accuracy: 0.4796 - val_loss: 1.1705 - learning_rate: 1.0000e-04\n",
      "Epoch 26/50\n",
      "\u001b[1m104/104\u001b[0m \u001b[32m━━━━━━━━━━━━━━━━━━━━\u001b[0m\u001b[37m\u001b[0m \u001b[1m0s\u001b[0m 628ms/step - accuracy: 0.4712 - loss: 1.1814\n",
      "Epoch 26: val_accuracy improved from 0.48438 to 0.50120, saving model to best_vgg16_phase1.h5\n"
     ]
    },
    {
     "name": "stderr",
     "output_type": "stream",
     "text": [
      "WARNING:absl:You are saving your model as an HDF5 file via `model.save()` or `keras.saving.save_model(model)`. This file format is considered legacy. We recommend using instead the native Keras format, e.g. `model.save('my_model.keras')` or `keras.saving.save_model(model, 'my_model.keras')`. \n"
     ]
    },
    {
     "name": "stdout",
     "output_type": "stream",
     "text": [
      "\u001b[1m104/104\u001b[0m \u001b[32m━━━━━━━━━━━━━━━━━━━━\u001b[0m\u001b[37m\u001b[0m \u001b[1m80s\u001b[0m 767ms/step - accuracy: 0.4712 - loss: 1.1814 - val_accuracy: 0.5012 - val_loss: 1.1577 - learning_rate: 1.0000e-04\n",
      "Epoch 27/50\n",
      "\u001b[1m104/104\u001b[0m \u001b[32m━━━━━━━━━━━━━━━━━━━━\u001b[0m\u001b[37m\u001b[0m \u001b[1m0s\u001b[0m 628ms/step - accuracy: 0.4775 - loss: 1.1740\n",
      "Epoch 27: val_accuracy did not improve from 0.50120\n",
      "\u001b[1m104/104\u001b[0m \u001b[32m━━━━━━━━━━━━━━━━━━━━\u001b[0m\u001b[37m\u001b[0m \u001b[1m92s\u001b[0m 884ms/step - accuracy: 0.4774 - loss: 1.1741 - val_accuracy: 0.4784 - val_loss: 1.1526 - learning_rate: 1.0000e-04\n",
      "Epoch 28/50\n",
      "\u001b[1m104/104\u001b[0m \u001b[32m━━━━━━━━━━━━━━━━━━━━\u001b[0m\u001b[37m\u001b[0m \u001b[1m0s\u001b[0m 772ms/step - accuracy: 0.4646 - loss: 1.1753\n",
      "Epoch 28: val_accuracy did not improve from 0.50120\n",
      "\u001b[1m104/104\u001b[0m \u001b[32m━━━━━━━━━━━━━━━━━━━━\u001b[0m\u001b[37m\u001b[0m \u001b[1m103s\u001b[0m 986ms/step - accuracy: 0.4646 - loss: 1.1754 - val_accuracy: 0.4808 - val_loss: 1.1586 - learning_rate: 1.0000e-04\n",
      "Epoch 29/50\n",
      "\u001b[1m104/104\u001b[0m \u001b[32m━━━━━━━━━━━━━━━━━━━━\u001b[0m\u001b[37m\u001b[0m \u001b[1m0s\u001b[0m 772ms/step - accuracy: 0.4674 - loss: 1.1872\n",
      "Epoch 29: val_accuracy did not improve from 0.50120\n",
      "\u001b[1m104/104\u001b[0m \u001b[32m━━━━━━━━━━━━━━━━━━━━\u001b[0m\u001b[37m\u001b[0m \u001b[1m102s\u001b[0m 980ms/step - accuracy: 0.4674 - loss: 1.1872 - val_accuracy: 0.4976 - val_loss: 1.1489 - learning_rate: 1.0000e-04\n",
      "Epoch 30/50\n",
      "\u001b[1m104/104\u001b[0m \u001b[32m━━━━━━━━━━━━━━━━━━━━\u001b[0m\u001b[37m\u001b[0m \u001b[1m0s\u001b[0m 648ms/step - accuracy: 0.4525 - loss: 1.1843\n",
      "Epoch 30: val_accuracy did not improve from 0.50120\n",
      "\u001b[1m104/104\u001b[0m \u001b[32m━━━━━━━━━━━━━━━━━━━━\u001b[0m\u001b[37m\u001b[0m \u001b[1m82s\u001b[0m 781ms/step - accuracy: 0.4525 - loss: 1.1843 - val_accuracy: 0.4639 - val_loss: 1.1634 - learning_rate: 1.0000e-04\n",
      "Epoch 31/50\n",
      "\u001b[1m104/104\u001b[0m \u001b[32m━━━━━━━━━━━━━━━━━━━━\u001b[0m\u001b[37m\u001b[0m \u001b[1m0s\u001b[0m 871ms/step - accuracy: 0.4623 - loss: 1.1725\n",
      "Epoch 31: val_accuracy did not improve from 0.50120\n",
      "\u001b[1m104/104\u001b[0m \u001b[32m━━━━━━━━━━━━━━━━━━━━\u001b[0m\u001b[37m\u001b[0m \u001b[1m111s\u001b[0m 1s/step - accuracy: 0.4623 - loss: 1.1725 - val_accuracy: 0.4832 - val_loss: 1.1407 - learning_rate: 1.0000e-04\n",
      "Epoch 32/50\n",
      "\u001b[1m104/104\u001b[0m \u001b[32m━━━━━━━━━━━━━━━━━━━━\u001b[0m\u001b[37m\u001b[0m \u001b[1m0s\u001b[0m 786ms/step - accuracy: 0.4586 - loss: 1.1721\n",
      "Epoch 32: val_accuracy did not improve from 0.50120\n",
      "\u001b[1m104/104\u001b[0m \u001b[32m━━━━━━━━━━━━━━━━━━━━\u001b[0m\u001b[37m\u001b[0m \u001b[1m103s\u001b[0m 989ms/step - accuracy: 0.4586 - loss: 1.1721 - val_accuracy: 0.4928 - val_loss: 1.1360 - learning_rate: 1.0000e-04\n",
      "Epoch 33/50\n",
      "\u001b[1m104/104\u001b[0m \u001b[32m━━━━━━━━━━━━━━━━━━━━\u001b[0m\u001b[37m\u001b[0m \u001b[1m0s\u001b[0m 562ms/step - accuracy: 0.4557 - loss: 1.1747\n",
      "Epoch 33: val_accuracy did not improve from 0.50120\n",
      "\u001b[1m104/104\u001b[0m \u001b[32m━━━━━━━━━━━━━━━━━━━━\u001b[0m\u001b[37m\u001b[0m \u001b[1m72s\u001b[0m 695ms/step - accuracy: 0.4557 - loss: 1.1747 - val_accuracy: 0.4688 - val_loss: 1.1468 - learning_rate: 1.0000e-04\n",
      "Epoch 34/50\n",
      "\u001b[1m104/104\u001b[0m \u001b[32m━━━━━━━━━━━━━━━━━━━━\u001b[0m\u001b[37m\u001b[0m \u001b[1m0s\u001b[0m 565ms/step - accuracy: 0.4663 - loss: 1.1610\n",
      "Epoch 34: val_accuracy did not improve from 0.50120\n",
      "\u001b[1m104/104\u001b[0m \u001b[32m━━━━━━━━━━━━━━━━━━━━\u001b[0m\u001b[37m\u001b[0m \u001b[1m72s\u001b[0m 692ms/step - accuracy: 0.4663 - loss: 1.1611 - val_accuracy: 0.4772 - val_loss: 1.1371 - learning_rate: 1.0000e-04\n",
      "Epoch 35/50\n",
      "\u001b[1m104/104\u001b[0m \u001b[32m━━━━━━━━━━━━━━━━━━━━\u001b[0m\u001b[37m\u001b[0m \u001b[1m0s\u001b[0m 620ms/step - accuracy: 0.4673 - loss: 1.1679\n",
      "Epoch 35: val_accuracy did not improve from 0.50120\n",
      "\n",
      "Epoch 35: ReduceLROnPlateau reducing learning rate to 4.999999873689376e-05.\n",
      "\u001b[1m104/104\u001b[0m \u001b[32m━━━━━━━━━━━━━━━━━━━━\u001b[0m\u001b[37m\u001b[0m \u001b[1m85s\u001b[0m 819ms/step - accuracy: 0.4672 - loss: 1.1680 - val_accuracy: 0.4880 - val_loss: 1.1388 - learning_rate: 1.0000e-04\n",
      "Epoch 36/50\n",
      "\u001b[1m104/104\u001b[0m \u001b[32m━━━━━━━━━━━━━━━━━━━━\u001b[0m\u001b[37m\u001b[0m \u001b[1m0s\u001b[0m 556ms/step - accuracy: 0.4819 - loss: 1.1606\n",
      "Epoch 36: val_accuracy improved from 0.50120 to 0.50240, saving model to best_vgg16_phase1.h5\n"
     ]
    },
    {
     "name": "stderr",
     "output_type": "stream",
     "text": [
      "WARNING:absl:You are saving your model as an HDF5 file via `model.save()` or `keras.saving.save_model(model)`. This file format is considered legacy. We recommend using instead the native Keras format, e.g. `model.save('my_model.keras')` or `keras.saving.save_model(model, 'my_model.keras')`. \n"
     ]
    },
    {
     "name": "stdout",
     "output_type": "stream",
     "text": [
      "\u001b[1m104/104\u001b[0m \u001b[32m━━━━━━━━━━━━━━━━━━━━\u001b[0m\u001b[37m\u001b[0m \u001b[1m79s\u001b[0m 761ms/step - accuracy: 0.4819 - loss: 1.1606 - val_accuracy: 0.5024 - val_loss: 1.1237 - learning_rate: 5.0000e-05\n",
      "Epoch 37/50\n",
      "\u001b[1m104/104\u001b[0m \u001b[32m━━━━━━━━━━━━━━━━━━━━\u001b[0m\u001b[37m\u001b[0m \u001b[1m0s\u001b[0m 622ms/step - accuracy: 0.4773 - loss: 1.1690\n",
      "Epoch 37: val_accuracy did not improve from 0.50240\n",
      "\u001b[1m104/104\u001b[0m \u001b[32m━━━━━━━━━━━━━━━━━━━━\u001b[0m\u001b[37m\u001b[0m \u001b[1m83s\u001b[0m 799ms/step - accuracy: 0.4773 - loss: 1.1690 - val_accuracy: 0.4796 - val_loss: 1.1263 - learning_rate: 5.0000e-05\n",
      "Epoch 38/50\n",
      "\u001b[1m104/104\u001b[0m \u001b[32m━━━━━━━━━━━━━━━━━━━━\u001b[0m\u001b[37m\u001b[0m \u001b[1m0s\u001b[0m 824ms/step - accuracy: 0.4653 - loss: 1.1637\n",
      "Epoch 38: val_accuracy did not improve from 0.50240\n",
      "\u001b[1m104/104\u001b[0m \u001b[32m━━━━━━━━━━━━━━━━━━━━\u001b[0m\u001b[37m\u001b[0m \u001b[1m114s\u001b[0m 1s/step - accuracy: 0.4655 - loss: 1.1636 - val_accuracy: 0.4904 - val_loss: 1.1213 - learning_rate: 5.0000e-05\n",
      "Epoch 39/50\n",
      "\u001b[1m104/104\u001b[0m \u001b[32m━━━━━━━━━━━━━━━━━━━━\u001b[0m\u001b[37m\u001b[0m \u001b[1m0s\u001b[0m 832ms/step - accuracy: 0.4803 - loss: 1.1377\n",
      "Epoch 39: val_accuracy did not improve from 0.50240\n",
      "\u001b[1m104/104\u001b[0m \u001b[32m━━━━━━━━━━━━━━━━━━━━\u001b[0m\u001b[37m\u001b[0m \u001b[1m108s\u001b[0m 1s/step - accuracy: 0.4802 - loss: 1.1378 - val_accuracy: 0.4724 - val_loss: 1.1342 - learning_rate: 5.0000e-05\n",
      "Epoch 40/50\n",
      "\u001b[1m104/104\u001b[0m \u001b[32m━━━━━━━━━━━━━━━━━━━━\u001b[0m\u001b[37m\u001b[0m \u001b[1m0s\u001b[0m 576ms/step - accuracy: 0.4661 - loss: 1.1607\n",
      "Epoch 40: val_accuracy improved from 0.50240 to 0.50962, saving model to best_vgg16_phase1.h5\n"
     ]
    },
    {
     "name": "stderr",
     "output_type": "stream",
     "text": [
      "WARNING:absl:You are saving your model as an HDF5 file via `model.save()` or `keras.saving.save_model(model)`. This file format is considered legacy. We recommend using instead the native Keras format, e.g. `model.save('my_model.keras')` or `keras.saving.save_model(model, 'my_model.keras')`. \n"
     ]
    },
    {
     "name": "stdout",
     "output_type": "stream",
     "text": [
      "\u001b[1m104/104\u001b[0m \u001b[32m━━━━━━━━━━━━━━━━━━━━\u001b[0m\u001b[37m\u001b[0m \u001b[1m79s\u001b[0m 759ms/step - accuracy: 0.4661 - loss: 1.1606 - val_accuracy: 0.5096 - val_loss: 1.1200 - learning_rate: 5.0000e-05\n",
      "Epoch 41/50\n",
      "\u001b[1m104/104\u001b[0m \u001b[32m━━━━━━━━━━━━━━━━━━━━\u001b[0m\u001b[37m\u001b[0m \u001b[1m0s\u001b[0m 811ms/step - accuracy: 0.4604 - loss: 1.1759\n",
      "Epoch 41: val_accuracy did not improve from 0.50962\n",
      "\u001b[1m104/104\u001b[0m \u001b[32m━━━━━━━━━━━━━━━━━━━━\u001b[0m\u001b[37m\u001b[0m \u001b[1m109s\u001b[0m 1s/step - accuracy: 0.4605 - loss: 1.1757 - val_accuracy: 0.4952 - val_loss: 1.1128 - learning_rate: 5.0000e-05\n",
      "Epoch 42/50\n",
      "\u001b[1m104/104\u001b[0m \u001b[32m━━━━━━━━━━━━━━━━━━━━\u001b[0m\u001b[37m\u001b[0m \u001b[1m0s\u001b[0m 793ms/step - accuracy: 0.4818 - loss: 1.1376\n",
      "Epoch 42: val_accuracy did not improve from 0.50962\n",
      "\u001b[1m104/104\u001b[0m \u001b[32m━━━━━━━━━━━━━━━━━━━━\u001b[0m\u001b[37m\u001b[0m \u001b[1m99s\u001b[0m 949ms/step - accuracy: 0.4817 - loss: 1.1377 - val_accuracy: 0.4748 - val_loss: 1.1233 - learning_rate: 5.0000e-05\n",
      "Epoch 43/50\n",
      "\u001b[1m104/104\u001b[0m \u001b[32m━━━━━━━━━━━━━━━━━━━━\u001b[0m\u001b[37m\u001b[0m \u001b[1m0s\u001b[0m 619ms/step - accuracy: 0.4754 - loss: 1.1444\n",
      "Epoch 43: val_accuracy did not improve from 0.50962\n",
      "\u001b[1m104/104\u001b[0m \u001b[32m━━━━━━━━━━━━━━━━━━━━\u001b[0m\u001b[37m\u001b[0m \u001b[1m90s\u001b[0m 865ms/step - accuracy: 0.4754 - loss: 1.1444 - val_accuracy: 0.4964 - val_loss: 1.1185 - learning_rate: 5.0000e-05\n",
      "Epoch 44/50\n",
      "\u001b[1m104/104\u001b[0m \u001b[32m━━━━━━━━━━━━━━━━━━━━\u001b[0m\u001b[37m\u001b[0m \u001b[1m0s\u001b[0m 769ms/step - accuracy: 0.4763 - loss: 1.1364\n",
      "Epoch 44: val_accuracy did not improve from 0.50962\n",
      "\u001b[1m104/104\u001b[0m \u001b[32m━━━━━━━━━━━━━━━━━━━━\u001b[0m\u001b[37m\u001b[0m \u001b[1m103s\u001b[0m 980ms/step - accuracy: 0.4763 - loss: 1.1364 - val_accuracy: 0.4880 - val_loss: 1.1114 - learning_rate: 5.0000e-05\n",
      "Epoch 45/50\n",
      "\u001b[1m104/104\u001b[0m \u001b[32m━━━━━━━━━━━━━━━━━━━━\u001b[0m\u001b[37m\u001b[0m \u001b[1m0s\u001b[0m 819ms/step - accuracy: 0.4752 - loss: 1.1385\n",
      "Epoch 45: val_accuracy did not improve from 0.50962\n",
      "\u001b[1m104/104\u001b[0m \u001b[32m━━━━━━━━━━━━━━━━━━━━\u001b[0m\u001b[37m\u001b[0m \u001b[1m110s\u001b[0m 1s/step - accuracy: 0.4752 - loss: 1.1385 - val_accuracy: 0.4808 - val_loss: 1.1159 - learning_rate: 5.0000e-05\n",
      "Epoch 46/50\n",
      "\u001b[1m104/104\u001b[0m \u001b[32m━━━━━━━━━━━━━━━━━━━━\u001b[0m\u001b[37m\u001b[0m \u001b[1m0s\u001b[0m 665ms/step - accuracy: 0.4989 - loss: 1.1179\n",
      "Epoch 46: val_accuracy did not improve from 0.50962\n",
      "\u001b[1m104/104\u001b[0m \u001b[32m━━━━━━━━━━━━━━━━━━━━\u001b[0m\u001b[37m\u001b[0m \u001b[1m90s\u001b[0m 861ms/step - accuracy: 0.4987 - loss: 1.1181 - val_accuracy: 0.4748 - val_loss: 1.1280 - learning_rate: 5.0000e-05\n",
      "Epoch 47/50\n",
      "\u001b[1m104/104\u001b[0m \u001b[32m━━━━━━━━━━━━━━━━━━━━\u001b[0m\u001b[37m\u001b[0m \u001b[1m0s\u001b[0m 753ms/step - accuracy: 0.4789 - loss: 1.1440\n",
      "Epoch 47: val_accuracy did not improve from 0.50962\n",
      "\u001b[1m104/104\u001b[0m \u001b[32m━━━━━━━━━━━━━━━━━━━━\u001b[0m\u001b[37m\u001b[0m \u001b[1m95s\u001b[0m 908ms/step - accuracy: 0.4789 - loss: 1.1440 - val_accuracy: 0.5000 - val_loss: 1.1032 - learning_rate: 5.0000e-05\n",
      "Epoch 48/50\n",
      "\u001b[1m104/104\u001b[0m \u001b[32m━━━━━━━━━━━━━━━━━━━━\u001b[0m\u001b[37m\u001b[0m \u001b[1m0s\u001b[0m 774ms/step - accuracy: 0.4844 - loss: 1.1470\n",
      "Epoch 48: val_accuracy did not improve from 0.50962\n",
      "\u001b[1m104/104\u001b[0m \u001b[32m━━━━━━━━━━━━━━━━━━━━\u001b[0m\u001b[37m\u001b[0m \u001b[1m102s\u001b[0m 982ms/step - accuracy: 0.4845 - loss: 1.1469 - val_accuracy: 0.4976 - val_loss: 1.1108 - learning_rate: 5.0000e-05\n",
      "Epoch 49/50\n",
      "\u001b[1m104/104\u001b[0m \u001b[32m━━━━━━━━━━━━━━━━━━━━\u001b[0m\u001b[37m\u001b[0m \u001b[1m0s\u001b[0m 730ms/step - accuracy: 0.4584 - loss: 1.1692\n",
      "Epoch 49: val_accuracy did not improve from 0.50962\n",
      "\u001b[1m104/104\u001b[0m \u001b[32m━━━━━━━━━━━━━━━━━━━━\u001b[0m\u001b[37m\u001b[0m \u001b[1m94s\u001b[0m 896ms/step - accuracy: 0.4586 - loss: 1.1690 - val_accuracy: 0.5072 - val_loss: 1.1078 - learning_rate: 5.0000e-05\n",
      "Epoch 50/50\n",
      "\u001b[1m104/104\u001b[0m \u001b[32m━━━━━━━━━━━━━━━━━━━━\u001b[0m\u001b[37m\u001b[0m \u001b[1m0s\u001b[0m 784ms/step - accuracy: 0.4765 - loss: 1.1445\n",
      "Epoch 50: val_accuracy did not improve from 0.50962\n",
      "\n",
      "Epoch 50: ReduceLROnPlateau reducing learning rate to 2.499999936844688e-05.\n",
      "\u001b[1m104/104\u001b[0m \u001b[32m━━━━━━━━━━━━━━━━━━━━\u001b[0m\u001b[37m\u001b[0m \u001b[1m109s\u001b[0m 1s/step - accuracy: 0.4765 - loss: 1.1445 - val_accuracy: 0.5048 - val_loss: 1.1108 - learning_rate: 5.0000e-05\n",
      "Restoring model weights from the end of the best epoch: 47.\n"
     ]
    },
    {
     "data": {
      "image/png": "[encoded data removed]",
      "text/plain": [
       "<Figure size 800x400 with 1 Axes>"
      ]
     },
     "metadata": {},
     "output_type": "display_data"
    }
   ],
   "source": [
    "history1 = model.fit(\n",
    "    train_dataset,\n",
    "    epochs=50,\n",
    "    validation_data=val_dataset,\n",
    "    callbacks=[early_stop, checkpoint, reduce_lr],\n",
    "    verbose=1\n",
    ")\n",
    "plt.figure(figsize=(8,4))\n",
    "plt.plot(history1.history[\"accuracy\"], label=\"Train Acc (Phase 1)\")\n",
    "plt.plot(history1.history[\"val_accuracy\"], label=\"Val Acc (Phase 1)\")\n",
    "plt.legend()\n",
    "plt.show()\n"
   ]
  },
  {
   "cell_type": "markdown",
   "metadata": {},
   "source": [
    "## fine tune model ##"
   ]
  },
  {
   "cell_type": "code",
   "execution_count": 17,
   "metadata": {},
   "outputs": [
    {
     "name": "stdout",
     "output_type": "stream",
     "text": [
      "Epoch 1/20\n"
     ]
    },
    {
     "name": "stderr",
     "output_type": "stream",
     "text": [
      "2025-04-26 15:39:52.494743: E external/local_xla/xla/service/slow_operation_alarm.cc:65] Trying algorithm eng0{} for conv (f32[32,256,45,45]{3,2,1,0}, u8[0]{0}) custom-call(f32[32,128,45,45]{3,2,1,0}, f32[256,128,3,3]{3,2,1,0}, f32[256]{0}), window={size=3x3 pad=1_1x1_1}, dim_labels=bf01_oi01->bf01, custom_call_target=\"__cudnn$convBiasActivationForward\", backend_config={\"cudnn_conv_backend_config\":{\"activation_mode\":\"kNone\",\"conv_result_scale\":1,\"leakyrelu_alpha\":0,\"side_input_scale\":0},\"force_earliest_schedule\":false,\"operation_queue_id\":\"0\",\"wait_on_operation_queues\":[]} is taking a while...\n",
      "2025-04-26 15:39:52.679792: E external/local_xla/xla/service/slow_operation_alarm.cc:133] The operation took 2.884442853s\n",
      "Trying algorithm eng0{} for conv (f32[32,256,45,45]{3,2,1,0}, u8[0]{0}) custom-call(f32[32,128,45,45]{3,2,1,0}, f32[256,128,3,3]{3,2,1,0}, f32[256]{0}), window={size=3x3 pad=1_1x1_1}, dim_labels=bf01_oi01->bf01, custom_call_target=\"__cudnn$convBiasActivationForward\", backend_config={\"cudnn_conv_backend_config\":{\"activation_mode\":\"kNone\",\"conv_result_scale\":1,\"leakyrelu_alpha\":0,\"side_input_scale\":0},\"force_earliest_schedule\":false,\"operation_queue_id\":\"0\",\"wait_on_operation_queues\":[]} is taking a while...\n"
     ]
    },
    {
     "name": "stdout",
     "output_type": "stream",
     "text": [
      "\u001b[1m104/104\u001b[0m \u001b[32m━━━━━━━━━━━━━━━━━━━━\u001b[0m\u001b[37m\u001b[0m \u001b[1m0s\u001b[0m 1s/step - accuracy: 0.3120 - loss: 1.4941\n",
      "Epoch 1: val_loss improved from inf to 1.38697, saving model to best_model_phase2.h5\n"
     ]
    },
    {
     "name": "stderr",
     "output_type": "stream",
     "text": [
      "WARNING:absl:You are saving your model as an HDF5 file via `model.save()` or `keras.saving.save_model(model)`. This file format is considered legacy. We recommend using instead the native Keras format, e.g. `model.save('my_model.keras')` or `keras.saving.save_model(model, 'my_model.keras')`. \n"
     ]
    },
    {
     "name": "stdout",
     "output_type": "stream",
     "text": [
      "\u001b[1m104/104\u001b[0m \u001b[32m━━━━━━━━━━━━━━━━━━━━\u001b[0m\u001b[37m\u001b[0m \u001b[1m157s\u001b[0m 1s/step - accuracy: 0.3123 - loss: 1.4932 - val_accuracy: 0.2668 - val_loss: 1.3870 - learning_rate: 1.0000e-05\n",
      "Epoch 2/20\n",
      "\u001b[1m104/104\u001b[0m \u001b[32m━━━━━━━━━━━━━━━━━━━━\u001b[0m\u001b[37m\u001b[0m \u001b[1m0s\u001b[0m 724ms/step - accuracy: 0.3967 - loss: 1.2931\n",
      "Epoch 2: val_loss improved from 1.38697 to 1.17867, saving model to best_model_phase2.h5\n"
     ]
    },
    {
     "name": "stderr",
     "output_type": "stream",
     "text": [
      "WARNING:absl:You are saving your model as an HDF5 file via `model.save()` or `keras.saving.save_model(model)`. This file format is considered legacy. We recommend using instead the native Keras format, e.g. `model.save('my_model.keras')` or `keras.saving.save_model(model, 'my_model.keras')`. \n"
     ]
    },
    {
     "name": "stdout",
     "output_type": "stream",
     "text": [
      "\u001b[1m104/104\u001b[0m \u001b[32m━━━━━━━━━━━━━━━━━━━━\u001b[0m\u001b[37m\u001b[0m \u001b[1m96s\u001b[0m 914ms/step - accuracy: 0.3969 - loss: 1.2927 - val_accuracy: 0.4615 - val_loss: 1.1787 - learning_rate: 1.0000e-05\n",
      "Epoch 3/20\n",
      "\u001b[1m104/104\u001b[0m \u001b[32m━━━━━━━━━━━━━━━━━━━━\u001b[0m\u001b[37m\u001b[0m \u001b[1m0s\u001b[0m 763ms/step - accuracy: 0.4376 - loss: 1.2115\n",
      "Epoch 3: val_loss improved from 1.17867 to 1.15716, saving model to best_model_phase2.h5\n"
     ]
    },
    {
     "name": "stderr",
     "output_type": "stream",
     "text": [
      "WARNING:absl:You are saving your model as an HDF5 file via `model.save()` or `keras.saving.save_model(model)`. This file format is considered legacy. We recommend using instead the native Keras format, e.g. `model.save('my_model.keras')` or `keras.saving.save_model(model, 'my_model.keras')`. \n"
     ]
    },
    {
     "name": "stdout",
     "output_type": "stream",
     "text": [
      "\u001b[1m104/104\u001b[0m \u001b[32m━━━━━━━━━━━━━━━━━━━━\u001b[0m\u001b[37m\u001b[0m \u001b[1m102s\u001b[0m 980ms/step - accuracy: 0.4377 - loss: 1.2114 - val_accuracy: 0.4832 - val_loss: 1.1572 - learning_rate: 1.0000e-05\n",
      "Epoch 4/20\n",
      "\u001b[1m104/104\u001b[0m \u001b[32m━━━━━━━━━━━━━━━━━━━━\u001b[0m\u001b[37m\u001b[0m \u001b[1m0s\u001b[0m 867ms/step - accuracy: 0.4636 - loss: 1.2020\n",
      "Epoch 4: val_loss improved from 1.15716 to 1.05780, saving model to best_model_phase2.h5\n"
     ]
    },
    {
     "name": "stderr",
     "output_type": "stream",
     "text": [
      "WARNING:absl:You are saving your model as an HDF5 file via `model.save()` or `keras.saving.save_model(model)`. This file format is considered legacy. We recommend using instead the native Keras format, e.g. `model.save('my_model.keras')` or `keras.saving.save_model(model, 'my_model.keras')`. \n"
     ]
    },
    {
     "name": "stdout",
     "output_type": "stream",
     "text": [
      "\u001b[1m104/104\u001b[0m \u001b[32m━━━━━━━━━━━━━━━━━━━━\u001b[0m\u001b[37m\u001b[0m \u001b[1m116s\u001b[0m 1s/step - accuracy: 0.4637 - loss: 1.2017 - val_accuracy: 0.5264 - val_loss: 1.0578 - learning_rate: 1.0000e-05\n",
      "Epoch 5/20\n",
      "\u001b[1m104/104\u001b[0m \u001b[32m━━━━━━━━━━━━━━━━━━━━\u001b[0m\u001b[37m\u001b[0m \u001b[1m0s\u001b[0m 1s/step - accuracy: 0.4679 - loss: 1.1585\n",
      "Epoch 5: val_loss did not improve from 1.05780\n",
      "\u001b[1m104/104\u001b[0m \u001b[32m━━━━━━━━━━━━━━━━━━━━\u001b[0m\u001b[37m\u001b[0m \u001b[1m130s\u001b[0m 1s/step - accuracy: 0.4681 - loss: 1.1584 - val_accuracy: 0.5240 - val_loss: 1.0816 - learning_rate: 1.0000e-05\n",
      "Epoch 6/20\n",
      "\u001b[1m104/104\u001b[0m \u001b[32m━━━━━━━━━━━━━━━━━━━━\u001b[0m\u001b[37m\u001b[0m \u001b[1m0s\u001b[0m 1s/step - accuracy: 0.4710 - loss: 1.1754\n",
      "Epoch 6: val_loss did not improve from 1.05780\n",
      "\u001b[1m104/104\u001b[0m \u001b[32m━━━━━━━━━━━━━━━━━━━━\u001b[0m\u001b[37m\u001b[0m \u001b[1m155s\u001b[0m 1s/step - accuracy: 0.4712 - loss: 1.1751 - val_accuracy: 0.5373 - val_loss: 1.0642 - learning_rate: 1.0000e-05\n",
      "Epoch 7/20\n",
      "\u001b[1m104/104\u001b[0m \u001b[32m━━━━━━━━━━━━━━━━━━━━\u001b[0m\u001b[37m\u001b[0m \u001b[1m0s\u001b[0m 857ms/step - accuracy: 0.4984 - loss: 1.1250\n",
      "Epoch 7: val_loss did not improve from 1.05780\n",
      "\n",
      "Epoch 7: ReduceLROnPlateau reducing learning rate to 4.999999873689376e-06.\n",
      "\u001b[1m104/104\u001b[0m \u001b[32m━━━━━━━━━━━━━━━━━━━━\u001b[0m\u001b[37m\u001b[0m \u001b[1m112s\u001b[0m 1s/step - accuracy: 0.4982 - loss: 1.1252 - val_accuracy: 0.5120 - val_loss: 1.2232 - learning_rate: 1.0000e-05\n",
      "Epoch 8/20\n",
      "\u001b[1m104/104\u001b[0m \u001b[32m━━━━━━━━━━━━━━━━━━━━\u001b[0m\u001b[37m\u001b[0m \u001b[1m0s\u001b[0m 913ms/step - accuracy: 0.4990 - loss: 1.1278\n",
      "Epoch 8: val_loss improved from 1.05780 to 0.98731, saving model to best_model_phase2.h5\n"
     ]
    },
    {
     "name": "stderr",
     "output_type": "stream",
     "text": [
      "WARNING:absl:You are saving your model as an HDF5 file via `model.save()` or `keras.saving.save_model(model)`. This file format is considered legacy. We recommend using instead the native Keras format, e.g. `model.save('my_model.keras')` or `keras.saving.save_model(model, 'my_model.keras')`. \n"
     ]
    },
    {
     "name": "stdout",
     "output_type": "stream",
     "text": [
      "\u001b[1m104/104\u001b[0m \u001b[32m━━━━━━━━━━━━━━━━━━━━\u001b[0m\u001b[37m\u001b[0m \u001b[1m111s\u001b[0m 1s/step - accuracy: 0.4990 - loss: 1.1273 - val_accuracy: 0.5709 - val_loss: 0.9873 - learning_rate: 5.0000e-06\n",
      "Epoch 9/20\n",
      "\u001b[1m104/104\u001b[0m \u001b[32m━━━━━━━━━━━━━━━━━━━━\u001b[0m\u001b[37m\u001b[0m \u001b[1m0s\u001b[0m 630ms/step - accuracy: 0.5243 - loss: 1.0592\n",
      "Epoch 9: val_loss did not improve from 0.98731\n",
      "\u001b[1m104/104\u001b[0m \u001b[32m━━━━━━━━━━━━━━━━━━━━\u001b[0m\u001b[37m\u001b[0m \u001b[1m80s\u001b[0m 769ms/step - accuracy: 0.5242 - loss: 1.0592 - val_accuracy: 0.4411 - val_loss: 1.1800 - learning_rate: 5.0000e-06\n",
      "Epoch 10/20\n",
      "\u001b[1m104/104\u001b[0m \u001b[32m━━━━━━━━━━━━━━━━━━━━\u001b[0m\u001b[37m\u001b[0m \u001b[1m0s\u001b[0m 592ms/step - accuracy: 0.5044 - loss: 1.0870\n",
      "Epoch 10: val_loss did not improve from 0.98731\n",
      "\u001b[1m104/104\u001b[0m \u001b[32m━━━━━━━━━━━━━━━━━━━━\u001b[0m\u001b[37m\u001b[0m \u001b[1m80s\u001b[0m 747ms/step - accuracy: 0.5046 - loss: 1.0869 - val_accuracy: 0.5156 - val_loss: 1.0528 - learning_rate: 5.0000e-06\n",
      "Epoch 11/20\n",
      "\u001b[1m104/104\u001b[0m \u001b[32m━━━━━━━━━━━━━━━━━━━━\u001b[0m\u001b[37m\u001b[0m \u001b[1m0s\u001b[0m 624ms/step - accuracy: 0.5467 - loss: 1.0129\n",
      "Epoch 11: val_loss improved from 0.98731 to 0.97202, saving model to best_model_phase2.h5\n"
     ]
    },
    {
     "name": "stderr",
     "output_type": "stream",
     "text": [
      "WARNING:absl:You are saving your model as an HDF5 file via `model.save()` or `keras.saving.save_model(model)`. This file format is considered legacy. We recommend using instead the native Keras format, e.g. `model.save('my_model.keras')` or `keras.saving.save_model(model, 'my_model.keras')`. \n"
     ]
    },
    {
     "name": "stdout",
     "output_type": "stream",
     "text": [
      "\u001b[1m104/104\u001b[0m \u001b[32m━━━━━━━━━━━━━━━━━━━━\u001b[0m\u001b[37m\u001b[0m \u001b[1m84s\u001b[0m 806ms/step - accuracy: 0.5467 - loss: 1.0130 - val_accuracy: 0.5577 - val_loss: 0.9720 - learning_rate: 5.0000e-06\n",
      "Epoch 12/20\n",
      "\u001b[1m104/104\u001b[0m \u001b[32m━━━━━━━━━━━━━━━━━━━━\u001b[0m\u001b[37m\u001b[0m \u001b[1m0s\u001b[0m 632ms/step - accuracy: 0.5493 - loss: 1.0180\n",
      "Epoch 12: val_loss improved from 0.97202 to 0.96452, saving model to best_model_phase2.h5\n"
     ]
    },
    {
     "name": "stderr",
     "output_type": "stream",
     "text": [
      "WARNING:absl:You are saving your model as an HDF5 file via `model.save()` or `keras.saving.save_model(model)`. This file format is considered legacy. We recommend using instead the native Keras format, e.g. `model.save('my_model.keras')` or `keras.saving.save_model(model, 'my_model.keras')`. \n"
     ]
    },
    {
     "name": "stdout",
     "output_type": "stream",
     "text": [
      "\u001b[1m104/104\u001b[0m \u001b[32m━━━━━━━━━━━━━━━━━━━━\u001b[0m\u001b[37m\u001b[0m \u001b[1m80s\u001b[0m 766ms/step - accuracy: 0.5492 - loss: 1.0179 - val_accuracy: 0.5745 - val_loss: 0.9645 - learning_rate: 5.0000e-06\n",
      "Epoch 13/20\n",
      "\u001b[1m104/104\u001b[0m \u001b[32m━━━━━━━━━━━━━━━━━━━━\u001b[0m\u001b[37m\u001b[0m \u001b[1m0s\u001b[0m 614ms/step - accuracy: 0.5480 - loss: 1.0459\n",
      "Epoch 13: val_loss did not improve from 0.96452\n",
      "\u001b[1m104/104\u001b[0m \u001b[32m━━━━━━━━━━━━━━━━━━━━\u001b[0m\u001b[37m\u001b[0m \u001b[1m81s\u001b[0m 776ms/step - accuracy: 0.5479 - loss: 1.0459 - val_accuracy: 0.5168 - val_loss: 1.0649 - learning_rate: 5.0000e-06\n",
      "Epoch 14/20\n",
      "\u001b[1m104/104\u001b[0m \u001b[32m━━━━━━━━━━━━━━━━━━━━\u001b[0m\u001b[37m\u001b[0m \u001b[1m0s\u001b[0m 567ms/step - accuracy: 0.5437 - loss: 1.0371\n",
      "Epoch 14: val_loss did not improve from 0.96452\n",
      "\u001b[1m104/104\u001b[0m \u001b[32m━━━━━━━━━━━━━━━━━━━━\u001b[0m\u001b[37m\u001b[0m \u001b[1m76s\u001b[0m 731ms/step - accuracy: 0.5438 - loss: 1.0370 - val_accuracy: 0.5493 - val_loss: 0.9860 - learning_rate: 5.0000e-06\n",
      "Epoch 15/20\n",
      "\u001b[1m104/104\u001b[0m \u001b[32m━━━━━━━━━━━━━━━━━━━━\u001b[0m\u001b[37m\u001b[0m \u001b[1m0s\u001b[0m 585ms/step - accuracy: 0.5295 - loss: 1.0462\n",
      "Epoch 15: val_loss did not improve from 0.96452\n",
      "\n",
      "Epoch 15: ReduceLROnPlateau reducing learning rate to 2.499999936844688e-06.\n",
      "\u001b[1m104/104\u001b[0m \u001b[32m━━━━━━━━━━━━━━━━━━━━\u001b[0m\u001b[37m\u001b[0m \u001b[1m78s\u001b[0m 749ms/step - accuracy: 0.5293 - loss: 1.0463 - val_accuracy: 0.5721 - val_loss: 0.9767 - learning_rate: 5.0000e-06\n",
      "Epoch 16/20\n",
      "\u001b[1m104/104\u001b[0m \u001b[32m━━━━━━━━━━━━━━━━━━━━\u001b[0m\u001b[37m\u001b[0m \u001b[1m0s\u001b[0m 627ms/step - accuracy: 0.5524 - loss: 0.9922\n",
      "Epoch 16: val_loss improved from 0.96452 to 0.95225, saving model to best_model_phase2.h5\n"
     ]
    },
    {
     "name": "stderr",
     "output_type": "stream",
     "text": [
      "WARNING:absl:You are saving your model as an HDF5 file via `model.save()` or `keras.saving.save_model(model)`. This file format is considered legacy. We recommend using instead the native Keras format, e.g. `model.save('my_model.keras')` or `keras.saving.save_model(model, 'my_model.keras')`. \n"
     ]
    },
    {
     "name": "stdout",
     "output_type": "stream",
     "text": [
      "\u001b[1m104/104\u001b[0m \u001b[32m━━━━━━━━━━━━━━━━━━━━\u001b[0m\u001b[37m\u001b[0m \u001b[1m88s\u001b[0m 840ms/step - accuracy: 0.5525 - loss: 0.9920 - val_accuracy: 0.5709 - val_loss: 0.9522 - learning_rate: 2.5000e-06\n",
      "Epoch 17/20\n",
      "\u001b[1m104/104\u001b[0m \u001b[32m━━━━━━━━━━━━━━━━━━━━\u001b[0m\u001b[37m\u001b[0m \u001b[1m0s\u001b[0m 624ms/step - accuracy: 0.5694 - loss: 0.9729\n",
      "Epoch 17: val_loss did not improve from 0.95225\n",
      "\u001b[1m104/104\u001b[0m \u001b[32m━━━━━━━━━━━━━━━━━━━━\u001b[0m\u001b[37m\u001b[0m \u001b[1m82s\u001b[0m 785ms/step - accuracy: 0.5694 - loss: 0.9729 - val_accuracy: 0.5649 - val_loss: 0.9552 - learning_rate: 2.5000e-06\n",
      "Epoch 18/20\n",
      "\u001b[1m104/104\u001b[0m \u001b[32m━━━━━━━━━━━━━━━━━━━━\u001b[0m\u001b[37m\u001b[0m \u001b[1m0s\u001b[0m 585ms/step - accuracy: 0.5827 - loss: 0.9677\n",
      "Epoch 18: val_loss improved from 0.95225 to 0.93361, saving model to best_model_phase2.h5\n"
     ]
    },
    {
     "name": "stderr",
     "output_type": "stream",
     "text": [
      "WARNING:absl:You are saving your model as an HDF5 file via `model.save()` or `keras.saving.save_model(model)`. This file format is considered legacy. We recommend using instead the native Keras format, e.g. `model.save('my_model.keras')` or `keras.saving.save_model(model, 'my_model.keras')`. \n"
     ]
    },
    {
     "name": "stdout",
     "output_type": "stream",
     "text": [
      "\u001b[1m104/104\u001b[0m \u001b[32m━━━━━━━━━━━━━━━━━━━━\u001b[0m\u001b[37m\u001b[0m \u001b[1m79s\u001b[0m 763ms/step - accuracy: 0.5827 - loss: 0.9678 - val_accuracy: 0.5853 - val_loss: 0.9336 - learning_rate: 2.5000e-06\n",
      "Epoch 19/20\n",
      "\u001b[1m104/104\u001b[0m \u001b[32m━━━━━━━━━━━━━━━━━━━━\u001b[0m\u001b[37m\u001b[0m \u001b[1m0s\u001b[0m 655ms/step - accuracy: 0.5842 - loss: 0.9694\n",
      "Epoch 19: val_loss did not improve from 0.93361\n",
      "\u001b[1m104/104\u001b[0m \u001b[32m━━━━━━━━━━━━━━━━━━━━\u001b[0m\u001b[37m\u001b[0m \u001b[1m81s\u001b[0m 780ms/step - accuracy: 0.5841 - loss: 0.9694 - val_accuracy: 0.5709 - val_loss: 0.9650 - learning_rate: 2.5000e-06\n",
      "Epoch 20/20\n",
      "\u001b[1m104/104\u001b[0m \u001b[32m━━━━━━━━━━━━━━━━━━━━\u001b[0m\u001b[37m\u001b[0m \u001b[1m0s\u001b[0m 622ms/step - accuracy: 0.5857 - loss: 0.9669\n",
      "Epoch 20: val_loss did not improve from 0.93361\n",
      "\u001b[1m104/104\u001b[0m \u001b[32m━━━━━━━━━━━━━━━━━━━━\u001b[0m\u001b[37m\u001b[0m \u001b[1m78s\u001b[0m 753ms/step - accuracy: 0.5857 - loss: 0.9669 - val_accuracy: 0.5805 - val_loss: 0.9421 - learning_rate: 2.5000e-06\n",
      "Restoring model weights from the end of the best epoch: 18.\n"
     ]
    },
    {
     "data": {
      "image/png": "[encoded data removed]",
      "text/plain": [
       "<Figure size 800x400 with 1 Axes>"
      ]
     },
     "metadata": {},
     "output_type": "display_data"
    }
   ],
   "source": [
    "conv_base.trainable = True\n",
    "for layer in conv_base.layers[:-15]:\n",
    "    layer.trainable = False\n",
    "\n",
    "model.compile(\n",
    "    loss=\"sparse_categorical_crossentropy\",\n",
    "    optimizer=keras.optimizers.Adam(learning_rate=1e-5),  \n",
    "    metrics=[\"accuracy\"]\n",
    ")\n",
    "\n",
    "\n",
    "checkpoint_phase2 = ModelCheckpoint(\n",
    "    'best_model_phase2.h5',\n",
    "    monitor='val_loss',\n",
    "    save_best_only=True,\n",
    "    verbose=1\n",
    ")\n",
    "\n",
    "history2 = model.fit(\n",
    "    train_dataset,\n",
    "    epochs=20,\n",
    "    validation_data=val_dataset,\n",
    "    callbacks=[early_stop, checkpoint_phase2,reduce_lr],\n",
    "    verbose=1\n",
    ")\n",
    "\n",
    "plt.figure(figsize=(8,4))\n",
    "plt.plot(history2.history[\"accuracy\"], label=\"Train Acc (Phase 2)\")\n",
    "plt.plot(history2.history[\"val_accuracy\"], label=\"Val Acc (Phase 2)\")\n",
    "plt.legend()\n",
    "plt.show()"
   ]
  },
  {
   "cell_type": "code",
   "execution_count": 18,
   "metadata": {},
   "outputs": [
    {
     "name": "stdout",
     "output_type": "stream",
     "text": [
      "=== Evaluate on val_dataset ===\n",
      "\u001b[1m26/26\u001b[0m \u001b[32m━━━━━━━━━━━━━━━━━━━━\u001b[0m\u001b[37m\u001b[0m \u001b[1m16s\u001b[0m 613ms/step - accuracy: 0.5852 - loss: 0.9353\n",
      "Final Validation Loss = 0.9336\n",
      "Final Validation Acc  = 0.5853\n"
     ]
    }
   ],
   "source": [
    "print(\"=== Evaluate on val_dataset ===\")\n",
    "val_loss, val_acc = model.evaluate(val_dataset, verbose=1)\n",
    "print(f\"Final Validation Loss = {val_loss:.4f}\")\n",
    "print(f\"Final Validation Acc  = {val_acc:.4f}\")"
   ]
  },
  {
   "cell_type": "code",
   "execution_count": 19,
   "metadata": {},
   "outputs": [
    {
     "name": "stderr",
     "output_type": "stream",
     "text": [
      "WARNING:absl:You are saving your model as an HDF5 file via `model.save()` or `keras.saving.save_model(model)`. This file format is considered legacy. We recommend using instead the native Keras format, e.g. `model.save('my_model.keras')` or `keras.saving.save_model(model, 'my_model.keras')`. \n"
     ]
    },
    {
     "name": "stdout",
     "output_type": "stream",
     "text": [
      "Model saved to vgg16_model.h5\n"
     ]
    }
   ],
   "source": [
    "model.save(\"vgg16_model.h5\")\n",
    "print(\"Model saved to vgg16_model.h5\")"
   ]
  },
  {
   "cell_type": "code",
   "execution_count": 32,
   "metadata": {},
   "outputs": [],
   "source": [
    "model.save(\"vgg16_model.keras\")\n"
   ]
  },
  {
   "cell_type": "markdown",
   "metadata": {},
   "source": [
    "#  K-Fold Cross Validation"
   ]
  },
  {
   "cell_type": "code",
   "execution_count": 20,
   "metadata": {},
   "outputs": [],
   "source": [
    "from sklearn.model_selection import StratifiedKFold\n",
    "from sklearn.metrics import classification_report, confusion_matrix, ConfusionMatrixDisplay\n",
    "\n"
   ]
  },
  {
   "cell_type": "code",
   "execution_count": 23,
   "metadata": {},
   "outputs": [],
   "source": [
    "def build_vgg16_model():\n",
    "    conv_base = keras.applications.vgg16.VGG16(\n",
    "        weights=\"imagenet\",\n",
    "        include_top=False,\n",
    "        input_shape=(128, 180, 3)   # Điều chỉnh đúng shape dữ liệu\n",
    "    )\n",
    "    conv_base.trainable = False  # Phase 1: Freeze\n",
    "\n",
    "    inputs = keras.Input(shape=(128, 180, 3))\n",
    "    x = keras.applications.vgg16.preprocess_input(inputs)\n",
    "    x = conv_base(x, training=False)\n",
    "    x = layers.Flatten()(x)\n",
    "    x = layers.Dense(256, activation=\"relu\", kernel_regularizer=regularizers.l2(0.001))(x)\n",
    "    x = layers.Dropout(0.5)(x)\n",
    "    outputs = layers.Dense(num_classes, activation=\"softmax\")(x)\n",
    "\n",
    "    model = keras.Model(inputs=inputs, outputs=outputs)\n",
    "\n",
    "    model.compile(\n",
    "        optimizer=keras.optimizers.RMSprop(learning_rate=1e-4),\n",
    "        loss=\"sparse_categorical_crossentropy\",\n",
    "        metrics=[\"accuracy\"]\n",
    "    )\n",
    "    return model, conv_base\n"
   ]
  },
  {
   "cell_type": "code",
   "execution_count": 24,
   "metadata": {},
   "outputs": [
    {
     "name": "stdout",
     "output_type": "stream",
     "text": [
      "\n",
      "===== Fold 1/5 =====\n"
     ]
    },
    {
     "name": "stderr",
     "output_type": "stream",
     "text": [
      "/mnt/d/1203_ISEmotalk/tf/lib/python3.12/site-packages/keras/src/trainers/data_adapters/py_dataset_adapter.py:121: UserWarning: Your `PyDataset` class should call `super().__init__(**kwargs)` in its constructor. `**kwargs` can include `workers`, `use_multiprocessing`, `max_queue_size`. Do not pass these arguments to `fit()`, as they will be ignored.\n",
      "  self._warn_if_super_not_called()\n",
      "2025-04-26 16:22:20.875544: E external/local_xla/xla/service/slow_operation_alarm.cc:133] The operation took 2.533835971s\n",
      "Trying algorithm eng15{k5=1,k6=0,k7=1,k10=4} for conv (f32[32,256,32,45]{3,2,1,0}, u8[0]{0}) custom-call(f32[32,256,32,45]{3,2,1,0}, f32[256,256,3,3]{3,2,1,0}, f32[256]{0}), window={size=3x3 pad=1_1x1_1}, dim_labels=bf01_oi01->bf01, custom_call_target=\"__cudnn$convBiasActivationForward\", backend_config={\"cudnn_conv_backend_config\":{\"activation_mode\":\"kRelu\",\"conv_result_scale\":1,\"leakyrelu_alpha\":0,\"side_input_scale\":0},\"force_earliest_schedule\":false,\"operation_queue_id\":\"0\",\"wait_on_operation_queues\":[]} is taking a while...\n"
     ]
    },
    {
     "name": "stdout",
     "output_type": "stream",
     "text": [
      "✅ Fold 1 - Final Validation Accuracy: 0.5300\n",
      "\n",
      "===== Fold 2/5 =====\n",
      "✅ Fold 2 - Final Validation Accuracy: 0.5709\n",
      "\n",
      "===== Fold 3/5 =====\n",
      "✅ Fold 3 - Final Validation Accuracy: 0.5349\n",
      "\n",
      "===== Fold 4/5 =====\n",
      "✅ Fold 4 - Final Validation Accuracy: 0.5637\n",
      "\n",
      "===== Fold 5/5 =====\n",
      "✅ Fold 5 - Final Validation Accuracy: 0.5337\n"
     ]
    }
   ],
   "source": [
    "from sklearn.model_selection import StratifiedKFold\n",
    "import numpy as np\n",
    "\n",
    "k_folds = 5\n",
    "skf = StratifiedKFold(n_splits=k_folds, shuffle=True, random_state=42)\n",
    "\n",
    "accuracies = []\n",
    "fold_idx = 1\n",
    "\n",
    "for train_idx, val_idx in skf.split(combined_df['Path'], combined_df['Label']):\n",
    "    print(f\"\\n===== Fold {fold_idx}/{k_folds} =====\")\n",
    "\n",
    "    train_df = combined_df.iloc[train_idx]\n",
    "    val_df   = combined_df.iloc[val_idx]\n",
    "\n",
    "    # Tạo Dataset\n",
    "    train_dataset = SpectrogramDataset(train_df['Path'], train_df['Label'], batch_size=32, shuffle=True)\n",
    "    val_dataset   = SpectrogramDataset(val_df['Path'], val_df['Label'], batch_size=32, shuffle=False)\n",
    "\n",
    "    # Build model & conv_base\n",
    "    model, conv_base = build_vgg16_model()\n",
    "\n",
    "    # Callbacks\n",
    "    early_stop = EarlyStopping(monitor='val_accuracy', patience=5, restore_best_weights=True, verbose=0)\n",
    "    reduce_lr  = ReduceLROnPlateau(monitor='val_loss', factor=0.5, patience=2, verbose=0)\n",
    "\n",
    "    # === Phase 1: Freeze Training ===\n",
    "    model.fit(train_dataset, epochs=20, validation_data=val_dataset, callbacks=[early_stop, reduce_lr], verbose=0)\n",
    "\n",
    "    # === Phase 2: Fine-tune ===\n",
    "    conv_base.trainable = True\n",
    "    for layer in conv_base.layers[:-10]:\n",
    "        layer.trainable = False\n",
    "\n",
    "    model.compile(\n",
    "        optimizer=keras.optimizers.Adam(learning_rate=1e-5),\n",
    "        loss=\"sparse_categorical_crossentropy\",\n",
    "        metrics=[\"accuracy\"]\n",
    "    )\n",
    "\n",
    "    model.fit(train_dataset, epochs=10, validation_data=val_dataset, callbacks=[early_stop, reduce_lr], verbose=0)\n",
    "\n",
    "    # Đánh giá\n",
    "    val_loss, val_acc = model.evaluate(val_dataset, verbose=0)\n",
    "    print(f\"Fold {fold_idx} - Final Validation Accuracy: {val_acc:.4f}\")\n",
    "\n",
    "    accuracies.append(val_acc)\n",
    "    fold_idx += 1\n"
   ]
  },
  {
   "cell_type": "code",
   "execution_count": 25,
   "metadata": {},
   "outputs": [
    {
     "name": "stdout",
     "output_type": "stream",
     "text": [
      "\n",
      "=== K-Fold Cross Validation (5 folds) ===\n",
      "Mean Final Accuracy : 0.5466\n",
      "Standard Deviation  : 0.0171\n"
     ]
    }
   ],
   "source": [
    "mean_acc = np.mean(accuracies)\n",
    "std_acc  = np.std(accuracies)\n",
    "\n",
    "print(f\"\\n=== K-Fold Cross Validation ({k_folds} folds) ===\")\n",
    "print(f\"Mean Final Accuracy : {mean_acc:.4f}\")\n",
    "print(f\"Standard Deviation  : {std_acc:.4f}\")\n"
   ]
  },
  {
   "cell_type": "markdown",
   "metadata": {},
   "source": [
    "# Evalution "
   ]
  },
  {
   "cell_type": "code",
   "execution_count": 29,
   "metadata": {},
   "outputs": [],
   "source": [
    "import matplotlib.pyplot as plt\n",
    "from tensorflow.keras.models import load_model\n",
    "from sklearn.metrics import classification_report, confusion_matrix, ConfusionMatrixDisplay"
   ]
  },
  {
   "cell_type": "code",
   "execution_count": 30,
   "metadata": {},
   "outputs": [],
   "source": [
    "# Giả sử đã load combined_df từ trước\n",
    "from sklearn.model_selection import train_test_split\n",
    "\n",
    "# Chia lại tập validation (nếu chưa có sẵn val_df)\n",
    "train_df, val_df = train_test_split(combined_df, test_size=0.2, stratify=combined_df['Label'], random_state=42)\n",
    "\n",
    "# Tạo lại Dataset cho validation\n",
    "val_dataset = SpectrogramDataset(val_df['Path'], val_df['Label'], batch_size=32, shuffle=False)\n"
   ]
  },
  {
   "cell_type": "code",
   "execution_count": null,
   "metadata": {},
   "outputs": [],
   "source": [
    "\n",
    "model = load_model(\"vgg16_model.keras\")\n"
   ]
  },
  {
   "cell_type": "code",
   "execution_count": null,
   "metadata": {},
   "outputs": [
    {
     "name": "stderr",
     "output_type": "stream",
     "text": [
      "/mnt/d/1203_ISEmotalk/tf/lib/python3.12/site-packages/keras/src/trainers/data_adapters/py_dataset_adapter.py:121: UserWarning: Your `PyDataset` class should call `super().__init__(**kwargs)` in its constructor. `**kwargs` can include `workers`, `use_multiprocessing`, `max_queue_size`. Do not pass these arguments to `fit()`, as they will be ignored.\n",
      "  self._warn_if_super_not_called()\n"
     ]
    },
    {
     "name": "stdout",
     "output_type": "stream",
     "text": [
      "\u001b[1m26/26\u001b[0m \u001b[32m━━━━━━━━━━━━━━━━━━━━\u001b[0m\u001b[37m\u001b[0m \u001b[1m30s\u001b[0m 911ms/step - accuracy: 0.5413 - loss: 1.1591\n",
      "\n",
      "🎯 Validation Accuracy: 0.5385\n",
      "Validation Loss      : 1.1502\n"
     ]
    }
   ],
   "source": [
    "val_loss, val_acc = model.evaluate(val_dataset, verbose=1)\n",
    "print(f\"\\nValidation Accuracy: {val_acc:.4f}\")\n",
    "print(f\"Validation Loss      : {val_loss:.4f}\")\n"
   ]
  },
  {
   "cell_type": "code",
   "execution_count": 36,
   "metadata": {},
   "outputs": [
    {
     "name": "stdout",
     "output_type": "stream",
     "text": [
      "\n",
      "Classification Report:\n",
      "              precision    recall  f1-score   support\n",
      "\n",
      "       angry       0.71      0.65      0.68       220\n",
      "       happy       0.42      0.53      0.47       219\n",
      "     neutral       0.39      0.41      0.40       174\n",
      "         sad       0.67      0.54      0.60       219\n",
      "\n",
      "    accuracy                           0.54       832\n",
      "   macro avg       0.55      0.53      0.54       832\n",
      "weighted avg       0.56      0.54      0.54       832\n",
      "\n"
     ]
    },
    {
     "data": {
      "image/png": "[encoded data removed]",
      "text/plain": [
       "<Figure size 640x480 with 2 Axes>"
      ]
     },
     "metadata": {},
     "output_type": "display_data"
    }
   ],
   "source": [
    "all_preds = []\n",
    "all_labels = []\n",
    "\n",
    "for idx in range(len(val_dataset)):\n",
    "    try:\n",
    "        X_batch, y_batch = val_dataset[idx]\n",
    "        preds = model.predict(X_batch, verbose=0)\n",
    "        all_preds.extend(np.argmax(preds, axis=1))\n",
    "        all_labels.extend(y_batch.tolist())\n",
    "    except RuntimeError as e:\n",
    "        print(f\"Bỏ qua batch lỗi: {e}\")\n",
    "        continue\n",
    "\n",
    "# Classification Report\n",
    "print(\"\\nClassification Report:\")\n",
    "print(classification_report(all_labels, all_preds, target_names=le.classes_))\n",
    "\n",
    "# Confusion Matrix\n",
    "cm = confusion_matrix(all_labels, all_preds)\n",
    "ConfusionMatrixDisplay(confusion_matrix=cm, display_labels=le.classes_).plot(xticks_rotation='vertical')\n",
    "plt.show()\n"
   ]
  }
 ],
 "metadata": {
  "kernelspec": {
   "display_name": "tf",
   "language": "python",
   "name": "python3"
  },
  "language_info": {
   "codemirror_mode": {
    "name": "ipython",
    "version": 3
   },
   "file_extension": ".py",
   "mimetype": "text/x-python",
   "name": "python",
   "nbconvert_exporter": "python",
   "pygments_lexer": "ipython3",
   "version": "3.12.3"
  }
 },
 "nbformat": 4,
 "nbformat_minor": 2
}
